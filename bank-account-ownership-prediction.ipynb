{
 "cells": [
  {
   "cell_type": "markdown",
   "id": "0aea5e4b",
   "metadata": {
    "id": "xMxtPsqcTsSH",
    "papermill": {
     "duration": 0.024987,
     "end_time": "2022-06-08T12:12:16.584386",
     "exception": false,
     "start_time": "2022-06-08T12:12:16.559399",
     "status": "completed"
    },
    "tags": []
   },
   "source": [
    "# Multivariate Analysis (Exploratory Data Analysis)"
   ]
  },
  {
   "cell_type": "markdown",
   "id": "f190e4af",
   "metadata": {
    "id": "kLG2VTrnTvYL",
    "papermill": {
     "duration": 0.026551,
     "end_time": "2022-06-08T12:12:16.641681",
     "exception": false,
     "start_time": "2022-06-08T12:12:16.615130",
     "status": "completed"
    },
    "tags": []
   },
   "source": [
    "## 1. Defining the Question"
   ]
  },
  {
   "cell_type": "markdown",
   "id": "2ebeabd0",
   "metadata": {
    "id": "XecOwPNorl2W",
    "papermill": {
     "duration": 0.025793,
     "end_time": "2022-06-08T12:12:16.694920",
     "exception": false,
     "start_time": "2022-06-08T12:12:16.669127",
     "status": "completed"
    },
    "tags": []
   },
   "source": [
    "### a) Specifying the Data Analytic Question"
   ]
  },
  {
   "cell_type": "markdown",
   "id": "34c23c0b",
   "metadata": {
    "id": "9ozBnKfehSAw",
    "papermill": {
     "duration": 0.025864,
     "end_time": "2022-06-08T12:12:16.746644",
     "exception": false,
     "start_time": "2022-06-08T12:12:16.720780",
     "status": "completed"
    },
    "tags": []
   },
   "source": [
    "> An NGO woul dlike to Know which individuals in kenya, uganda, tanzania and rwanda are likely to have back accounts."
   ]
  },
  {
   "cell_type": "markdown",
   "id": "b0ae6dd7",
   "metadata": {
    "id": "J4wfHZwQrs-t",
    "papermill": {
     "duration": 0.035242,
     "end_time": "2022-06-08T12:12:16.807713",
     "exception": false,
     "start_time": "2022-06-08T12:12:16.772471",
     "status": "completed"
    },
    "tags": []
   },
   "source": [
    "### b) Defining the Metric for Success"
   ]
  },
  {
   "cell_type": "markdown",
   "id": "c54c50ee",
   "metadata": {
    "papermill": {
     "duration": 0.027533,
     "end_time": "2022-06-08T12:12:16.862959",
     "exception": false,
     "start_time": "2022-06-08T12:12:16.835426",
     "status": "completed"
    },
    "tags": []
   },
   "source": [
    "It will be considered a success when we have succesfully achieved the following:\n",
    ">We have succesfully visualized which individuals are likely toi have a bank account."
   ]
  },
  {
   "cell_type": "markdown",
   "id": "7e3e9f66",
   "metadata": {
    "id": "a9BPYqunry97",
    "papermill": {
     "duration": 0.026881,
     "end_time": "2022-06-08T12:12:16.916242",
     "exception": false,
     "start_time": "2022-06-08T12:12:16.889361",
     "status": "completed"
    },
    "tags": []
   },
   "source": [
    "### c) Understanding the context "
   ]
  },
  {
   "cell_type": "markdown",
   "id": "1f6ebb5a",
   "metadata": {
    "papermill": {
     "duration": 0.027231,
     "end_time": "2022-06-08T12:12:16.970823",
     "exception": false,
     "start_time": "2022-06-08T12:12:16.943592",
     "status": "completed"
    },
    "tags": []
   },
   "source": [
    "Financial inclusion remains one of the main obstacles to economic and human development in africa. For example, across Kenya Rwanda Tanzania and Uganda only 9.1 million adults (or 13.9% of adult population) have access to use a commercial bank account. Traditionally access to bank accounts has been regarded as an indicator of financial inclusion. Despite the proliferrayion of mobilke money in africa an the grtowth of innovative fiintech solutions banks still play a pivotal role in facilitating access to financial services. Acces to bank account enables households to save and facilitate payment swhile alsohelping businesses build uo their credit worthiness and imorove their access to other financial services. Thereforre access to bank accounts is an essential contributor to long term economic growth."
   ]
  },
  {
   "cell_type": "markdown",
   "id": "0c27f706",
   "metadata": {
    "id": "zSGyg6kWsBUl",
    "papermill": {
     "duration": 0.028139,
     "end_time": "2022-06-08T12:12:17.025002",
     "exception": false,
     "start_time": "2022-06-08T12:12:16.996863",
     "status": "completed"
    },
    "tags": []
   },
   "source": [
    "### e) Data Relevance"
   ]
  },
  {
   "cell_type": "markdown",
   "id": "5f55e823",
   "metadata": {
    "papermill": {
     "duration": 0.024182,
     "end_time": "2022-06-08T12:12:17.075758",
     "exception": false,
     "start_time": "2022-06-08T12:12:17.051576",
     "status": "completed"
    },
    "tags": []
   },
   "source": [
    "For our data to be relevant we compared our data with the following data provided by the world bank regarding people with account ownership in financial institutions or with a mobile money service provider heres is the [Link](https://data.worldbank.org/indicator/FX.OWN.TOTL.FE.ZS?locations=KE.html)."
   ]
  },
  {
   "cell_type": "markdown",
   "id": "e59a6518",
   "metadata": {
    "id": "iUNbvIvnT7ep",
    "papermill": {
     "duration": 0.02753,
     "end_time": "2022-06-08T12:12:17.131762",
     "exception": false,
     "start_time": "2022-06-08T12:12:17.104232",
     "status": "completed"
    },
    "tags": []
   },
   "source": [
    "## 2. Reading the Data"
   ]
  },
  {
   "cell_type": "code",
   "execution_count": 1,
   "id": "7ced5eb9",
   "metadata": {
    "execution": {
     "iopub.execute_input": "2022-06-08T12:12:17.189359Z",
     "iopub.status.busy": "2022-06-08T12:12:17.188866Z",
     "iopub.status.idle": "2022-06-08T12:12:17.211454Z",
     "shell.execute_reply": "2022-06-08T12:12:17.210767Z"
    },
    "papermill": {
     "duration": 0.057576,
     "end_time": "2022-06-08T12:12:17.217020",
     "exception": false,
     "start_time": "2022-06-08T12:12:17.159444",
     "status": "completed"
    },
    "tags": []
   },
   "outputs": [
    {
     "name": "stdout",
     "output_type": "stream",
     "text": [
      "/kaggle/input/financial-dataset/Financial Dataset - 1.csv\n"
     ]
    }
   ],
   "source": [
    "# This Python 3 environment comes with many helpful analytics libraries installed\n",
    "# It is defined by the kaggle/python Docker image: https://github.com/kaggle/docker-python\n",
    "# For example, here's several helpful packages to load\n",
    "\n",
    "import numpy as np # linear algebra\n",
    "import pandas as pd # data processing, CSV file I/O (e.g. pd.read_csv)\n",
    "\n",
    "# Input data files are available in the read-only \"../input/\" directory\n",
    "# For example, running this (by clicking run or pressing Shift+Enter) will list all files under the input directory\n",
    "\n",
    "import os\n",
    "for dirname, _, filenames in os.walk('/kaggle/input'):\n",
    "    for filename in filenames:\n",
    "        print(os.path.join(dirname, filename))\n",
    "\n",
    "# You can write up to 20GB to the current directory (/kaggle/working/) that gets preserved as output when you create a version using \"Save & Run All\" \n",
    "# You can also write temporary files to /kaggle/temp/, but they won't be saved outside of the current session"
   ]
  },
  {
   "cell_type": "code",
   "execution_count": 2,
   "id": "b18aecd8",
   "metadata": {
    "execution": {
     "iopub.execute_input": "2022-06-08T12:12:17.274174Z",
     "iopub.status.busy": "2022-06-08T12:12:17.273834Z",
     "iopub.status.idle": "2022-06-08T12:12:18.385606Z",
     "shell.execute_reply": "2022-06-08T12:12:18.384876Z"
    },
    "id": "XJn2KjW-WMlG",
    "papermill": {
     "duration": 1.1421,
     "end_time": "2022-06-08T12:12:18.387435",
     "exception": false,
     "start_time": "2022-06-08T12:12:17.245335",
     "status": "completed"
    },
    "tags": []
   },
   "outputs": [
    {
     "data": {
      "text/html": [
       "<div>\n",
       "<style scoped>\n",
       "    .dataframe tbody tr th:only-of-type {\n",
       "        vertical-align: middle;\n",
       "    }\n",
       "\n",
       "    .dataframe tbody tr th {\n",
       "        vertical-align: top;\n",
       "    }\n",
       "\n",
       "    .dataframe thead th {\n",
       "        text-align: right;\n",
       "    }\n",
       "</style>\n",
       "<table border=\"1\" class=\"dataframe\">\n",
       "  <thead>\n",
       "    <tr style=\"text-align: right;\">\n",
       "      <th></th>\n",
       "      <th>country</th>\n",
       "      <th>year</th>\n",
       "      <th>uniqueid</th>\n",
       "      <th>Has a Bank account</th>\n",
       "      <th>Type of Location</th>\n",
       "      <th>Cell Phone Access</th>\n",
       "      <th>household_size</th>\n",
       "      <th>Respondent Age</th>\n",
       "      <th>gender_of_respondent</th>\n",
       "      <th>The relathip with head</th>\n",
       "      <th>marital_status</th>\n",
       "      <th>Level of Educuation</th>\n",
       "      <th>Type of Job</th>\n",
       "    </tr>\n",
       "  </thead>\n",
       "  <tbody>\n",
       "    <tr>\n",
       "      <th>0</th>\n",
       "      <td>Kenya</td>\n",
       "      <td>2018</td>\n",
       "      <td>uniqueid_1</td>\n",
       "      <td>Yes</td>\n",
       "      <td>Rural</td>\n",
       "      <td>Yes</td>\n",
       "      <td>3.0</td>\n",
       "      <td>24.0</td>\n",
       "      <td>Female</td>\n",
       "      <td>Spouse</td>\n",
       "      <td>Married/Living together</td>\n",
       "      <td>Secondary education</td>\n",
       "      <td>Self employed</td>\n",
       "    </tr>\n",
       "    <tr>\n",
       "      <th>1</th>\n",
       "      <td>Kenya</td>\n",
       "      <td>2018</td>\n",
       "      <td>uniqueid_2</td>\n",
       "      <td>No</td>\n",
       "      <td>Rural</td>\n",
       "      <td>No</td>\n",
       "      <td>5.0</td>\n",
       "      <td>70.0</td>\n",
       "      <td>Female</td>\n",
       "      <td>Head of Household</td>\n",
       "      <td>Widowed</td>\n",
       "      <td>No formal education</td>\n",
       "      <td>Government Dependent</td>\n",
       "    </tr>\n",
       "    <tr>\n",
       "      <th>2</th>\n",
       "      <td>Kenya</td>\n",
       "      <td>2018</td>\n",
       "      <td>uniqueid_3</td>\n",
       "      <td>Yes</td>\n",
       "      <td>Urban</td>\n",
       "      <td>Yes</td>\n",
       "      <td>5.0</td>\n",
       "      <td>26.0</td>\n",
       "      <td>Male</td>\n",
       "      <td>Other relative</td>\n",
       "      <td>Single/Never Married</td>\n",
       "      <td>Vocational/Specialised training</td>\n",
       "      <td>Self employed</td>\n",
       "    </tr>\n",
       "    <tr>\n",
       "      <th>3</th>\n",
       "      <td>Kenya</td>\n",
       "      <td>2018</td>\n",
       "      <td>uniqueid_4</td>\n",
       "      <td>No</td>\n",
       "      <td>Rural</td>\n",
       "      <td>Yes</td>\n",
       "      <td>5.0</td>\n",
       "      <td>34.0</td>\n",
       "      <td>Female</td>\n",
       "      <td>Head of Household</td>\n",
       "      <td>Married/Living together</td>\n",
       "      <td>Primary education</td>\n",
       "      <td>Formally employed Private</td>\n",
       "    </tr>\n",
       "    <tr>\n",
       "      <th>4</th>\n",
       "      <td>Kenya</td>\n",
       "      <td>2018</td>\n",
       "      <td>uniqueid_5</td>\n",
       "      <td>No</td>\n",
       "      <td>Urban</td>\n",
       "      <td>No</td>\n",
       "      <td>8.0</td>\n",
       "      <td>26.0</td>\n",
       "      <td>Male</td>\n",
       "      <td>Child</td>\n",
       "      <td>Single/Never Married</td>\n",
       "      <td>Primary education</td>\n",
       "      <td>Informally employed</td>\n",
       "    </tr>\n",
       "  </tbody>\n",
       "</table>\n",
       "</div>"
      ],
      "text/plain": [
       "  country  year    uniqueid Has a Bank account Type of Location  \\\n",
       "0   Kenya  2018  uniqueid_1                Yes            Rural   \n",
       "1   Kenya  2018  uniqueid_2                 No            Rural   \n",
       "2   Kenya  2018  uniqueid_3                Yes            Urban   \n",
       "3   Kenya  2018  uniqueid_4                 No            Rural   \n",
       "4   Kenya  2018  uniqueid_5                 No            Urban   \n",
       "\n",
       "  Cell Phone Access  household_size  Respondent Age gender_of_respondent  \\\n",
       "0               Yes             3.0            24.0               Female   \n",
       "1                No             5.0            70.0               Female   \n",
       "2               Yes             5.0            26.0                 Male   \n",
       "3               Yes             5.0            34.0               Female   \n",
       "4                No             8.0            26.0                 Male   \n",
       "\n",
       "  The relathip with head           marital_status  \\\n",
       "0                 Spouse  Married/Living together   \n",
       "1      Head of Household                  Widowed   \n",
       "2         Other relative     Single/Never Married   \n",
       "3      Head of Household  Married/Living together   \n",
       "4                  Child     Single/Never Married   \n",
       "\n",
       "               Level of Educuation                Type of Job  \n",
       "0              Secondary education              Self employed  \n",
       "1              No formal education       Government Dependent  \n",
       "2  Vocational/Specialised training              Self employed  \n",
       "3                Primary education  Formally employed Private  \n",
       "4                Primary education        Informally employed  "
      ]
     },
     "execution_count": 2,
     "metadata": {},
     "output_type": "execute_result"
    }
   ],
   "source": [
    "#importing the modules that we will use \n",
    "import pandas as pd\n",
    "import numpy as np\n",
    "import matplotlib.pyplot as plt\n",
    "import seaborn as sb\n",
    "import math as mt\n",
    "import warnings\n",
    "import pylab\n",
    "import os\n",
    "warnings.filterwarnings('ignore')\n",
    "#importing the dataset that we will use\n",
    "fin = pd.read_csv('../input/financial-dataset/Financial Dataset - 1.csv')\n",
    "fin.head()"
   ]
  },
  {
   "cell_type": "markdown",
   "id": "56f27691",
   "metadata": {
    "id": "OI3P3YnHUEBk",
    "papermill": {
     "duration": 0.017211,
     "end_time": "2022-06-08T12:12:18.422383",
     "exception": false,
     "start_time": "2022-06-08T12:12:18.405172",
     "status": "completed"
    },
    "tags": []
   },
   "source": [
    "## 3. Checking the Data"
   ]
  },
  {
   "cell_type": "code",
   "execution_count": 3,
   "id": "14b8f5cf",
   "metadata": {
    "execution": {
     "iopub.execute_input": "2022-06-08T12:12:18.458067Z",
     "iopub.status.busy": "2022-06-08T12:12:18.457677Z",
     "iopub.status.idle": "2022-06-08T12:12:18.500681Z",
     "shell.execute_reply": "2022-06-08T12:12:18.499409Z"
    },
    "id": "YjSVNwgptHxY",
    "papermill": {
     "duration": 0.063007,
     "end_time": "2022-06-08T12:12:18.502439",
     "exception": false,
     "start_time": "2022-06-08T12:12:18.439432",
     "status": "completed"
    },
    "tags": []
   },
   "outputs": [
    {
     "name": "stdout",
     "output_type": "stream",
     "text": [
      "<class 'pandas.core.frame.DataFrame'>\n",
      "RangeIndex: 23524 entries, 0 to 23523\n",
      "Data columns (total 13 columns):\n",
      " #   Column                  Non-Null Count  Dtype  \n",
      "---  ------                  --------------  -----  \n",
      " 0   country                 23510 non-null  object \n",
      " 1   year                    23524 non-null  int64  \n",
      " 2   uniqueid                23524 non-null  object \n",
      " 3   Has a Bank account      23488 non-null  object \n",
      " 4   Type of Location        23509 non-null  object \n",
      " 5   Cell Phone Access       23513 non-null  object \n",
      " 6   household_size          23496 non-null  float64\n",
      " 7   Respondent Age          23490 non-null  float64\n",
      " 8   gender_of_respondent    23490 non-null  object \n",
      " 9   The relathip with head  23520 non-null  object \n",
      " 10  marital_status          23492 non-null  object \n",
      " 11  Level of Educuation     23495 non-null  object \n",
      " 12  Type of Job             23494 non-null  object \n",
      "dtypes: float64(2), int64(1), object(10)\n",
      "memory usage: 2.3+ MB\n"
     ]
    }
   ],
   "source": [
    "#getting the general information of the dataset\n",
    "fin.info()"
   ]
  },
  {
   "cell_type": "code",
   "execution_count": 4,
   "id": "678a2abc",
   "metadata": {
    "execution": {
     "iopub.execute_input": "2022-06-08T12:12:18.538586Z",
     "iopub.status.busy": "2022-06-08T12:12:18.538019Z",
     "iopub.status.idle": "2022-06-08T12:12:18.543092Z",
     "shell.execute_reply": "2022-06-08T12:12:18.542247Z"
    },
    "id": "xHhTw5eKWr0n",
    "papermill": {
     "duration": 0.025396,
     "end_time": "2022-06-08T12:12:18.545543",
     "exception": false,
     "start_time": "2022-06-08T12:12:18.520147",
     "status": "completed"
    },
    "tags": []
   },
   "outputs": [
    {
     "data": {
      "text/plain": [
       "(23524, 13)"
      ]
     },
     "execution_count": 4,
     "metadata": {},
     "output_type": "execute_result"
    }
   ],
   "source": [
    "#checking the shape\n",
    "fin.shape"
   ]
  },
  {
   "cell_type": "code",
   "execution_count": 5,
   "id": "d6a24805",
   "metadata": {
    "execution": {
     "iopub.execute_input": "2022-06-08T12:12:18.580974Z",
     "iopub.status.busy": "2022-06-08T12:12:18.580705Z",
     "iopub.status.idle": "2022-06-08T12:12:18.586779Z",
     "shell.execute_reply": "2022-06-08T12:12:18.585949Z"
    },
    "id": "e9AzGcZFrIIr",
    "papermill": {
     "duration": 0.026448,
     "end_time": "2022-06-08T12:12:18.589240",
     "exception": false,
     "start_time": "2022-06-08T12:12:18.562792",
     "status": "completed"
    },
    "tags": []
   },
   "outputs": [
    {
     "data": {
      "text/plain": [
       "country                    object\n",
       "year                        int64\n",
       "uniqueid                   object\n",
       "Has a Bank account         object\n",
       "Type of Location           object\n",
       "Cell Phone Access          object\n",
       "household_size            float64\n",
       "Respondent Age            float64\n",
       "gender_of_respondent       object\n",
       "The relathip with head     object\n",
       "marital_status             object\n",
       "Level of Educuation        object\n",
       "Type of Job                object\n",
       "dtype: object"
      ]
     },
     "execution_count": 5,
     "metadata": {},
     "output_type": "execute_result"
    }
   ],
   "source": [
    "#checking the datatypes\n",
    "fin.dtypes"
   ]
  },
  {
   "cell_type": "markdown",
   "id": "6afcfb17",
   "metadata": {
    "id": "ckfufNrcUHeH",
    "papermill": {
     "duration": 0.017158,
     "end_time": "2022-06-08T12:12:18.623691",
     "exception": false,
     "start_time": "2022-06-08T12:12:18.606533",
     "status": "completed"
    },
    "tags": []
   },
   "source": [
    "## 4. External Data Source Validation"
   ]
  },
  {
   "cell_type": "markdown",
   "id": "6bfc5941",
   "metadata": {
    "id": "6XC_g-zKxe-r",
    "papermill": {
     "duration": 0.017219,
     "end_time": "2022-06-08T12:12:18.658345",
     "exception": false,
     "start_time": "2022-06-08T12:12:18.641126",
     "status": "completed"
    },
    "tags": []
   },
   "source": [
    "### a.Validation"
   ]
  },
  {
   "cell_type": "markdown",
   "id": "9e1a4c38",
   "metadata": {
    "papermill": {
     "duration": 0.017675,
     "end_time": "2022-06-08T12:12:18.693589",
     "exception": false,
     "start_time": "2022-06-08T12:12:18.675914",
     "status": "completed"
    },
    "tags": []
   },
   "source": [
    "The following data that we used to validate the given dataset will be used, it is provide by the world bank regarding people with account ownership in financial institutions or with a mobile money service provider [Link](https://data.worldbank.org/indicator/FX.OWN.TOTL.FE.ZS?locations=KE.html)."
   ]
  },
  {
   "cell_type": "markdown",
   "id": "1e3e7d77",
   "metadata": {
    "id": "FlBMxEDBUc9B",
    "papermill": {
     "duration": 0.017813,
     "end_time": "2022-06-08T12:12:18.729000",
     "exception": false,
     "start_time": "2022-06-08T12:12:18.711187",
     "status": "completed"
    },
    "tags": []
   },
   "source": [
    "## 5. Tidying the Dataset"
   ]
  },
  {
   "cell_type": "code",
   "execution_count": 6,
   "id": "70e3df9a",
   "metadata": {
    "execution": {
     "iopub.execute_input": "2022-06-08T12:12:18.765349Z",
     "iopub.status.busy": "2022-06-08T12:12:18.764631Z",
     "iopub.status.idle": "2022-06-08T12:12:19.696890Z",
     "shell.execute_reply": "2022-06-08T12:12:19.696164Z"
    },
    "id": "6HraDLanK2VJ",
    "papermill": {
     "duration": 0.952802,
     "end_time": "2022-06-08T12:12:19.699366",
     "exception": false,
     "start_time": "2022-06-08T12:12:18.746564",
     "status": "completed"
    },
    "tags": []
   },
   "outputs": [
    {
     "data": {
      "image/png": "[encoded data removed]",
      "text/plain": [
       "<Figure size 720x360 with 3 Axes>"
      ]
     },
     "metadata": {
      "needs_background": "light"
     },
     "output_type": "display_data"
    }
   ],
   "source": [
    "#import the missing number module to help us decide what to do with missing values\n",
    "import missingno\n",
    "missingno.bar(fin, figsize=(10,5),sort = 'ascending', color = 'dodgerblue', fontsize=12);"
   ]
  },
  {
   "cell_type": "code",
   "execution_count": 7,
   "id": "13c498ef",
   "metadata": {
    "execution": {
     "iopub.execute_input": "2022-06-08T12:12:19.765149Z",
     "iopub.status.busy": "2022-06-08T12:12:19.764697Z",
     "iopub.status.idle": "2022-06-08T12:12:19.841244Z",
     "shell.execute_reply": "2022-06-08T12:12:19.840418Z"
    },
    "id": "zCyenu_wK23Q",
    "papermill": {
     "duration": 0.10889,
     "end_time": "2022-06-08T12:12:19.843381",
     "exception": false,
     "start_time": "2022-06-08T12:12:19.734491",
     "status": "completed"
    },
    "tags": []
   },
   "outputs": [
    {
     "name": "stdout",
     "output_type": "stream",
     "text": [
      "country                   14\n",
      "year                       0\n",
      "uniqueid                   0\n",
      "Has a Bank account        36\n",
      "Type of Location          15\n",
      "Cell Phone Access         11\n",
      "household_size            28\n",
      "Respondent Age            34\n",
      "gender_of_respondent      34\n",
      "The relathip with head     4\n",
      "marital_status            32\n",
      "Level of Educuation       29\n",
      "Type of Job               30\n",
      "dtype: int64\n",
      "\n",
      "*****************************************\n",
      "country                   0.059514\n",
      "year                      0.000000\n",
      "uniqueid                  0.000000\n",
      "Has a Bank account        0.153035\n",
      "Type of Location          0.063765\n",
      "Cell Phone Access         0.046761\n",
      "household_size            0.119027\n",
      "Respondent Age            0.144533\n",
      "gender_of_respondent      0.144533\n",
      "The relathip with head    0.017004\n",
      "marital_status            0.136031\n",
      "Level of Educuation       0.123278\n",
      "Type of Job               0.127529\n",
      "dtype: float64\n"
     ]
    }
   ],
   "source": [
    "#checcking on the sum of the missing values\n",
    "print(fin.isnull().sum())\n",
    "print('')\n",
    "print('*****************************************')\n",
    "#percent of missing \n",
    "percent_missing = fin.isnull ().sum () * 100 / len (fin) \n",
    "print(percent_missing)"
   ]
  },
  {
   "cell_type": "code",
   "execution_count": 8,
   "id": "dafa42a6",
   "metadata": {
    "execution": {
     "iopub.execute_input": "2022-06-08T12:12:19.903247Z",
     "iopub.status.busy": "2022-06-08T12:12:19.902915Z",
     "iopub.status.idle": "2022-06-08T12:12:20.340235Z",
     "shell.execute_reply": "2022-06-08T12:12:20.339224Z"
    },
    "id": "4UFBYiovK4u_",
    "papermill": {
     "duration": 0.470513,
     "end_time": "2022-06-08T12:12:20.343367",
     "exception": false,
     "start_time": "2022-06-08T12:12:19.872854",
     "status": "completed"
    },
    "tags": []
   },
   "outputs": [
    {
     "data": {
      "image/png": "[encoded data removed]",
      "text/plain": [
       "<Figure size 720x360 with 2 Axes>"
      ]
     },
     "metadata": {
      "needs_background": "light"
     },
     "output_type": "display_data"
    }
   ],
   "source": [
    "#visualizing the location of the missing values in the data\n",
    "missingno.matrix(fin,figsize=(10,5), fontsize=12);"
   ]
  },
  {
   "cell_type": "code",
   "execution_count": 9,
   "id": "9454d6ce",
   "metadata": {
    "execution": {
     "iopub.execute_input": "2022-06-08T12:12:20.392739Z",
     "iopub.status.busy": "2022-06-08T12:12:20.392439Z",
     "iopub.status.idle": "2022-06-08T12:12:20.895680Z",
     "shell.execute_reply": "2022-06-08T12:12:20.894933Z"
    },
    "id": "HOdS0WVyK6ND",
    "papermill": {
     "duration": 0.524947,
     "end_time": "2022-06-08T12:12:20.898041",
     "exception": false,
     "start_time": "2022-06-08T12:12:20.373094",
     "status": "completed"
    },
    "tags": []
   },
   "outputs": [
    {
     "data": {
      "image/png": "[encoded data removed]",
      "text/plain": [
       "<Figure size 720x360 with 2 Axes>"
      ]
     },
     "metadata": {
      "needs_background": "light"
     },
     "output_type": "display_data"
    }
   ],
   "source": [
    "#checcking the nullity correlation of the different columns in the data\n",
    "missingno.heatmap(fin, cmap=\"RdYlGn\" ,figsize=(10,5), fontsize=12);"
   ]
  },
  {
   "cell_type": "markdown",
   "id": "c2650b10",
   "metadata": {
    "papermill": {
     "duration": 0.020338,
     "end_time": "2022-06-08T12:12:20.938030",
     "exception": false,
     "start_time": "2022-06-08T12:12:20.917692",
     "status": "completed"
    },
    "tags": []
   },
   "source": [
    "The nullity corellation between the type of location and the cell phone access is very high with 0.9 value, this means that if one value in the cell phone access is missing then definitely the other will also be missing."
   ]
  },
  {
   "cell_type": "code",
   "execution_count": 10,
   "id": "516b8dc2",
   "metadata": {
    "execution": {
     "iopub.execute_input": "2022-06-08T12:12:20.978583Z",
     "iopub.status.busy": "2022-06-08T12:12:20.978302Z",
     "iopub.status.idle": "2022-06-08T12:12:21.033235Z",
     "shell.execute_reply": "2022-06-08T12:12:21.032540Z"
    },
    "id": "BdnIi_LhK78S",
    "papermill": {
     "duration": 0.07746,
     "end_time": "2022-06-08T12:12:21.035051",
     "exception": false,
     "start_time": "2022-06-08T12:12:20.957591",
     "status": "completed"
    },
    "tags": []
   },
   "outputs": [
    {
     "data": {
      "text/plain": [
       "country                   0\n",
       "year                      0\n",
       "uniqueid                  0\n",
       "Has a Bank account        0\n",
       "Type of Location          0\n",
       "Cell Phone Access         0\n",
       "household_size            0\n",
       "Respondent Age            0\n",
       "gender_of_respondent      0\n",
       "The relathip with head    0\n",
       "marital_status            0\n",
       "Level of Educuation       0\n",
       "Type of Job               0\n",
       "dtype: int64"
      ]
     },
     "execution_count": 10,
     "metadata": {},
     "output_type": "execute_result"
    }
   ],
   "source": [
    "#dropping the missing values\n",
    "fin1 = fin.dropna()\n",
    "fin1.isnull().sum()"
   ]
  },
  {
   "cell_type": "code",
   "execution_count": 11,
   "id": "b60f474e",
   "metadata": {
    "execution": {
     "iopub.execute_input": "2022-06-08T12:12:21.075096Z",
     "iopub.status.busy": "2022-06-08T12:12:21.074833Z",
     "iopub.status.idle": "2022-06-08T12:12:21.085457Z",
     "shell.execute_reply": "2022-06-08T12:12:21.084606Z"
    },
    "papermill": {
     "duration": 0.033146,
     "end_time": "2022-06-08T12:12:21.087628",
     "exception": false,
     "start_time": "2022-06-08T12:12:21.054482",
     "status": "completed"
    },
    "tags": []
   },
   "outputs": [
    {
     "data": {
      "text/plain": [
       "country                   object\n",
       "year                       int64\n",
       "uniqueid                  object\n",
       "Has a Bank account        object\n",
       "Type of Location          object\n",
       "Cell Phone Access         object\n",
       "household_size             int64\n",
       "Respondent Age             int64\n",
       "gender_of_respondent      object\n",
       "The relathip with head    object\n",
       "marital_status            object\n",
       "Level of Educuation       object\n",
       "Type of Job               object\n",
       "dtype: object"
      ]
     },
     "execution_count": 11,
     "metadata": {},
     "output_type": "execute_result"
    }
   ],
   "source": [
    "#converting the datatypes of the float to int\n",
    "fin1['household_size'] = fin1['household_size'].astype(float).astype(int)\n",
    "fin1['Respondent Age'] = fin1['Respondent Age'].astype(float).astype(int)\n",
    "fin1.dtypes"
   ]
  },
  {
   "cell_type": "code",
   "execution_count": 12,
   "id": "974120e7",
   "metadata": {
    "execution": {
     "iopub.execute_input": "2022-06-08T12:12:21.128581Z",
     "iopub.status.busy": "2022-06-08T12:12:21.128329Z",
     "iopub.status.idle": "2022-06-08T12:12:21.147752Z",
     "shell.execute_reply": "2022-06-08T12:12:21.146790Z"
    },
    "papermill": {
     "duration": 0.042614,
     "end_time": "2022-06-08T12:12:21.149891",
     "exception": false,
     "start_time": "2022-06-08T12:12:21.107277",
     "status": "completed"
    },
    "tags": []
   },
   "outputs": [
    {
     "data": {
      "text/html": [
       "<div>\n",
       "<style scoped>\n",
       "    .dataframe tbody tr th:only-of-type {\n",
       "        vertical-align: middle;\n",
       "    }\n",
       "\n",
       "    .dataframe tbody tr th {\n",
       "        vertical-align: top;\n",
       "    }\n",
       "\n",
       "    .dataframe thead th {\n",
       "        text-align: right;\n",
       "    }\n",
       "</style>\n",
       "<table border=\"1\" class=\"dataframe\">\n",
       "  <thead>\n",
       "    <tr style=\"text-align: right;\">\n",
       "      <th></th>\n",
       "      <th>country</th>\n",
       "      <th>year</th>\n",
       "      <th>Has a Bank account</th>\n",
       "      <th>Type of Location</th>\n",
       "      <th>Cell Phone Access</th>\n",
       "      <th>household_size</th>\n",
       "      <th>Respondent Age</th>\n",
       "      <th>gender_of_respondent</th>\n",
       "      <th>The relathip with head</th>\n",
       "      <th>marital_status</th>\n",
       "      <th>Level of Educuation</th>\n",
       "      <th>Type of Job</th>\n",
       "    </tr>\n",
       "  </thead>\n",
       "  <tbody>\n",
       "    <tr>\n",
       "      <th>0</th>\n",
       "      <td>Kenya</td>\n",
       "      <td>2018</td>\n",
       "      <td>Yes</td>\n",
       "      <td>Rural</td>\n",
       "      <td>Yes</td>\n",
       "      <td>3</td>\n",
       "      <td>24</td>\n",
       "      <td>Female</td>\n",
       "      <td>Spouse</td>\n",
       "      <td>Married/Living together</td>\n",
       "      <td>Secondary education</td>\n",
       "      <td>Self employed</td>\n",
       "    </tr>\n",
       "    <tr>\n",
       "      <th>1</th>\n",
       "      <td>Kenya</td>\n",
       "      <td>2018</td>\n",
       "      <td>No</td>\n",
       "      <td>Rural</td>\n",
       "      <td>No</td>\n",
       "      <td>5</td>\n",
       "      <td>70</td>\n",
       "      <td>Female</td>\n",
       "      <td>Head of Household</td>\n",
       "      <td>Widowed</td>\n",
       "      <td>No formal education</td>\n",
       "      <td>Government Dependent</td>\n",
       "    </tr>\n",
       "    <tr>\n",
       "      <th>2</th>\n",
       "      <td>Kenya</td>\n",
       "      <td>2018</td>\n",
       "      <td>Yes</td>\n",
       "      <td>Urban</td>\n",
       "      <td>Yes</td>\n",
       "      <td>5</td>\n",
       "      <td>26</td>\n",
       "      <td>Male</td>\n",
       "      <td>Other relative</td>\n",
       "      <td>Single/Never Married</td>\n",
       "      <td>Vocational/Specialised training</td>\n",
       "      <td>Self employed</td>\n",
       "    </tr>\n",
       "    <tr>\n",
       "      <th>3</th>\n",
       "      <td>Kenya</td>\n",
       "      <td>2018</td>\n",
       "      <td>No</td>\n",
       "      <td>Rural</td>\n",
       "      <td>Yes</td>\n",
       "      <td>5</td>\n",
       "      <td>34</td>\n",
       "      <td>Female</td>\n",
       "      <td>Head of Household</td>\n",
       "      <td>Married/Living together</td>\n",
       "      <td>Primary education</td>\n",
       "      <td>Formally employed Private</td>\n",
       "    </tr>\n",
       "    <tr>\n",
       "      <th>4</th>\n",
       "      <td>Kenya</td>\n",
       "      <td>2018</td>\n",
       "      <td>No</td>\n",
       "      <td>Urban</td>\n",
       "      <td>No</td>\n",
       "      <td>8</td>\n",
       "      <td>26</td>\n",
       "      <td>Male</td>\n",
       "      <td>Child</td>\n",
       "      <td>Single/Never Married</td>\n",
       "      <td>Primary education</td>\n",
       "      <td>Informally employed</td>\n",
       "    </tr>\n",
       "    <tr>\n",
       "      <th>...</th>\n",
       "      <td>...</td>\n",
       "      <td>...</td>\n",
       "      <td>...</td>\n",
       "      <td>...</td>\n",
       "      <td>...</td>\n",
       "      <td>...</td>\n",
       "      <td>...</td>\n",
       "      <td>...</td>\n",
       "      <td>...</td>\n",
       "      <td>...</td>\n",
       "      <td>...</td>\n",
       "      <td>...</td>\n",
       "    </tr>\n",
       "    <tr>\n",
       "      <th>23519</th>\n",
       "      <td>Uganda</td>\n",
       "      <td>2018</td>\n",
       "      <td>No</td>\n",
       "      <td>Rural</td>\n",
       "      <td>Yes</td>\n",
       "      <td>4</td>\n",
       "      <td>48</td>\n",
       "      <td>Female</td>\n",
       "      <td>Head of Household</td>\n",
       "      <td>Divorced/Seperated</td>\n",
       "      <td>No formal education</td>\n",
       "      <td>Other Income</td>\n",
       "    </tr>\n",
       "    <tr>\n",
       "      <th>23520</th>\n",
       "      <td>Uganda</td>\n",
       "      <td>2018</td>\n",
       "      <td>No</td>\n",
       "      <td>Rural</td>\n",
       "      <td>Yes</td>\n",
       "      <td>2</td>\n",
       "      <td>27</td>\n",
       "      <td>Female</td>\n",
       "      <td>Head of Household</td>\n",
       "      <td>Single/Never Married</td>\n",
       "      <td>Secondary education</td>\n",
       "      <td>Other Income</td>\n",
       "    </tr>\n",
       "    <tr>\n",
       "      <th>23521</th>\n",
       "      <td>Uganda</td>\n",
       "      <td>2018</td>\n",
       "      <td>No</td>\n",
       "      <td>Rural</td>\n",
       "      <td>Yes</td>\n",
       "      <td>5</td>\n",
       "      <td>27</td>\n",
       "      <td>Female</td>\n",
       "      <td>Parent</td>\n",
       "      <td>Widowed</td>\n",
       "      <td>Primary education</td>\n",
       "      <td>Other Income</td>\n",
       "    </tr>\n",
       "    <tr>\n",
       "      <th>23522</th>\n",
       "      <td>Uganda</td>\n",
       "      <td>2018</td>\n",
       "      <td>No</td>\n",
       "      <td>Urban</td>\n",
       "      <td>Yes</td>\n",
       "      <td>7</td>\n",
       "      <td>30</td>\n",
       "      <td>Female</td>\n",
       "      <td>Parent</td>\n",
       "      <td>Divorced/Seperated</td>\n",
       "      <td>Secondary education</td>\n",
       "      <td>Self employed</td>\n",
       "    </tr>\n",
       "    <tr>\n",
       "      <th>23523</th>\n",
       "      <td>Uganda</td>\n",
       "      <td>2018</td>\n",
       "      <td>No</td>\n",
       "      <td>Rural</td>\n",
       "      <td>Yes</td>\n",
       "      <td>10</td>\n",
       "      <td>20</td>\n",
       "      <td>Male</td>\n",
       "      <td>Child</td>\n",
       "      <td>Single/Never Married</td>\n",
       "      <td>Secondary education</td>\n",
       "      <td>No Income</td>\n",
       "    </tr>\n",
       "  </tbody>\n",
       "</table>\n",
       "<p>23343 rows × 12 columns</p>\n",
       "</div>"
      ],
      "text/plain": [
       "      country  year Has a Bank account Type of Location Cell Phone Access  \\\n",
       "0       Kenya  2018                Yes            Rural               Yes   \n",
       "1       Kenya  2018                 No            Rural                No   \n",
       "2       Kenya  2018                Yes            Urban               Yes   \n",
       "3       Kenya  2018                 No            Rural               Yes   \n",
       "4       Kenya  2018                 No            Urban                No   \n",
       "...       ...   ...                ...              ...               ...   \n",
       "23519  Uganda  2018                 No            Rural               Yes   \n",
       "23520  Uganda  2018                 No            Rural               Yes   \n",
       "23521  Uganda  2018                 No            Rural               Yes   \n",
       "23522  Uganda  2018                 No            Urban               Yes   \n",
       "23523  Uganda  2018                 No            Rural               Yes   \n",
       "\n",
       "       household_size  Respondent Age gender_of_respondent  \\\n",
       "0                   3              24               Female   \n",
       "1                   5              70               Female   \n",
       "2                   5              26                 Male   \n",
       "3                   5              34               Female   \n",
       "4                   8              26                 Male   \n",
       "...               ...             ...                  ...   \n",
       "23519               4              48               Female   \n",
       "23520               2              27               Female   \n",
       "23521               5              27               Female   \n",
       "23522               7              30               Female   \n",
       "23523              10              20                 Male   \n",
       "\n",
       "      The relathip with head           marital_status  \\\n",
       "0                     Spouse  Married/Living together   \n",
       "1          Head of Household                  Widowed   \n",
       "2             Other relative     Single/Never Married   \n",
       "3          Head of Household  Married/Living together   \n",
       "4                      Child     Single/Never Married   \n",
       "...                      ...                      ...   \n",
       "23519      Head of Household       Divorced/Seperated   \n",
       "23520      Head of Household     Single/Never Married   \n",
       "23521                 Parent                  Widowed   \n",
       "23522                 Parent       Divorced/Seperated   \n",
       "23523                  Child     Single/Never Married   \n",
       "\n",
       "                   Level of Educuation                Type of Job  \n",
       "0                  Secondary education              Self employed  \n",
       "1                  No formal education       Government Dependent  \n",
       "2      Vocational/Specialised training              Self employed  \n",
       "3                    Primary education  Formally employed Private  \n",
       "4                    Primary education        Informally employed  \n",
       "...                                ...                        ...  \n",
       "23519              No formal education               Other Income  \n",
       "23520              Secondary education               Other Income  \n",
       "23521                Primary education               Other Income  \n",
       "23522              Secondary education              Self employed  \n",
       "23523              Secondary education                  No Income  \n",
       "\n",
       "[23343 rows x 12 columns]"
      ]
     },
     "execution_count": 12,
     "metadata": {},
     "output_type": "execute_result"
    }
   ],
   "source": [
    "#other data cleaning methods \n",
    "fin2 =pd.DataFrame(fin1.drop(columns = ['uniqueid']))\n",
    "fin2"
   ]
  },
  {
   "cell_type": "code",
   "execution_count": 13,
   "id": "b95560bd",
   "metadata": {
    "execution": {
     "iopub.execute_input": "2022-06-08T12:12:21.191815Z",
     "iopub.status.busy": "2022-06-08T12:12:21.191523Z",
     "iopub.status.idle": "2022-06-08T12:12:21.202973Z",
     "shell.execute_reply": "2022-06-08T12:12:21.202034Z"
    },
    "papermill": {
     "duration": 0.034535,
     "end_time": "2022-06-08T12:12:21.205014",
     "exception": false,
     "start_time": "2022-06-08T12:12:21.170479",
     "status": "completed"
    },
    "tags": []
   },
   "outputs": [
    {
     "data": {
      "text/plain": [
       "(23340, 12)"
      ]
     },
     "execution_count": 13,
     "metadata": {},
     "output_type": "execute_result"
    }
   ],
   "source": [
    "#dropping the values 2029, 2056, 2039\n",
    "fin2['year'].value_counts()\n",
    "value = [2029, 2056, 2039]\n",
    "fin3= fin2[fin2['year'].isin(value) == False]\n",
    "fin3.shape"
   ]
  },
  {
   "cell_type": "markdown",
   "id": "cba5a881",
   "metadata": {
    "id": "rF2ABPsHUtbZ",
    "papermill": {
     "duration": 0.019859,
     "end_time": "2022-06-08T12:12:21.245241",
     "exception": false,
     "start_time": "2022-06-08T12:12:21.225382",
     "status": "completed"
    },
    "tags": []
   },
   "source": [
    "## 6. Exploratory Analysis"
   ]
  },
  {
   "cell_type": "code",
   "execution_count": 14,
   "id": "5480adc8",
   "metadata": {
    "execution": {
     "iopub.execute_input": "2022-06-08T12:12:21.287271Z",
     "iopub.status.busy": "2022-06-08T12:12:21.287005Z",
     "iopub.status.idle": "2022-06-08T12:12:21.291570Z",
     "shell.execute_reply": "2022-06-08T12:12:21.290783Z"
    },
    "id": "5nnRToniXGDK",
    "papermill": {
     "duration": 0.027355,
     "end_time": "2022-06-08T12:12:21.293387",
     "exception": false,
     "start_time": "2022-06-08T12:12:21.266032",
     "status": "completed"
    },
    "tags": []
   },
   "outputs": [],
   "source": [
    "#setting colors for our plots\n",
    "colors = ['#7FB3D5', '#73C6B6', '#F0B27A', '#C39BD3', '#ABEBC6', '#F4D03F']\n",
    "#setting the font, figsize and font size globally\n",
    "plt.rcParams.update({'font.family':'Times New Roman'})\n",
    "plt.rcParams.update({'font.size':13})\n",
    "plt.rcParams['figure.figsize'] = [10, 5]"
   ]
  },
  {
   "cell_type": "markdown",
   "id": "80649e85",
   "metadata": {
    "papermill": {
     "duration": 0.020092,
     "end_time": "2022-06-08T12:12:21.333392",
     "exception": false,
     "start_time": "2022-06-08T12:12:21.313300",
     "status": "completed"
    },
    "tags": []
   },
   "source": [
    "## 1. Univariate analysis"
   ]
  },
  {
   "cell_type": "code",
   "execution_count": 15,
   "id": "80c50e88",
   "metadata": {
    "execution": {
     "iopub.execute_input": "2022-06-08T12:12:21.375323Z",
     "iopub.status.busy": "2022-06-08T12:12:21.375064Z",
     "iopub.status.idle": "2022-06-08T12:12:21.784096Z",
     "shell.execute_reply": "2022-06-08T12:12:21.783381Z"
    },
    "papermill": {
     "duration": 0.431969,
     "end_time": "2022-06-08T12:12:21.785927",
     "exception": false,
     "start_time": "2022-06-08T12:12:21.353958",
     "status": "completed"
    },
    "tags": []
   },
   "outputs": [
    {
     "data": {
      "image/png": "[encoded data removed]",
      "text/plain": [
       "<Figure size 360x360 with 1 Axes>"
      ]
     },
     "metadata": {
      "needs_background": "light"
     },
     "output_type": "display_data"
    }
   ],
   "source": [
    "#analysing the numeric variables\n",
    "fin3n = fin3[['household_size', 'Respondent Age']]\n",
    "#Analyssing our respondents age\n",
    "sb.displot(fin3n['Respondent Age'], bins = 15,kde = True)\n",
    "plt.title('Distribution of age', fontsize = 20)\n",
    "plt.ylabel('Count', fontsize = 18)\n",
    "plt.xlabel('Age bin', fontsize = 18)\n",
    "plt.show()"
   ]
  },
  {
   "cell_type": "code",
   "execution_count": 16,
   "id": "61465702",
   "metadata": {
    "execution": {
     "iopub.execute_input": "2022-06-08T12:12:21.840086Z",
     "iopub.status.busy": "2022-06-08T12:12:21.839786Z",
     "iopub.status.idle": "2022-06-08T12:12:21.855280Z",
     "shell.execute_reply": "2022-06-08T12:12:21.854508Z"
    },
    "papermill": {
     "duration": 0.04912,
     "end_time": "2022-06-08T12:12:21.857052",
     "exception": false,
     "start_time": "2022-06-08T12:12:21.807932",
     "status": "completed"
    },
    "tags": []
   },
   "outputs": [
    {
     "data": {
      "text/html": [
       "<div>\n",
       "<style scoped>\n",
       "    .dataframe tbody tr th:only-of-type {\n",
       "        vertical-align: middle;\n",
       "    }\n",
       "\n",
       "    .dataframe tbody tr th {\n",
       "        vertical-align: top;\n",
       "    }\n",
       "\n",
       "    .dataframe thead th {\n",
       "        text-align: right;\n",
       "    }\n",
       "</style>\n",
       "<table border=\"1\" class=\"dataframe\">\n",
       "  <thead>\n",
       "    <tr style=\"text-align: right;\">\n",
       "      <th></th>\n",
       "      <th>Respondent Age</th>\n",
       "    </tr>\n",
       "  </thead>\n",
       "  <tbody>\n",
       "    <tr>\n",
       "      <th>count</th>\n",
       "      <td>23340.000000</td>\n",
       "    </tr>\n",
       "    <tr>\n",
       "      <th>mean</th>\n",
       "      <td>38.807069</td>\n",
       "    </tr>\n",
       "    <tr>\n",
       "      <th>std</th>\n",
       "      <td>16.519905</td>\n",
       "    </tr>\n",
       "    <tr>\n",
       "      <th>min</th>\n",
       "      <td>16.000000</td>\n",
       "    </tr>\n",
       "    <tr>\n",
       "      <th>25%</th>\n",
       "      <td>26.000000</td>\n",
       "    </tr>\n",
       "    <tr>\n",
       "      <th>50%</th>\n",
       "      <td>35.000000</td>\n",
       "    </tr>\n",
       "    <tr>\n",
       "      <th>75%</th>\n",
       "      <td>49.000000</td>\n",
       "    </tr>\n",
       "    <tr>\n",
       "      <th>max</th>\n",
       "      <td>100.000000</td>\n",
       "    </tr>\n",
       "  </tbody>\n",
       "</table>\n",
       "</div>"
      ],
      "text/plain": [
       "       Respondent Age\n",
       "count    23340.000000\n",
       "mean        38.807069\n",
       "std         16.519905\n",
       "min         16.000000\n",
       "25%         26.000000\n",
       "50%         35.000000\n",
       "75%         49.000000\n",
       "max        100.000000"
      ]
     },
     "execution_count": 16,
     "metadata": {},
     "output_type": "execute_result"
    }
   ],
   "source": [
    "#the descriptive statistics of the data\n",
    "pd.DataFrame(fin3n['Respondent Age']).describe()"
   ]
  },
  {
   "cell_type": "markdown",
   "id": "226a8c79",
   "metadata": {
    "papermill": {
     "duration": 0.021142,
     "end_time": "2022-06-08T12:12:21.899967",
     "exception": false,
     "start_time": "2022-06-08T12:12:21.878825",
     "status": "completed"
    },
    "tags": []
   },
   "source": [
    "From the table the minimum age of the respondent is sixteen years while the maximum age of the age is 100 years. The average age of the respondent is 38 years."
   ]
  },
  {
   "cell_type": "code",
   "execution_count": 17,
   "id": "550baaec",
   "metadata": {
    "execution": {
     "iopub.execute_input": "2022-06-08T12:12:21.942673Z",
     "iopub.status.busy": "2022-06-08T12:12:21.942394Z",
     "iopub.status.idle": "2022-06-08T12:12:21.953560Z",
     "shell.execute_reply": "2022-06-08T12:12:21.952490Z"
    },
    "papermill": {
     "duration": 0.034951,
     "end_time": "2022-06-08T12:12:21.955743",
     "exception": false,
     "start_time": "2022-06-08T12:12:21.920792",
     "status": "completed"
    },
    "tags": []
   },
   "outputs": [
    {
     "name": "stdout",
     "output_type": "stream",
     "text": [
      "The skewness of the respondents age is 0.8405\n",
      "\n",
      "The tail on the right side is greater than that on the left side the mean is greater than mode.\n",
      "\n",
      "The kurtosis of the data is 0.0979\n",
      "\n",
      "The data is heavy tailed and has high degree of peakedness the data is leptokurtic.\n"
     ]
    }
   ],
   "source": [
    "#creating a function to trancuate floats\n",
    "def mytrim(float_number, length):\n",
    "    if isinstance(float_number, float):\n",
    "        num =str(float_number)\n",
    "        digits =num.split(\".\")\n",
    "        return_str =float(digits[0] +\".\" +str(digits[1])[:length])\n",
    "        return return_str\n",
    "\n",
    "#checking on the skewness of the data \n",
    "from scipy import stats\n",
    "y = mytrim(stats.skew(fin3n['Respondent Age']), 4)\n",
    "print('The skewness of the respondents age is ' + str(y))\n",
    "if y > 0:\n",
    "    print('\\nThe tail on the right side is greater than that on the left side the mean is greater than mode.')\n",
    "else:\n",
    "    print('The tail on the left side is greater than that on the right side the mode is greater than teh mean.')\n",
    "\n",
    "#checking on the Kurtosis \n",
    "x = mytrim(stats.kurtosis(fin3n['Respondent Age']), 4)\n",
    "print('\\nThe kurtosis of the data is ' + str(x))\n",
    "if x == 0:\n",
    "    print('\\nThe data displays a normal distribution the data is mesokurtic.')\n",
    "elif x > 0:\n",
    "    print('\\nThe data is heavy tailed and has high degree of peakedness the data is leptokurtic.')\n",
    "else:\n",
    "    print ('\\nThe data is light tailed it has a low degree of peakedness the data is platykurtic.')  "
   ]
  },
  {
   "cell_type": "code",
   "execution_count": 18,
   "id": "5030ca9f",
   "metadata": {
    "execution": {
     "iopub.execute_input": "2022-06-08T12:12:22.001354Z",
     "iopub.status.busy": "2022-06-08T12:12:22.001028Z",
     "iopub.status.idle": "2022-06-08T12:12:22.382223Z",
     "shell.execute_reply": "2022-06-08T12:12:22.381501Z"
    },
    "papermill": {
     "duration": 0.405763,
     "end_time": "2022-06-08T12:12:22.384039",
     "exception": false,
     "start_time": "2022-06-08T12:12:21.978276",
     "status": "completed"
    },
    "tags": []
   },
   "outputs": [
    {
     "data": {
      "image/png": "[encoded data removed]",
      "text/plain": [
       "<Figure size 360x360 with 1 Axes>"
      ]
     },
     "metadata": {
      "needs_background": "light"
     },
     "output_type": "display_data"
    }
   ],
   "source": [
    "#analysing the household size\n",
    "sb.displot(fin3n['household_size'], bins = 15,kde = True)\n",
    "plt.title('Distribution of household sizes', fontsize = 20)\n",
    "plt.ylabel('Count', fontsize = 18)\n",
    "plt.xlabel('Household size bin', fontsize = 18);"
   ]
  },
  {
   "cell_type": "code",
   "execution_count": 19,
   "id": "f016a4b7",
   "metadata": {
    "execution": {
     "iopub.execute_input": "2022-06-08T12:12:22.427973Z",
     "iopub.status.busy": "2022-06-08T12:12:22.427668Z",
     "iopub.status.idle": "2022-06-08T12:12:22.440103Z",
     "shell.execute_reply": "2022-06-08T12:12:22.439331Z"
    },
    "papermill": {
     "duration": 0.036281,
     "end_time": "2022-06-08T12:12:22.441747",
     "exception": false,
     "start_time": "2022-06-08T12:12:22.405466",
     "status": "completed"
    },
    "tags": []
   },
   "outputs": [
    {
     "data": {
      "text/html": [
       "<div>\n",
       "<style scoped>\n",
       "    .dataframe tbody tr th:only-of-type {\n",
       "        vertical-align: middle;\n",
       "    }\n",
       "\n",
       "    .dataframe tbody tr th {\n",
       "        vertical-align: top;\n",
       "    }\n",
       "\n",
       "    .dataframe thead th {\n",
       "        text-align: right;\n",
       "    }\n",
       "</style>\n",
       "<table border=\"1\" class=\"dataframe\">\n",
       "  <thead>\n",
       "    <tr style=\"text-align: right;\">\n",
       "      <th></th>\n",
       "      <th>household_size</th>\n",
       "    </tr>\n",
       "  </thead>\n",
       "  <tbody>\n",
       "    <tr>\n",
       "      <th>count</th>\n",
       "      <td>23340.000000</td>\n",
       "    </tr>\n",
       "    <tr>\n",
       "      <th>mean</th>\n",
       "      <td>3.688560</td>\n",
       "    </tr>\n",
       "    <tr>\n",
       "      <th>std</th>\n",
       "      <td>2.281275</td>\n",
       "    </tr>\n",
       "    <tr>\n",
       "      <th>min</th>\n",
       "      <td>0.000000</td>\n",
       "    </tr>\n",
       "    <tr>\n",
       "      <th>25%</th>\n",
       "      <td>2.000000</td>\n",
       "    </tr>\n",
       "    <tr>\n",
       "      <th>50%</th>\n",
       "      <td>3.000000</td>\n",
       "    </tr>\n",
       "    <tr>\n",
       "      <th>75%</th>\n",
       "      <td>5.000000</td>\n",
       "    </tr>\n",
       "    <tr>\n",
       "      <th>max</th>\n",
       "      <td>21.000000</td>\n",
       "    </tr>\n",
       "  </tbody>\n",
       "</table>\n",
       "</div>"
      ],
      "text/plain": [
       "       household_size\n",
       "count    23340.000000\n",
       "mean         3.688560\n",
       "std          2.281275\n",
       "min          0.000000\n",
       "25%          2.000000\n",
       "50%          3.000000\n",
       "75%          5.000000\n",
       "max         21.000000"
      ]
     },
     "execution_count": 19,
     "metadata": {},
     "output_type": "execute_result"
    }
   ],
   "source": [
    "#the descriptive statistics of the data\n",
    "pd.DataFrame(fin3n['household_size']).describe()"
   ]
  },
  {
   "cell_type": "markdown",
   "id": "f1408160",
   "metadata": {
    "papermill": {
     "duration": 0.021099,
     "end_time": "2022-06-08T12:12:22.483962",
     "exception": false,
     "start_time": "2022-06-08T12:12:22.462863",
     "status": "completed"
    },
    "tags": []
   },
   "source": [
    "The average household size of the data is 3 people per household the maximum household size is 21 people in the household there are 23,340 respondents in the survey."
   ]
  },
  {
   "cell_type": "code",
   "execution_count": 20,
   "id": "7347c633",
   "metadata": {
    "execution": {
     "iopub.execute_input": "2022-06-08T12:12:22.527568Z",
     "iopub.status.busy": "2022-06-08T12:12:22.527312Z",
     "iopub.status.idle": "2022-06-08T12:12:22.535945Z",
     "shell.execute_reply": "2022-06-08T12:12:22.534735Z"
    },
    "papermill": {
     "duration": 0.032476,
     "end_time": "2022-06-08T12:12:22.537595",
     "exception": false,
     "start_time": "2022-06-08T12:12:22.505119",
     "status": "completed"
    },
    "tags": []
   },
   "outputs": [
    {
     "name": "stdout",
     "output_type": "stream",
     "text": [
      "The skewness of the respondents age is 0.9741\n",
      "\n",
      "The tail on the right side is greater than that on the left side the mean is greater than mode.\n",
      "\n",
      "The kurtosis of the data is 1.1533\n",
      "\n",
      "The data is heavy tailed and has high degree of peakedness the data is leptokurtic.\n"
     ]
    }
   ],
   "source": [
    "#checking on the skewness of the data \n",
    "from scipy import stats\n",
    "y = mytrim(stats.skew(fin3n['household_size']), 4)\n",
    "print('The skewness of the respondents age is ' + str(y))\n",
    "if y > 0:\n",
    "    print('\\nThe tail on the right side is greater than that on the left side the mean is greater than mode.')\n",
    "else:\n",
    "    print('The tail on the left side is greater than that on the right side the mode is greater than teh mean.')\n",
    "\n",
    "#checking on the Kurtosis \n",
    "x = mytrim(stats.kurtosis(fin3n['household_size']), 4)\n",
    "print('\\nThe kurtosis of the data is ' + str(x))\n",
    "if x == 0:\n",
    "    print('\\nThe data displays a normal distribution the data is mesokurtic.')\n",
    "elif x > 0:\n",
    "    print('\\nThe data is heavy tailed and has high degree of peakedness the data is leptokurtic.')\n",
    "else:\n",
    "    print ('\\nThe data is light tailed it has a low degree of peakedness the data is platykurtic.')  "
   ]
  },
  {
   "cell_type": "code",
   "execution_count": 21,
   "id": "cd5a996f",
   "metadata": {
    "execution": {
     "iopub.execute_input": "2022-06-08T12:12:22.581112Z",
     "iopub.status.busy": "2022-06-08T12:12:22.580865Z",
     "iopub.status.idle": "2022-06-08T12:12:31.900659Z",
     "shell.execute_reply": "2022-06-08T12:12:31.899891Z"
    },
    "papermill": {
     "duration": 9.344688,
     "end_time": "2022-06-08T12:12:31.903553",
     "exception": false,
     "start_time": "2022-06-08T12:12:22.558865",
     "status": "completed"
    },
    "tags": []
   },
   "outputs": [
    {
     "data": {
      "image/png": "[encoded data removed]",
      "text/plain": [
       "<Figure size 679.4x540 with 12 Axes>"
      ]
     },
     "metadata": {
      "needs_background": "light"
     },
     "output_type": "display_data"
    }
   ],
   "source": [
    "#creating teh pairplot for our numerical variables\n",
    "sb.pairplot(fin3, hue ='Has a Bank account' )\n",
    "plt.show()"
   ]
  },
  {
   "cell_type": "markdown",
   "id": "ce4a6cc5",
   "metadata": {
    "papermill": {
     "duration": 0.022988,
     "end_time": "2022-06-08T12:12:31.950210",
     "exception": false,
     "start_time": "2022-06-08T12:12:31.927222",
     "status": "completed"
    },
    "tags": []
   },
   "source": [
    "## Bivariate analysis"
   ]
  },
  {
   "cell_type": "code",
   "execution_count": 22,
   "id": "8ac38b40",
   "metadata": {
    "execution": {
     "iopub.execute_input": "2022-06-08T12:12:31.997940Z",
     "iopub.status.busy": "2022-06-08T12:12:31.997626Z",
     "iopub.status.idle": "2022-06-08T12:12:32.001934Z",
     "shell.execute_reply": "2022-06-08T12:12:32.001219Z"
    },
    "papermill": {
     "duration": 0.030205,
     "end_time": "2022-06-08T12:12:32.003605",
     "exception": false,
     "start_time": "2022-06-08T12:12:31.973400",
     "status": "completed"
    },
    "tags": []
   },
   "outputs": [],
   "source": [
    "#creating a function to add labels to our barplots\n",
    "def addlabels(x,y):\n",
    "    for i in range(len(x)):\n",
    "        plt.text(i, y[i], y[i], ha = 'center')"
   ]
  },
  {
   "cell_type": "markdown",
   "id": "35f86be0",
   "metadata": {
    "papermill": {
     "duration": 0.022496,
     "end_time": "2022-06-08T12:12:32.049355",
     "exception": false,
     "start_time": "2022-06-08T12:12:32.026859",
     "status": "completed"
    },
    "tags": []
   },
   "source": [
    "### 1. Country of respondents and age"
   ]
  },
  {
   "cell_type": "code",
   "execution_count": 23,
   "id": "96625375",
   "metadata": {
    "execution": {
     "iopub.execute_input": "2022-06-08T12:12:32.097015Z",
     "iopub.status.busy": "2022-06-08T12:12:32.096306Z",
     "iopub.status.idle": "2022-06-08T12:12:32.284217Z",
     "shell.execute_reply": "2022-06-08T12:12:32.283529Z"
    },
    "papermill": {
     "duration": 0.213112,
     "end_time": "2022-06-08T12:12:32.285991",
     "exception": false,
     "start_time": "2022-06-08T12:12:32.072879",
     "status": "completed"
    },
    "tags": []
   },
   "outputs": [
    {
     "data": {
      "image/png": "[encoded data removed]",
      "text/plain": [
       "<Figure size 720x360 with 1 Axes>"
      ]
     },
     "metadata": {
      "needs_background": "light"
     },
     "output_type": "display_data"
    }
   ],
   "source": [
    "#visualizing the countries total respondents\n",
    "x = fin3['country'].unique()\n",
    "y = fin3['country'].value_counts()    \n",
    "# making the bar chart on the data\n",
    "plt.bar(x, y, color = colors)\n",
    "# calling the function to add value labels\n",
    "addlabels(x, y)     \n",
    "plt.title('Number of respondents.', fontsize=18, fontweight = 'bold', color = 'teal')\n",
    "plt.ylabel('Count', fontsize=18)\n",
    "plt.xlabel('Country', fontsize=18)\n",
    "plt.show()"
   ]
  },
  {
   "cell_type": "code",
   "execution_count": 24,
   "id": "d2561a9e",
   "metadata": {
    "execution": {
     "iopub.execute_input": "2022-06-08T12:12:32.333838Z",
     "iopub.status.busy": "2022-06-08T12:12:32.333555Z",
     "iopub.status.idle": "2022-06-08T12:12:32.359425Z",
     "shell.execute_reply": "2022-06-08T12:12:32.358665Z"
    },
    "papermill": {
     "duration": 0.052011,
     "end_time": "2022-06-08T12:12:32.361042",
     "exception": false,
     "start_time": "2022-06-08T12:12:32.309031",
     "status": "completed"
    },
    "tags": []
   },
   "outputs": [
    {
     "data": {
      "text/html": [
       "<div>\n",
       "<style scoped>\n",
       "    .dataframe tbody tr th:only-of-type {\n",
       "        vertical-align: middle;\n",
       "    }\n",
       "\n",
       "    .dataframe tbody tr th {\n",
       "        vertical-align: top;\n",
       "    }\n",
       "\n",
       "    .dataframe thead th {\n",
       "        text-align: right;\n",
       "    }\n",
       "</style>\n",
       "<table border=\"1\" class=\"dataframe\">\n",
       "  <thead>\n",
       "    <tr style=\"text-align: right;\">\n",
       "      <th>Has a Bank account</th>\n",
       "      <th>No</th>\n",
       "      <th>Yes</th>\n",
       "      <th>percent</th>\n",
       "    </tr>\n",
       "    <tr>\n",
       "      <th>country</th>\n",
       "      <th></th>\n",
       "      <th></th>\n",
       "      <th></th>\n",
       "    </tr>\n",
       "  </thead>\n",
       "  <tbody>\n",
       "    <tr>\n",
       "      <th>Kenya</th>\n",
       "      <td>4543</td>\n",
       "      <td>1519</td>\n",
       "      <td>25.057737</td>\n",
       "    </tr>\n",
       "    <tr>\n",
       "      <th>Rwanda</th>\n",
       "      <td>7686</td>\n",
       "      <td>997</td>\n",
       "      <td>11.482207</td>\n",
       "    </tr>\n",
       "    <tr>\n",
       "      <th>Tanzania</th>\n",
       "      <td>5901</td>\n",
       "      <td>599</td>\n",
       "      <td>9.215385</td>\n",
       "    </tr>\n",
       "    <tr>\n",
       "      <th>Uganda</th>\n",
       "      <td>1914</td>\n",
       "      <td>181</td>\n",
       "      <td>8.639618</td>\n",
       "    </tr>\n",
       "  </tbody>\n",
       "</table>\n",
       "</div>"
      ],
      "text/plain": [
       "Has a Bank account    No   Yes    percent\n",
       "country                                  \n",
       "Kenya               4543  1519  25.057737\n",
       "Rwanda              7686   997  11.482207\n",
       "Tanzania            5901   599   9.215385\n",
       "Uganda              1914   181   8.639618"
      ]
     },
     "execution_count": 24,
     "metadata": {},
     "output_type": "execute_result"
    }
   ],
   "source": [
    "#creating a crosstab for the country and individuals with bank account\n",
    "df = pd.crosstab(fin3['country'], fin3['Has a Bank account'])\n",
    "df['percent'] = (df.Yes/(df.Yes + df.No)) * 100\n",
    "df"
   ]
  },
  {
   "cell_type": "code",
   "execution_count": 25,
   "id": "508c0e16",
   "metadata": {
    "execution": {
     "iopub.execute_input": "2022-06-08T12:12:32.409379Z",
     "iopub.status.busy": "2022-06-08T12:12:32.409127Z",
     "iopub.status.idle": "2022-06-08T12:12:32.512329Z",
     "shell.execute_reply": "2022-06-08T12:12:32.511516Z"
    },
    "papermill": {
     "duration": 0.129138,
     "end_time": "2022-06-08T12:12:32.514165",
     "exception": false,
     "start_time": "2022-06-08T12:12:32.385027",
     "status": "completed"
    },
    "tags": []
   },
   "outputs": [
    {
     "data": {
      "text/html": [
       "<style type=\"text/css\">\n",
       "#T_cf0c4_row0_col0 {\n",
       "  background-color: #e7e3f0;\n",
       "  color: #000000;\n",
       "}\n",
       "#T_cf0c4_row0_col1 {\n",
       "  background-color: #91b5d6;\n",
       "  color: #000000;\n",
       "}\n",
       "#T_cf0c4_row0_col2 {\n",
       "  background-color: #dfddec;\n",
       "  color: #000000;\n",
       "}\n",
       "#T_cf0c4_row1_col0 {\n",
       "  background-color: #b9c6e0;\n",
       "  color: #000000;\n",
       "}\n",
       "#T_cf0c4_row1_col1 {\n",
       "  background-color: #cccfe5;\n",
       "  color: #000000;\n",
       "}\n",
       "#T_cf0c4_row1_col2 {\n",
       "  background-color: #bcc7e1;\n",
       "  color: #000000;\n",
       "}\n",
       "#T_cf0c4_row2_col0 {\n",
       "  background-color: #d7d6e9;\n",
       "  color: #000000;\n",
       "}\n",
       "#T_cf0c4_row2_col1 {\n",
       "  background-color: #eae6f1;\n",
       "  color: #000000;\n",
       "}\n",
       "#T_cf0c4_row2_col2 {\n",
       "  background-color: #d9d8ea;\n",
       "  color: #000000;\n",
       "}\n",
       "#T_cf0c4_row3_col0, #T_cf0c4_row3_col1, #T_cf0c4_row3_col2 {\n",
       "  background-color: #fff7fb;\n",
       "  color: #000000;\n",
       "}\n",
       "#T_cf0c4_row4_col0, #T_cf0c4_row4_col1, #T_cf0c4_row4_col2 {\n",
       "  background-color: #023858;\n",
       "  color: #f1f1f1;\n",
       "}\n",
       "</style>\n",
       "<table id=\"T_cf0c4_\">\n",
       "  <caption>Heatmap of respondents with bank accounts</caption>\n",
       "  <thead>\n",
       "    <tr>\n",
       "      <th class=\"index_name level0\" >Has a Bank account</th>\n",
       "      <th class=\"col_heading level0 col0\" >No</th>\n",
       "      <th class=\"col_heading level0 col1\" >Yes</th>\n",
       "      <th class=\"col_heading level0 col2\" >Total</th>\n",
       "    </tr>\n",
       "    <tr>\n",
       "      <th class=\"index_name level0\" >country</th>\n",
       "      <th class=\"blank col0\" >&nbsp;</th>\n",
       "      <th class=\"blank col1\" >&nbsp;</th>\n",
       "      <th class=\"blank col2\" >&nbsp;</th>\n",
       "    </tr>\n",
       "  </thead>\n",
       "  <tbody>\n",
       "    <tr>\n",
       "      <th id=\"T_cf0c4_level0_row0\" class=\"row_heading level0 row0\" >Kenya</th>\n",
       "      <td id=\"T_cf0c4_row0_col0\" class=\"data row0 col0\" >19.46%</td>\n",
       "      <td id=\"T_cf0c4_row0_col1\" class=\"data row0 col1\" >6.51%</td>\n",
       "      <td id=\"T_cf0c4_row0_col2\" class=\"data row0 col2\" >25.97%</td>\n",
       "    </tr>\n",
       "    <tr>\n",
       "      <th id=\"T_cf0c4_level0_row1\" class=\"row_heading level0 row1\" >Rwanda</th>\n",
       "      <td id=\"T_cf0c4_row1_col0\" class=\"data row1 col0\" >32.93%</td>\n",
       "      <td id=\"T_cf0c4_row1_col1\" class=\"data row1 col1\" >4.27%</td>\n",
       "      <td id=\"T_cf0c4_row1_col2\" class=\"data row1 col2\" >37.20%</td>\n",
       "    </tr>\n",
       "    <tr>\n",
       "      <th id=\"T_cf0c4_level0_row2\" class=\"row_heading level0 row2\" >Tanzania</th>\n",
       "      <td id=\"T_cf0c4_row2_col0\" class=\"data row2 col0\" >25.28%</td>\n",
       "      <td id=\"T_cf0c4_row2_col1\" class=\"data row2 col1\" >2.57%</td>\n",
       "      <td id=\"T_cf0c4_row2_col2\" class=\"data row2 col2\" >27.85%</td>\n",
       "    </tr>\n",
       "    <tr>\n",
       "      <th id=\"T_cf0c4_level0_row3\" class=\"row_heading level0 row3\" >Uganda</th>\n",
       "      <td id=\"T_cf0c4_row3_col0\" class=\"data row3 col0\" >8.20%</td>\n",
       "      <td id=\"T_cf0c4_row3_col1\" class=\"data row3 col1\" >0.78%</td>\n",
       "      <td id=\"T_cf0c4_row3_col2\" class=\"data row3 col2\" >8.98%</td>\n",
       "    </tr>\n",
       "    <tr>\n",
       "      <th id=\"T_cf0c4_level0_row4\" class=\"row_heading level0 row4\" >Total</th>\n",
       "      <td id=\"T_cf0c4_row4_col0\" class=\"data row4 col0\" >85.88%</td>\n",
       "      <td id=\"T_cf0c4_row4_col1\" class=\"data row4 col1\" >14.12%</td>\n",
       "      <td id=\"T_cf0c4_row4_col2\" class=\"data row4 col2\" >100.00%</td>\n",
       "    </tr>\n",
       "  </tbody>\n",
       "</table>\n"
      ],
      "text/plain": [
       "<pandas.io.formats.style.Styler at 0x7f779650d4d0>"
      ]
     },
     "execution_count": 25,
     "metadata": {},
     "output_type": "execute_result"
    }
   ],
   "source": [
    "#visualizing the percentages \n",
    "adf = pd.crosstab(fin3['country'], fin3['Has a Bank account'], margins = True,normalize = True, margins_name = 'Total').style.format('{:.2%}').background_gradient().set_caption('Heatmap of respondents with bank accounts')\n",
    "adf"
   ]
  },
  {
   "cell_type": "markdown",
   "id": "3d79ef55",
   "metadata": {
    "papermill": {
     "duration": 0.023455,
     "end_time": "2022-06-08T12:12:32.561127",
     "exception": false,
     "start_time": "2022-06-08T12:12:32.537672",
     "status": "completed"
    },
    "tags": []
   },
   "source": [
    "### 2. Gender of respondents"
   ]
  },
  {
   "cell_type": "code",
   "execution_count": 26,
   "id": "9fae0495",
   "metadata": {
    "execution": {
     "iopub.execute_input": "2022-06-08T12:12:32.609599Z",
     "iopub.status.busy": "2022-06-08T12:12:32.609348Z",
     "iopub.status.idle": "2022-06-08T12:12:32.717127Z",
     "shell.execute_reply": "2022-06-08T12:12:32.716245Z"
    },
    "papermill": {
     "duration": 0.134396,
     "end_time": "2022-06-08T12:12:32.719391",
     "exception": false,
     "start_time": "2022-06-08T12:12:32.584995",
     "status": "completed"
    },
    "tags": []
   },
   "outputs": [
    {
     "data": {
      "image/png": "[encoded data removed]",
      "text/plain": [
       "<Figure size 720x360 with 1 Axes>"
      ]
     },
     "metadata": {},
     "output_type": "display_data"
    }
   ],
   "source": [
    "#creating pie chart\n",
    "fin3['gender_of_respondent'].value_counts().nlargest(10).plot(kind = \"pie\", startangle = 144 , colors = colors,explode = (0.07,0),autopct = '%1.1f%%')\n",
    "plt.title('Age brackets of our respondents', fontsize = 20, fontweight = 'bold', color = 'teal')\n",
    "plt.axis('off')\n",
    "plt.xlabel(None)\n",
    "plt.ylabel(None)\n",
    "plt.show()"
   ]
  },
  {
   "cell_type": "code",
   "execution_count": 27,
   "id": "ec804ce1",
   "metadata": {
    "execution": {
     "iopub.execute_input": "2022-06-08T12:12:32.811199Z",
     "iopub.status.busy": "2022-06-08T12:12:32.810696Z",
     "iopub.status.idle": "2022-06-08T12:12:32.931058Z",
     "shell.execute_reply": "2022-06-08T12:12:32.930230Z"
    },
    "papermill": {
     "duration": 0.169094,
     "end_time": "2022-06-08T12:12:32.932811",
     "exception": false,
     "start_time": "2022-06-08T12:12:32.763717",
     "status": "completed"
    },
    "tags": []
   },
   "outputs": [
    {
     "data": {
      "image/png": "[encoded data removed]",
      "text/plain": [
       "<Figure size 720x360 with 1 Axes>"
      ]
     },
     "metadata": {
      "needs_background": "light"
     },
     "output_type": "display_data"
    }
   ],
   "source": [
    "#creating a bar plot\n",
    "gender = fin3['gender_of_respondent'].unique()\n",
    "res = fin3['gender_of_respondent'].value_counts()\n",
    "plt.bar(gender, res, color = colors)\n",
    "ax = plt.gca()\n",
    "ax.get_yaxis().set_visible(False)\n",
    "addlabels(gender, res)\n",
    "plt.title('Gender of respondents', fontsize = 20, fontweight = 'bold', color = 'teal')\n",
    "plt.xlabel(None)\n",
    "plt.ylabel(None)\n",
    "plt.show()"
   ]
  },
  {
   "cell_type": "markdown",
   "id": "e8f0e1b5",
   "metadata": {
    "papermill": {
     "duration": 0.03101,
     "end_time": "2022-06-08T12:12:33.008963",
     "exception": false,
     "start_time": "2022-06-08T12:12:32.977953",
     "status": "completed"
    },
    "tags": []
   },
   "source": [
    "### 3. Education level"
   ]
  },
  {
   "cell_type": "code",
   "execution_count": 28,
   "id": "4a66803a",
   "metadata": {
    "execution": {
     "iopub.execute_input": "2022-06-08T12:12:33.058468Z",
     "iopub.status.busy": "2022-06-08T12:12:33.058159Z",
     "iopub.status.idle": "2022-06-08T12:12:33.081030Z",
     "shell.execute_reply": "2022-06-08T12:12:33.080192Z"
    },
    "papermill": {
     "duration": 0.049709,
     "end_time": "2022-06-08T12:12:33.082827",
     "exception": false,
     "start_time": "2022-06-08T12:12:33.033118",
     "status": "completed"
    },
    "tags": []
   },
   "outputs": [
    {
     "data": {
      "text/html": [
       "<div>\n",
       "<style scoped>\n",
       "    .dataframe tbody tr th:only-of-type {\n",
       "        vertical-align: middle;\n",
       "    }\n",
       "\n",
       "    .dataframe tbody tr th {\n",
       "        vertical-align: top;\n",
       "    }\n",
       "\n",
       "    .dataframe thead th {\n",
       "        text-align: right;\n",
       "    }\n",
       "</style>\n",
       "<table border=\"1\" class=\"dataframe\">\n",
       "  <thead>\n",
       "    <tr style=\"text-align: right;\">\n",
       "      <th>Has a Bank account</th>\n",
       "      <th>No</th>\n",
       "      <th>Yes</th>\n",
       "      <th>percent</th>\n",
       "    </tr>\n",
       "    <tr>\n",
       "      <th>Level of Educuation</th>\n",
       "      <th></th>\n",
       "      <th></th>\n",
       "      <th></th>\n",
       "    </tr>\n",
       "  </thead>\n",
       "  <tbody>\n",
       "    <tr>\n",
       "      <th>6</th>\n",
       "      <td>22</td>\n",
       "      <td>5</td>\n",
       "      <td>18.518519</td>\n",
       "    </tr>\n",
       "    <tr>\n",
       "      <th>No formal education</th>\n",
       "      <td>4291</td>\n",
       "      <td>176</td>\n",
       "      <td>3.940004</td>\n",
       "    </tr>\n",
       "    <tr>\n",
       "      <th>Other/Dont know/RTA</th>\n",
       "      <td>2</td>\n",
       "      <td>6</td>\n",
       "      <td>75.000000</td>\n",
       "    </tr>\n",
       "    <tr>\n",
       "      <th>Primary education</th>\n",
       "      <td>11605</td>\n",
       "      <td>1083</td>\n",
       "      <td>8.535624</td>\n",
       "    </tr>\n",
       "    <tr>\n",
       "      <th>Secondary education</th>\n",
       "      <td>3225</td>\n",
       "      <td>981</td>\n",
       "      <td>23.323823</td>\n",
       "    </tr>\n",
       "  </tbody>\n",
       "</table>\n",
       "</div>"
      ],
      "text/plain": [
       "Has a Bank account      No   Yes    percent\n",
       "Level of Educuation                        \n",
       "6                       22     5  18.518519\n",
       "No formal education   4291   176   3.940004\n",
       "Other/Dont know/RTA      2     6  75.000000\n",
       "Primary education    11605  1083   8.535624\n",
       "Secondary education   3225   981  23.323823"
      ]
     },
     "execution_count": 28,
     "metadata": {},
     "output_type": "execute_result"
    }
   ],
   "source": [
    "#education level and individuals havig bank accounts\n",
    "df1 = pd.crosstab(fin3['Level of Educuation'], fin3['Has a Bank account'])\n",
    "df1['percent'] = (df1.Yes/(df1.Yes + df1.No)) * 100\n",
    "df1.head()"
   ]
  },
  {
   "cell_type": "code",
   "execution_count": 29,
   "id": "383b5fae",
   "metadata": {
    "execution": {
     "iopub.execute_input": "2022-06-08T12:12:33.132384Z",
     "iopub.status.busy": "2022-06-08T12:12:33.132116Z",
     "iopub.status.idle": "2022-06-08T12:12:33.186814Z",
     "shell.execute_reply": "2022-06-08T12:12:33.186081Z"
    },
    "papermill": {
     "duration": 0.081472,
     "end_time": "2022-06-08T12:12:33.188534",
     "exception": false,
     "start_time": "2022-06-08T12:12:33.107062",
     "status": "completed"
    },
    "tags": []
   },
   "outputs": [
    {
     "data": {
      "text/html": [
       "<style type=\"text/css\">\n",
       "#T_d97ad_row0_col0, #T_d97ad_row0_col1, #T_d97ad_row0_col2, #T_d97ad_row2_col0, #T_d97ad_row2_col1, #T_d97ad_row2_col2 {\n",
       "  background-color: #fff7fb;\n",
       "  color: #000000;\n",
       "}\n",
       "#T_d97ad_row1_col0 {\n",
       "  background-color: #d9d8ea;\n",
       "  color: #000000;\n",
       "}\n",
       "#T_d97ad_row1_col1 {\n",
       "  background-color: #f7f0f7;\n",
       "  color: #000000;\n",
       "}\n",
       "#T_d97ad_row1_col2 {\n",
       "  background-color: #dedcec;\n",
       "  color: #000000;\n",
       "}\n",
       "#T_d97ad_row3_col0 {\n",
       "  background-color: #4c99c5;\n",
       "  color: #f1f1f1;\n",
       "}\n",
       "#T_d97ad_row3_col1 {\n",
       "  background-color: #b7c5df;\n",
       "  color: #000000;\n",
       "}\n",
       "#T_d97ad_row3_col2 {\n",
       "  background-color: #5ea0ca;\n",
       "  color: #f1f1f1;\n",
       "}\n",
       "#T_d97ad_row4_col0 {\n",
       "  background-color: #e4e1ef;\n",
       "  color: #000000;\n",
       "}\n",
       "#T_d97ad_row4_col1 {\n",
       "  background-color: #c1cae2;\n",
       "  color: #000000;\n",
       "}\n",
       "#T_d97ad_row4_col2 {\n",
       "  background-color: #e0dded;\n",
       "  color: #000000;\n",
       "}\n",
       "#T_d97ad_row5_col0 {\n",
       "  background-color: #fbf3f9;\n",
       "  color: #000000;\n",
       "}\n",
       "#T_d97ad_row5_col1 {\n",
       "  background-color: #e0deed;\n",
       "  color: #000000;\n",
       "}\n",
       "#T_d97ad_row5_col2 {\n",
       "  background-color: #f8f1f8;\n",
       "  color: #000000;\n",
       "}\n",
       "#T_d97ad_row6_col0 {\n",
       "  background-color: #fdf5fa;\n",
       "  color: #000000;\n",
       "}\n",
       "#T_d97ad_row6_col1 {\n",
       "  background-color: #e9e5f1;\n",
       "  color: #000000;\n",
       "}\n",
       "#T_d97ad_row6_col2 {\n",
       "  background-color: #faf3f9;\n",
       "  color: #000000;\n",
       "}\n",
       "#T_d97ad_row7_col0, #T_d97ad_row7_col1, #T_d97ad_row7_col2 {\n",
       "  background-color: #023858;\n",
       "  color: #f1f1f1;\n",
       "}\n",
       "</style>\n",
       "<table id=\"T_d97ad_\">\n",
       "  <caption>Heatmap of respondents with bank accounts</caption>\n",
       "  <thead>\n",
       "    <tr>\n",
       "      <th class=\"index_name level0\" >Has a Bank account</th>\n",
       "      <th class=\"col_heading level0 col0\" >No</th>\n",
       "      <th class=\"col_heading level0 col1\" >Yes</th>\n",
       "      <th class=\"col_heading level0 col2\" >Total</th>\n",
       "    </tr>\n",
       "    <tr>\n",
       "      <th class=\"index_name level0\" >Level of Educuation</th>\n",
       "      <th class=\"blank col0\" >&nbsp;</th>\n",
       "      <th class=\"blank col1\" >&nbsp;</th>\n",
       "      <th class=\"blank col2\" >&nbsp;</th>\n",
       "    </tr>\n",
       "  </thead>\n",
       "  <tbody>\n",
       "    <tr>\n",
       "      <th id=\"T_d97ad_level0_row0\" class=\"row_heading level0 row0\" >6</th>\n",
       "      <td id=\"T_d97ad_row0_col0\" class=\"data row0 col0\" >0.09%</td>\n",
       "      <td id=\"T_d97ad_row0_col1\" class=\"data row0 col1\" >0.02%</td>\n",
       "      <td id=\"T_d97ad_row0_col2\" class=\"data row0 col2\" >0.12%</td>\n",
       "    </tr>\n",
       "    <tr>\n",
       "      <th id=\"T_d97ad_level0_row1\" class=\"row_heading level0 row1\" >No formal education</th>\n",
       "      <td id=\"T_d97ad_row1_col0\" class=\"data row1 col0\" >18.38%</td>\n",
       "      <td id=\"T_d97ad_row1_col1\" class=\"data row1 col1\" >0.75%</td>\n",
       "      <td id=\"T_d97ad_row1_col2\" class=\"data row1 col2\" >19.14%</td>\n",
       "    </tr>\n",
       "    <tr>\n",
       "      <th id=\"T_d97ad_level0_row2\" class=\"row_heading level0 row2\" >Other/Dont know/RTA</th>\n",
       "      <td id=\"T_d97ad_row2_col0\" class=\"data row2 col0\" >0.01%</td>\n",
       "      <td id=\"T_d97ad_row2_col1\" class=\"data row2 col1\" >0.03%</td>\n",
       "      <td id=\"T_d97ad_row2_col2\" class=\"data row2 col2\" >0.03%</td>\n",
       "    </tr>\n",
       "    <tr>\n",
       "      <th id=\"T_d97ad_level0_row3\" class=\"row_heading level0 row3\" >Primary education</th>\n",
       "      <td id=\"T_d97ad_row3_col0\" class=\"data row3 col0\" >49.72%</td>\n",
       "      <td id=\"T_d97ad_row3_col1\" class=\"data row3 col1\" >4.64%</td>\n",
       "      <td id=\"T_d97ad_row3_col2\" class=\"data row3 col2\" >54.36%</td>\n",
       "    </tr>\n",
       "    <tr>\n",
       "      <th id=\"T_d97ad_level0_row4\" class=\"row_heading level0 row4\" >Secondary education</th>\n",
       "      <td id=\"T_d97ad_row4_col0\" class=\"data row4 col0\" >13.82%</td>\n",
       "      <td id=\"T_d97ad_row4_col1\" class=\"data row4 col1\" >4.20%</td>\n",
       "      <td id=\"T_d97ad_row4_col2\" class=\"data row4 col2\" >18.02%</td>\n",
       "    </tr>\n",
       "    <tr>\n",
       "      <th id=\"T_d97ad_level0_row5\" class=\"row_heading level0 row5\" >Tertiary education</th>\n",
       "      <td id=\"T_d97ad_row5_col0\" class=\"data row5 col0\" >2.37%</td>\n",
       "      <td id=\"T_d97ad_row5_col1\" class=\"data row5 col1\" >2.52%</td>\n",
       "      <td id=\"T_d97ad_row5_col2\" class=\"data row5 col2\" >4.90%</td>\n",
       "    </tr>\n",
       "    <tr>\n",
       "      <th id=\"T_d97ad_level0_row6\" class=\"row_heading level0 row6\" >Vocational/Specialised training</th>\n",
       "      <td id=\"T_d97ad_row6_col0\" class=\"data row6 col0\" >1.48%</td>\n",
       "      <td id=\"T_d97ad_row6_col1\" class=\"data row6 col1\" >1.95%</td>\n",
       "      <td id=\"T_d97ad_row6_col2\" class=\"data row6 col2\" >3.43%</td>\n",
       "    </tr>\n",
       "    <tr>\n",
       "      <th id=\"T_d97ad_level0_row7\" class=\"row_heading level0 row7\" >Total</th>\n",
       "      <td id=\"T_d97ad_row7_col0\" class=\"data row7 col0\" >85.88%</td>\n",
       "      <td id=\"T_d97ad_row7_col1\" class=\"data row7 col1\" >14.12%</td>\n",
       "      <td id=\"T_d97ad_row7_col2\" class=\"data row7 col2\" >100.00%</td>\n",
       "    </tr>\n",
       "  </tbody>\n",
       "</table>\n"
      ],
      "text/plain": [
       "<pandas.io.formats.style.Styler at 0x7f779670ba90>"
      ]
     },
     "execution_count": 29,
     "metadata": {},
     "output_type": "execute_result"
    }
   ],
   "source": [
    "#checcking on the percentage\n",
    "adf = pd.crosstab(fin3['Level of Educuation'], fin3['Has a Bank account'], margins = True,normalize = True, margins_name = 'Total').style.format('{:.2%}').background_gradient().set_caption('Heatmap of respondents with bank accounts')\n",
    "adf"
   ]
  },
  {
   "cell_type": "code",
   "execution_count": 30,
   "id": "c80cd80c",
   "metadata": {
    "execution": {
     "iopub.execute_input": "2022-06-08T12:12:33.239398Z",
     "iopub.status.busy": "2022-06-08T12:12:33.239136Z",
     "iopub.status.idle": "2022-06-08T12:12:33.412909Z",
     "shell.execute_reply": "2022-06-08T12:12:33.412200Z"
    },
    "papermill": {
     "duration": 0.202247,
     "end_time": "2022-06-08T12:12:33.415236",
     "exception": false,
     "start_time": "2022-06-08T12:12:33.212989",
     "status": "completed"
    },
    "tags": []
   },
   "outputs": [
    {
     "data": {
      "image/png": "[encoded data removed]",
      "text/plain": [
       "<Figure size 1008x720 with 1 Axes>"
      ]
     },
     "metadata": {
      "needs_background": "light"
     },
     "output_type": "display_data"
    }
   ],
   "source": [
    "#creating a tree map \n",
    "import squarify\n",
    "count = fin3['Level of Educuation'].value_counts()\n",
    "ed = fin3['Level of Educuation'].unique()\n",
    "plt.rc('font', size = 17)\n",
    "plt.figure(figsize = (14, 10))\n",
    "squarify.plot(sizes = count, label = ed, color = colors, alpha = 0.9)\n",
    "plt.axis('off')\n",
    "plt.title('Education Level', fontsize = 20, fontweight = 'bold', color = 'teal')\n",
    "plt.show()"
   ]
  },
  {
   "cell_type": "code",
   "execution_count": 31,
   "id": "6c92ac9c",
   "metadata": {
    "execution": {
     "iopub.execute_input": "2022-06-08T12:12:33.469842Z",
     "iopub.status.busy": "2022-06-08T12:12:33.469576Z",
     "iopub.status.idle": "2022-06-08T12:12:33.672106Z",
     "shell.execute_reply": "2022-06-08T12:12:33.671295Z"
    },
    "papermill": {
     "duration": 0.230338,
     "end_time": "2022-06-08T12:12:33.674428",
     "exception": false,
     "start_time": "2022-06-08T12:12:33.444090",
     "status": "completed"
    },
    "tags": []
   },
   "outputs": [
    {
     "data": {
      "image/png": "[encoded data removed]",
      "text/plain": [
       "<Figure size 1008x720 with 1 Axes>"
      ]
     },
     "metadata": {},
     "output_type": "display_data"
    }
   ],
   "source": [
    "#creating a pie chart\n",
    "plt.figure(figsize = (14, 10))\n",
    "fin3['Level of Educuation'].value_counts().nlargest(10).plot(kind = \"pie\", startangle = 144 , colors = colors,explode = (0.07,0,0,0,0,0,0),autopct = '%1.1f%%')\n",
    "plt.title('Level of education of our respondents', fontsize = 20, fontweight = 'bold', color = 'teal')\n",
    "plt.axis('off')\n",
    "plt.xlabel(None)\n",
    "plt.ylabel(None)\n",
    "plt.show()"
   ]
  },
  {
   "cell_type": "markdown",
   "id": "9fd0f18c",
   "metadata": {
    "papermill": {
     "duration": 0.025738,
     "end_time": "2022-06-08T12:12:33.739122",
     "exception": false,
     "start_time": "2022-06-08T12:12:33.713384",
     "status": "completed"
    },
    "tags": []
   },
   "source": [
    "### 4. Type of job of respondent"
   ]
  },
  {
   "cell_type": "code",
   "execution_count": 32,
   "id": "39b1c087",
   "metadata": {
    "execution": {
     "iopub.execute_input": "2022-06-08T12:12:33.791632Z",
     "iopub.status.busy": "2022-06-08T12:12:33.791339Z",
     "iopub.status.idle": "2022-06-08T12:12:33.814162Z",
     "shell.execute_reply": "2022-06-08T12:12:33.813370Z"
    },
    "papermill": {
     "duration": 0.051273,
     "end_time": "2022-06-08T12:12:33.815931",
     "exception": false,
     "start_time": "2022-06-08T12:12:33.764658",
     "status": "completed"
    },
    "tags": []
   },
   "outputs": [
    {
     "data": {
      "text/html": [
       "<div>\n",
       "<style scoped>\n",
       "    .dataframe tbody tr th:only-of-type {\n",
       "        vertical-align: middle;\n",
       "    }\n",
       "\n",
       "    .dataframe tbody tr th {\n",
       "        vertical-align: top;\n",
       "    }\n",
       "\n",
       "    .dataframe thead th {\n",
       "        text-align: right;\n",
       "    }\n",
       "</style>\n",
       "<table border=\"1\" class=\"dataframe\">\n",
       "  <thead>\n",
       "    <tr style=\"text-align: right;\">\n",
       "      <th>Has a Bank account</th>\n",
       "      <th>No</th>\n",
       "      <th>Yes</th>\n",
       "      <th>percent</th>\n",
       "    </tr>\n",
       "    <tr>\n",
       "      <th>Type of Job</th>\n",
       "      <th></th>\n",
       "      <th></th>\n",
       "      <th></th>\n",
       "    </tr>\n",
       "  </thead>\n",
       "  <tbody>\n",
       "    <tr>\n",
       "      <th>Dont Know/Refuse to answer</th>\n",
       "      <td>111</td>\n",
       "      <td>14</td>\n",
       "      <td>11.200000</td>\n",
       "    </tr>\n",
       "    <tr>\n",
       "      <th>Farming and Fishing</th>\n",
       "      <td>4788</td>\n",
       "      <td>634</td>\n",
       "      <td>11.693102</td>\n",
       "    </tr>\n",
       "    <tr>\n",
       "      <th>Formally employed Government</th>\n",
       "      <td>87</td>\n",
       "      <td>299</td>\n",
       "      <td>77.461140</td>\n",
       "    </tr>\n",
       "    <tr>\n",
       "      <th>Formally employed Private</th>\n",
       "      <td>481</td>\n",
       "      <td>566</td>\n",
       "      <td>54.059217</td>\n",
       "    </tr>\n",
       "    <tr>\n",
       "      <th>Government Dependent</th>\n",
       "      <td>197</td>\n",
       "      <td>50</td>\n",
       "      <td>20.242915</td>\n",
       "    </tr>\n",
       "  </tbody>\n",
       "</table>\n",
       "</div>"
      ],
      "text/plain": [
       "Has a Bank account              No  Yes    percent\n",
       "Type of Job                                       \n",
       "Dont Know/Refuse to answer     111   14  11.200000\n",
       "Farming and Fishing           4788  634  11.693102\n",
       "Formally employed Government    87  299  77.461140\n",
       "Formally employed Private      481  566  54.059217\n",
       "Government Dependent           197   50  20.242915"
      ]
     },
     "execution_count": 32,
     "metadata": {},
     "output_type": "execute_result"
    }
   ],
   "source": [
    "#creating a cross table to summarize the information\n",
    "df6 = pd.crosstab(fin3['Type of Job'], fin3['Has a Bank account'])\n",
    "df6['percent'] = (df6.Yes/(df6.Yes + df6.No)) * 100\n",
    "df6.head()"
   ]
  },
  {
   "cell_type": "code",
   "execution_count": 33,
   "id": "ce23347d",
   "metadata": {
    "execution": {
     "iopub.execute_input": "2022-06-08T12:12:33.869747Z",
     "iopub.status.busy": "2022-06-08T12:12:33.869468Z",
     "iopub.status.idle": "2022-06-08T12:12:33.924254Z",
     "shell.execute_reply": "2022-06-08T12:12:33.923122Z"
    },
    "papermill": {
     "duration": 0.083752,
     "end_time": "2022-06-08T12:12:33.926531",
     "exception": false,
     "start_time": "2022-06-08T12:12:33.842779",
     "status": "completed"
    },
    "tags": []
   },
   "outputs": [
    {
     "data": {
      "text/html": [
       "<style type=\"text/css\">\n",
       "#T_1275d_row0_col0, #T_1275d_row0_col1, #T_1275d_row0_col2, #T_1275d_row2_col0, #T_1275d_row6_col1 {\n",
       "  background-color: #fff7fb;\n",
       "  color: #000000;\n",
       "}\n",
       "#T_1275d_row1_col0 {\n",
       "  background-color: #d3d4e7;\n",
       "  color: #000000;\n",
       "}\n",
       "#T_1275d_row1_col1 {\n",
       "  background-color: #dedcec;\n",
       "  color: #000000;\n",
       "}\n",
       "#T_1275d_row1_col2 {\n",
       "  background-color: #d5d5e8;\n",
       "  color: #000000;\n",
       "}\n",
       "#T_1275d_row2_col1 {\n",
       "  background-color: #f2ecf5;\n",
       "  color: #000000;\n",
       "}\n",
       "#T_1275d_row2_col2, #T_1275d_row4_col1 {\n",
       "  background-color: #fef6fa;\n",
       "  color: #000000;\n",
       "}\n",
       "#T_1275d_row3_col0, #T_1275d_row6_col2 {\n",
       "  background-color: #fcf4fa;\n",
       "  color: #000000;\n",
       "}\n",
       "#T_1275d_row3_col1 {\n",
       "  background-color: #e2dfee;\n",
       "  color: #000000;\n",
       "}\n",
       "#T_1275d_row3_col2, #T_1275d_row7_col0, #T_1275d_row7_col2 {\n",
       "  background-color: #f9f2f8;\n",
       "  color: #000000;\n",
       "}\n",
       "#T_1275d_row4_col0, #T_1275d_row4_col2 {\n",
       "  background-color: #fef6fb;\n",
       "  color: #000000;\n",
       "}\n",
       "#T_1275d_row5_col0, #T_1275d_row9_col1 {\n",
       "  background-color: #d0d1e6;\n",
       "  color: #000000;\n",
       "}\n",
       "#T_1275d_row5_col1 {\n",
       "  background-color: #ebe6f2;\n",
       "  color: #000000;\n",
       "}\n",
       "#T_1275d_row5_col2 {\n",
       "  background-color: #d4d4e8;\n",
       "  color: #000000;\n",
       "}\n",
       "#T_1275d_row6_col0 {\n",
       "  background-color: #fbf4f9;\n",
       "  color: #000000;\n",
       "}\n",
       "#T_1275d_row7_col1 {\n",
       "  background-color: #f7f0f7;\n",
       "  color: #000000;\n",
       "}\n",
       "#T_1275d_row8_col0 {\n",
       "  background-color: #efe9f3;\n",
       "  color: #000000;\n",
       "}\n",
       "#T_1275d_row8_col1 {\n",
       "  background-color: #f5eef6;\n",
       "  color: #000000;\n",
       "}\n",
       "#T_1275d_row8_col2 {\n",
       "  background-color: #f0eaf4;\n",
       "  color: #000000;\n",
       "}\n",
       "#T_1275d_row9_col0 {\n",
       "  background-color: #c9cee4;\n",
       "  color: #000000;\n",
       "}\n",
       "#T_1275d_row9_col2 {\n",
       "  background-color: #cacee5;\n",
       "  color: #000000;\n",
       "}\n",
       "#T_1275d_row10_col0, #T_1275d_row10_col1, #T_1275d_row10_col2 {\n",
       "  background-color: #023858;\n",
       "  color: #f1f1f1;\n",
       "}\n",
       "</style>\n",
       "<table id=\"T_1275d_\">\n",
       "  <caption>Heatmap of respondents with bank accounts</caption>\n",
       "  <thead>\n",
       "    <tr>\n",
       "      <th class=\"index_name level0\" >Has a Bank account</th>\n",
       "      <th class=\"col_heading level0 col0\" >No</th>\n",
       "      <th class=\"col_heading level0 col1\" >Yes</th>\n",
       "      <th class=\"col_heading level0 col2\" >Total</th>\n",
       "    </tr>\n",
       "    <tr>\n",
       "      <th class=\"index_name level0\" >Type of Job</th>\n",
       "      <th class=\"blank col0\" >&nbsp;</th>\n",
       "      <th class=\"blank col1\" >&nbsp;</th>\n",
       "      <th class=\"blank col2\" >&nbsp;</th>\n",
       "    </tr>\n",
       "  </thead>\n",
       "  <tbody>\n",
       "    <tr>\n",
       "      <th id=\"T_1275d_level0_row0\" class=\"row_heading level0 row0\" >Dont Know/Refuse to answer</th>\n",
       "      <td id=\"T_1275d_row0_col0\" class=\"data row0 col0\" >0.48%</td>\n",
       "      <td id=\"T_1275d_row0_col1\" class=\"data row0 col1\" >0.06%</td>\n",
       "      <td id=\"T_1275d_row0_col2\" class=\"data row0 col2\" >0.54%</td>\n",
       "    </tr>\n",
       "    <tr>\n",
       "      <th id=\"T_1275d_level0_row1\" class=\"row_heading level0 row1\" >Farming and Fishing</th>\n",
       "      <td id=\"T_1275d_row1_col0\" class=\"data row1 col0\" >20.51%</td>\n",
       "      <td id=\"T_1275d_row1_col1\" class=\"data row1 col1\" >2.72%</td>\n",
       "      <td id=\"T_1275d_row1_col2\" class=\"data row1 col2\" >23.23%</td>\n",
       "    </tr>\n",
       "    <tr>\n",
       "      <th id=\"T_1275d_level0_row2\" class=\"row_heading level0 row2\" >Formally employed Government</th>\n",
       "      <td id=\"T_1275d_row2_col0\" class=\"data row2 col0\" >0.37%</td>\n",
       "      <td id=\"T_1275d_row2_col1\" class=\"data row2 col1\" >1.28%</td>\n",
       "      <td id=\"T_1275d_row2_col2\" class=\"data row2 col2\" >1.65%</td>\n",
       "    </tr>\n",
       "    <tr>\n",
       "      <th id=\"T_1275d_level0_row3\" class=\"row_heading level0 row3\" >Formally employed Private</th>\n",
       "      <td id=\"T_1275d_row3_col0\" class=\"data row3 col0\" >2.06%</td>\n",
       "      <td id=\"T_1275d_row3_col1\" class=\"data row3 col1\" >2.43%</td>\n",
       "      <td id=\"T_1275d_row3_col2\" class=\"data row3 col2\" >4.49%</td>\n",
       "    </tr>\n",
       "    <tr>\n",
       "      <th id=\"T_1275d_level0_row4\" class=\"row_heading level0 row4\" >Government Dependent</th>\n",
       "      <td id=\"T_1275d_row4_col0\" class=\"data row4 col0\" >0.84%</td>\n",
       "      <td id=\"T_1275d_row4_col1\" class=\"data row4 col1\" >0.21%</td>\n",
       "      <td id=\"T_1275d_row4_col2\" class=\"data row4 col2\" >1.06%</td>\n",
       "    </tr>\n",
       "    <tr>\n",
       "      <th id=\"T_1275d_level0_row5\" class=\"row_heading level0 row5\" >Informally employed</th>\n",
       "      <td id=\"T_1275d_row5_col0\" class=\"data row5 col0\" >21.89%</td>\n",
       "      <td id=\"T_1275d_row5_col1\" class=\"data row5 col1\" >1.89%</td>\n",
       "      <td id=\"T_1275d_row5_col2\" class=\"data row5 col2\" >23.77%</td>\n",
       "    </tr>\n",
       "    <tr>\n",
       "      <th id=\"T_1275d_level0_row6\" class=\"row_heading level0 row6\" >No Income</th>\n",
       "      <td id=\"T_1275d_row6_col0\" class=\"data row6 col0\" >2.59%</td>\n",
       "      <td id=\"T_1275d_row6_col1\" class=\"data row6 col1\" >0.06%</td>\n",
       "      <td id=\"T_1275d_row6_col2\" class=\"data row6 col2\" >2.65%</td>\n",
       "    </tr>\n",
       "    <tr>\n",
       "      <th id=\"T_1275d_level0_row7\" class=\"row_heading level0 row7\" >Other Income</th>\n",
       "      <td id=\"T_1275d_row7_col0\" class=\"data row7 col0\" >3.77%</td>\n",
       "      <td id=\"T_1275d_row7_col1\" class=\"data row7 col1\" >0.84%</td>\n",
       "      <td id=\"T_1275d_row7_col2\" class=\"data row7 col2\" >4.61%</td>\n",
       "    </tr>\n",
       "    <tr>\n",
       "      <th id=\"T_1275d_level0_row8\" class=\"row_heading level0 row8\" >Remittance Dependent</th>\n",
       "      <td id=\"T_1275d_row8_col0\" class=\"data row8 col0\" >9.72%</td>\n",
       "      <td id=\"T_1275d_row8_col1\" class=\"data row8 col1\" >1.03%</td>\n",
       "      <td id=\"T_1275d_row8_col2\" class=\"data row8 col2\" >10.75%</td>\n",
       "    </tr>\n",
       "    <tr>\n",
       "      <th id=\"T_1275d_level0_row9\" class=\"row_heading level0 row9\" >Self employed</th>\n",
       "      <td id=\"T_1275d_row9_col0\" class=\"data row9 col0\" >23.64%</td>\n",
       "      <td id=\"T_1275d_row9_col1\" class=\"data row9 col1\" >3.62%</td>\n",
       "      <td id=\"T_1275d_row9_col2\" class=\"data row9 col2\" >27.25%</td>\n",
       "    </tr>\n",
       "    <tr>\n",
       "      <th id=\"T_1275d_level0_row10\" class=\"row_heading level0 row10\" >Total</th>\n",
       "      <td id=\"T_1275d_row10_col0\" class=\"data row10 col0\" >85.88%</td>\n",
       "      <td id=\"T_1275d_row10_col1\" class=\"data row10 col1\" >14.12%</td>\n",
       "      <td id=\"T_1275d_row10_col2\" class=\"data row10 col2\" >100.00%</td>\n",
       "    </tr>\n",
       "  </tbody>\n",
       "</table>\n"
      ],
      "text/plain": [
       "<pandas.io.formats.style.Styler at 0x7f77989f1890>"
      ]
     },
     "execution_count": 33,
     "metadata": {},
     "output_type": "execute_result"
    }
   ],
   "source": [
    "#breaking teh above information down into percentages\n",
    "adf = pd.crosstab(fin3['Type of Job'], fin3['Has a Bank account'], margins = True,normalize = True, margins_name = 'Total').style.format('{:.2%}').background_gradient().set_caption('Heatmap of respondents with bank accounts')\n",
    "adf"
   ]
  },
  {
   "cell_type": "code",
   "execution_count": 34,
   "id": "97907bc9",
   "metadata": {
    "execution": {
     "iopub.execute_input": "2022-06-08T12:12:33.980289Z",
     "iopub.status.busy": "2022-06-08T12:12:33.980039Z",
     "iopub.status.idle": "2022-06-08T12:12:33.989033Z",
     "shell.execute_reply": "2022-06-08T12:12:33.988217Z"
    },
    "papermill": {
     "duration": 0.038096,
     "end_time": "2022-06-08T12:12:33.990757",
     "exception": false,
     "start_time": "2022-06-08T12:12:33.952661",
     "status": "completed"
    },
    "tags": []
   },
   "outputs": [
    {
     "data": {
      "text/html": [
       "<div>\n",
       "<style scoped>\n",
       "    .dataframe tbody tr th:only-of-type {\n",
       "        vertical-align: middle;\n",
       "    }\n",
       "\n",
       "    .dataframe tbody tr th {\n",
       "        vertical-align: top;\n",
       "    }\n",
       "\n",
       "    .dataframe thead th {\n",
       "        text-align: right;\n",
       "    }\n",
       "</style>\n",
       "<table border=\"1\" class=\"dataframe\">\n",
       "  <thead>\n",
       "    <tr style=\"text-align: right;\">\n",
       "      <th></th>\n",
       "      <th>household_size</th>\n",
       "      <th>Respondent Age</th>\n",
       "    </tr>\n",
       "  </thead>\n",
       "  <tbody>\n",
       "    <tr>\n",
       "      <th>household_size</th>\n",
       "      <td>1.000000</td>\n",
       "      <td>-0.119671</td>\n",
       "    </tr>\n",
       "    <tr>\n",
       "      <th>Respondent Age</th>\n",
       "      <td>-0.119671</td>\n",
       "      <td>1.000000</td>\n",
       "    </tr>\n",
       "  </tbody>\n",
       "</table>\n",
       "</div>"
      ],
      "text/plain": [
       "                household_size  Respondent Age\n",
       "household_size        1.000000       -0.119671\n",
       "Respondent Age       -0.119671        1.000000"
      ]
     },
     "execution_count": 34,
     "metadata": {},
     "output_type": "execute_result"
    }
   ],
   "source": [
    "#checking on the correlation of the numerical variables\n",
    "fin3n.corr()"
   ]
  },
  {
   "cell_type": "code",
   "execution_count": 35,
   "id": "600dbcc6",
   "metadata": {
    "execution": {
     "iopub.execute_input": "2022-06-08T12:12:34.045485Z",
     "iopub.status.busy": "2022-06-08T12:12:34.045240Z",
     "iopub.status.idle": "2022-06-08T12:12:34.273673Z",
     "shell.execute_reply": "2022-06-08T12:12:34.272930Z"
    },
    "papermill": {
     "duration": 0.257859,
     "end_time": "2022-06-08T12:12:34.275556",
     "exception": false,
     "start_time": "2022-06-08T12:12:34.017697",
     "status": "completed"
    },
    "tags": []
   },
   "outputs": [
    {
     "name": "stdout",
     "output_type": "stream",
     "text": [
      "y=-0.866602x+(42.003581)\n"
     ]
    },
    {
     "data": {
      "image/png": "[encoded data removed]",
      "text/plain": [
       "<Figure size 720x360 with 1 Axes>"
      ]
     },
     "metadata": {
      "needs_background": "light"
     },
     "output_type": "display_data"
    }
   ],
   "source": [
    "#creating a scatter plot with a trend line\n",
    "x = fin3n['household_size']\n",
    "y = fin3n['Respondent Age']\n",
    "pylab.plot(x,y,'o')\n",
    "z = np.polyfit(x, y, 1)\n",
    "p = np.poly1d(z)\n",
    "pylab.plot(x,p(x),\"r--\")\n",
    "# the line equation:\n",
    "print (\"y=%.6fx+(%.6f)\"%(z[0],z[1]))\n",
    "plt.xlabel('Household size', fontsize = 20, fontweight = 'bold', color = 'teal')\n",
    "plt.ylabel('Respondent age', fontsize = 20, fontweight = 'bold', color = 'teal')\n",
    "plt.title('Respondent age and household size', fontsize = 20, fontweight = 'bold', color = 'teal')\n",
    "plt.show()"
   ]
  },
  {
   "cell_type": "markdown",
   "id": "fb7fa10b",
   "metadata": {
    "papermill": {
     "duration": 0.026868,
     "end_time": "2022-06-08T12:12:34.330253",
     "exception": false,
     "start_time": "2022-06-08T12:12:34.303385",
     "status": "completed"
    },
    "tags": []
   },
   "source": [
    "## Feature engineering"
   ]
  },
  {
   "cell_type": "markdown",
   "id": "0c7a11eb",
   "metadata": {
    "papermill": {
     "duration": 0.027324,
     "end_time": "2022-06-08T12:12:34.384133",
     "exception": false,
     "start_time": "2022-06-08T12:12:34.356809",
     "status": "completed"
    },
    "tags": []
   },
   "source": [
    "We will start feature engineering by first encoding our categorical columns."
   ]
  },
  {
   "cell_type": "markdown",
   "id": "a476e7cf",
   "metadata": {
    "papermill": {
     "duration": 0.026643,
     "end_time": "2022-06-08T12:12:34.437543",
     "exception": false,
     "start_time": "2022-06-08T12:12:34.410900",
     "status": "completed"
    },
    "tags": []
   },
   "source": [
    "#### Categorical encoding."
   ]
  },
  {
   "cell_type": "code",
   "execution_count": 36,
   "id": "83d4a050",
   "metadata": {
    "execution": {
     "iopub.execute_input": "2022-06-08T12:12:34.492600Z",
     "iopub.status.busy": "2022-06-08T12:12:34.491880Z",
     "iopub.status.idle": "2022-06-08T12:12:34.499428Z",
     "shell.execute_reply": "2022-06-08T12:12:34.498654Z"
    },
    "papermill": {
     "duration": 0.036911,
     "end_time": "2022-06-08T12:12:34.501156",
     "exception": false,
     "start_time": "2022-06-08T12:12:34.464245",
     "status": "completed"
    },
    "tags": []
   },
   "outputs": [
    {
     "data": {
      "text/plain": [
       "country                   object\n",
       "year                       int64\n",
       "Has a Bank account        object\n",
       "Type of Location          object\n",
       "Cell Phone Access         object\n",
       "household_size             int64\n",
       "Respondent Age             int64\n",
       "gender_of_respondent      object\n",
       "The relathip with head    object\n",
       "marital_status            object\n",
       "Level of Educuation       object\n",
       "Type of Job               object\n",
       "dtype: object"
      ]
     },
     "execution_count": 36,
     "metadata": {},
     "output_type": "execute_result"
    }
   ],
   "source": [
    "#checking on the dtypes of our columns\n",
    "fin3.dtypes"
   ]
  },
  {
   "cell_type": "code",
   "execution_count": 37,
   "id": "c850c778",
   "metadata": {
    "execution": {
     "iopub.execute_input": "2022-06-08T12:12:34.555995Z",
     "iopub.status.busy": "2022-06-08T12:12:34.555719Z",
     "iopub.status.idle": "2022-06-08T12:12:34.572843Z",
     "shell.execute_reply": "2022-06-08T12:12:34.572140Z"
    },
    "papermill": {
     "duration": 0.046397,
     "end_time": "2022-06-08T12:12:34.574423",
     "exception": false,
     "start_time": "2022-06-08T12:12:34.528026",
     "status": "completed"
    },
    "tags": []
   },
   "outputs": [
    {
     "data": {
      "text/html": [
       "<div>\n",
       "<style scoped>\n",
       "    .dataframe tbody tr th:only-of-type {\n",
       "        vertical-align: middle;\n",
       "    }\n",
       "\n",
       "    .dataframe tbody tr th {\n",
       "        vertical-align: top;\n",
       "    }\n",
       "\n",
       "    .dataframe thead th {\n",
       "        text-align: right;\n",
       "    }\n",
       "</style>\n",
       "<table border=\"1\" class=\"dataframe\">\n",
       "  <thead>\n",
       "    <tr style=\"text-align: right;\">\n",
       "      <th></th>\n",
       "      <th>country</th>\n",
       "      <th>Has a Bank account</th>\n",
       "      <th>Type of Location</th>\n",
       "      <th>Cell Phone Access</th>\n",
       "      <th>gender_of_respondent</th>\n",
       "      <th>The relathip with head</th>\n",
       "      <th>marital_status</th>\n",
       "      <th>Level of Educuation</th>\n",
       "      <th>Type of Job</th>\n",
       "    </tr>\n",
       "  </thead>\n",
       "  <tbody>\n",
       "    <tr>\n",
       "      <th>0</th>\n",
       "      <td>Kenya</td>\n",
       "      <td>Yes</td>\n",
       "      <td>Rural</td>\n",
       "      <td>Yes</td>\n",
       "      <td>Female</td>\n",
       "      <td>Spouse</td>\n",
       "      <td>Married/Living together</td>\n",
       "      <td>Secondary education</td>\n",
       "      <td>Self employed</td>\n",
       "    </tr>\n",
       "    <tr>\n",
       "      <th>1</th>\n",
       "      <td>Kenya</td>\n",
       "      <td>No</td>\n",
       "      <td>Rural</td>\n",
       "      <td>No</td>\n",
       "      <td>Female</td>\n",
       "      <td>Head of Household</td>\n",
       "      <td>Widowed</td>\n",
       "      <td>No formal education</td>\n",
       "      <td>Government Dependent</td>\n",
       "    </tr>\n",
       "    <tr>\n",
       "      <th>2</th>\n",
       "      <td>Kenya</td>\n",
       "      <td>Yes</td>\n",
       "      <td>Urban</td>\n",
       "      <td>Yes</td>\n",
       "      <td>Male</td>\n",
       "      <td>Other relative</td>\n",
       "      <td>Single/Never Married</td>\n",
       "      <td>Vocational/Specialised training</td>\n",
       "      <td>Self employed</td>\n",
       "    </tr>\n",
       "    <tr>\n",
       "      <th>3</th>\n",
       "      <td>Kenya</td>\n",
       "      <td>No</td>\n",
       "      <td>Rural</td>\n",
       "      <td>Yes</td>\n",
       "      <td>Female</td>\n",
       "      <td>Head of Household</td>\n",
       "      <td>Married/Living together</td>\n",
       "      <td>Primary education</td>\n",
       "      <td>Formally employed Private</td>\n",
       "    </tr>\n",
       "    <tr>\n",
       "      <th>4</th>\n",
       "      <td>Kenya</td>\n",
       "      <td>No</td>\n",
       "      <td>Urban</td>\n",
       "      <td>No</td>\n",
       "      <td>Male</td>\n",
       "      <td>Child</td>\n",
       "      <td>Single/Never Married</td>\n",
       "      <td>Primary education</td>\n",
       "      <td>Informally employed</td>\n",
       "    </tr>\n",
       "    <tr>\n",
       "      <th>...</th>\n",
       "      <td>...</td>\n",
       "      <td>...</td>\n",
       "      <td>...</td>\n",
       "      <td>...</td>\n",
       "      <td>...</td>\n",
       "      <td>...</td>\n",
       "      <td>...</td>\n",
       "      <td>...</td>\n",
       "      <td>...</td>\n",
       "    </tr>\n",
       "    <tr>\n",
       "      <th>23519</th>\n",
       "      <td>Uganda</td>\n",
       "      <td>No</td>\n",
       "      <td>Rural</td>\n",
       "      <td>Yes</td>\n",
       "      <td>Female</td>\n",
       "      <td>Head of Household</td>\n",
       "      <td>Divorced/Seperated</td>\n",
       "      <td>No formal education</td>\n",
       "      <td>Other Income</td>\n",
       "    </tr>\n",
       "    <tr>\n",
       "      <th>23520</th>\n",
       "      <td>Uganda</td>\n",
       "      <td>No</td>\n",
       "      <td>Rural</td>\n",
       "      <td>Yes</td>\n",
       "      <td>Female</td>\n",
       "      <td>Head of Household</td>\n",
       "      <td>Single/Never Married</td>\n",
       "      <td>Secondary education</td>\n",
       "      <td>Other Income</td>\n",
       "    </tr>\n",
       "    <tr>\n",
       "      <th>23521</th>\n",
       "      <td>Uganda</td>\n",
       "      <td>No</td>\n",
       "      <td>Rural</td>\n",
       "      <td>Yes</td>\n",
       "      <td>Female</td>\n",
       "      <td>Parent</td>\n",
       "      <td>Widowed</td>\n",
       "      <td>Primary education</td>\n",
       "      <td>Other Income</td>\n",
       "    </tr>\n",
       "    <tr>\n",
       "      <th>23522</th>\n",
       "      <td>Uganda</td>\n",
       "      <td>No</td>\n",
       "      <td>Urban</td>\n",
       "      <td>Yes</td>\n",
       "      <td>Female</td>\n",
       "      <td>Parent</td>\n",
       "      <td>Divorced/Seperated</td>\n",
       "      <td>Secondary education</td>\n",
       "      <td>Self employed</td>\n",
       "    </tr>\n",
       "    <tr>\n",
       "      <th>23523</th>\n",
       "      <td>Uganda</td>\n",
       "      <td>No</td>\n",
       "      <td>Rural</td>\n",
       "      <td>Yes</td>\n",
       "      <td>Male</td>\n",
       "      <td>Child</td>\n",
       "      <td>Single/Never Married</td>\n",
       "      <td>Secondary education</td>\n",
       "      <td>No Income</td>\n",
       "    </tr>\n",
       "  </tbody>\n",
       "</table>\n",
       "<p>23340 rows × 9 columns</p>\n",
       "</div>"
      ],
      "text/plain": [
       "      country Has a Bank account Type of Location Cell Phone Access  \\\n",
       "0       Kenya                Yes            Rural               Yes   \n",
       "1       Kenya                 No            Rural                No   \n",
       "2       Kenya                Yes            Urban               Yes   \n",
       "3       Kenya                 No            Rural               Yes   \n",
       "4       Kenya                 No            Urban                No   \n",
       "...       ...                ...              ...               ...   \n",
       "23519  Uganda                 No            Rural               Yes   \n",
       "23520  Uganda                 No            Rural               Yes   \n",
       "23521  Uganda                 No            Rural               Yes   \n",
       "23522  Uganda                 No            Urban               Yes   \n",
       "23523  Uganda                 No            Rural               Yes   \n",
       "\n",
       "      gender_of_respondent The relathip with head           marital_status  \\\n",
       "0                   Female                 Spouse  Married/Living together   \n",
       "1                   Female      Head of Household                  Widowed   \n",
       "2                     Male         Other relative     Single/Never Married   \n",
       "3                   Female      Head of Household  Married/Living together   \n",
       "4                     Male                  Child     Single/Never Married   \n",
       "...                    ...                    ...                      ...   \n",
       "23519               Female      Head of Household       Divorced/Seperated   \n",
       "23520               Female      Head of Household     Single/Never Married   \n",
       "23521               Female                 Parent                  Widowed   \n",
       "23522               Female                 Parent       Divorced/Seperated   \n",
       "23523                 Male                  Child     Single/Never Married   \n",
       "\n",
       "                   Level of Educuation                Type of Job  \n",
       "0                  Secondary education              Self employed  \n",
       "1                  No formal education       Government Dependent  \n",
       "2      Vocational/Specialised training              Self employed  \n",
       "3                    Primary education  Formally employed Private  \n",
       "4                    Primary education        Informally employed  \n",
       "...                                ...                        ...  \n",
       "23519              No formal education               Other Income  \n",
       "23520              Secondary education               Other Income  \n",
       "23521                Primary education               Other Income  \n",
       "23522              Secondary education              Self employed  \n",
       "23523              Secondary education                  No Income  \n",
       "\n",
       "[23340 rows x 9 columns]"
      ]
     },
     "execution_count": 37,
     "metadata": {},
     "output_type": "execute_result"
    }
   ],
   "source": [
    "#choosing non-numeric columns only\n",
    "fin3o = fin3.select_dtypes(include = 'object')\n",
    "fin3o"
   ]
  },
  {
   "cell_type": "markdown",
   "id": "903ac52b",
   "metadata": {
    "papermill": {
     "duration": 0.026996,
     "end_time": "2022-06-08T12:12:34.628332",
     "exception": false,
     "start_time": "2022-06-08T12:12:34.601336",
     "status": "completed"
    },
    "tags": []
   },
   "source": [
    "We will divide this data further into two categories and we will apply different types of label encoding to this categories\n",
    "\n",
    "- Ordinal - These are features that can be ranked from our data this include level of education we will apply ordinal encoding here.\n",
    "\n",
    "- Nominal - These are the variable in our data that do not assume ordering from our data these ionclude all the other features except the level of education we will apply one hot encoder to these features."
   ]
  },
  {
   "cell_type": "code",
   "execution_count": 38,
   "id": "de3ef348",
   "metadata": {
    "execution": {
     "iopub.execute_input": "2022-06-08T12:12:34.684788Z",
     "iopub.status.busy": "2022-06-08T12:12:34.684494Z",
     "iopub.status.idle": "2022-06-08T12:12:34.693578Z",
     "shell.execute_reply": "2022-06-08T12:12:34.692790Z"
    },
    "papermill": {
     "duration": 0.039689,
     "end_time": "2022-06-08T12:12:34.695279",
     "exception": false,
     "start_time": "2022-06-08T12:12:34.655590",
     "status": "completed"
    },
    "tags": []
   },
   "outputs": [
    {
     "data": {
      "text/plain": [
       "array(['Secondary education', 'No formal education',\n",
       "       'Vocational/Specialised training', 'Primary education',\n",
       "       'Tertiary education', 'Other/Dont know/RTA', '6'], dtype=object)"
      ]
     },
     "execution_count": 38,
     "metadata": {},
     "output_type": "execute_result"
    }
   ],
   "source": [
    "#ordinal encoder\n",
    "ordinal = fin3o[['Level of Educuation']]\n",
    "ordinal['Level of Educuation'].unique()"
   ]
  },
  {
   "cell_type": "markdown",
   "id": "069a97b4",
   "metadata": {
    "papermill": {
     "duration": 0.027881,
     "end_time": "2022-06-08T12:12:34.750094",
     "exception": false,
     "start_time": "2022-06-08T12:12:34.722213",
     "status": "completed"
    },
    "tags": []
   },
   "source": [
    "we will rank the level of education as follows:\n",
    "* 0 other/dont know/RTA and 6\n",
    "* 1 no formal education\n",
    "* 2 primary education \n",
    "* 3 secondary education\n",
    "* 4 vocational / specialised training\n",
    "* 5 tertiary education"
   ]
  },
  {
   "cell_type": "code",
   "execution_count": 39,
   "id": "ac0bf2d1",
   "metadata": {
    "execution": {
     "iopub.execute_input": "2022-06-08T12:12:34.806007Z",
     "iopub.status.busy": "2022-06-08T12:12:34.805699Z",
     "iopub.status.idle": "2022-06-08T12:12:34.828106Z",
     "shell.execute_reply": "2022-06-08T12:12:34.827457Z"
    },
    "papermill": {
     "duration": 0.052335,
     "end_time": "2022-06-08T12:12:34.829668",
     "exception": false,
     "start_time": "2022-06-08T12:12:34.777333",
     "status": "completed"
    },
    "tags": []
   },
   "outputs": [],
   "source": [
    "#transforming\n",
    "ordinal['Level of Educuation'] = ordinal['Level of Educuation'].replace(['Secondary education', 'No formal education',\n",
    "       'Vocational/Specialised training', 'Primary education',\n",
    "       'Tertiary education', 'Other/Dont know/RTA', '6'], [3, 1, 4, 2, 5, 0, 0])"
   ]
  },
  {
   "cell_type": "code",
   "execution_count": 40,
   "id": "16766177",
   "metadata": {
    "execution": {
     "iopub.execute_input": "2022-06-08T12:12:34.886297Z",
     "iopub.status.busy": "2022-06-08T12:12:34.886042Z",
     "iopub.status.idle": "2022-06-08T12:12:34.929759Z",
     "shell.execute_reply": "2022-06-08T12:12:34.929107Z"
    },
    "papermill": {
     "duration": 0.074676,
     "end_time": "2022-06-08T12:12:34.931419",
     "exception": false,
     "start_time": "2022-06-08T12:12:34.856743",
     "status": "completed"
    },
    "tags": []
   },
   "outputs": [
    {
     "data": {
      "text/html": [
       "<div>\n",
       "<style scoped>\n",
       "    .dataframe tbody tr th:only-of-type {\n",
       "        vertical-align: middle;\n",
       "    }\n",
       "\n",
       "    .dataframe tbody tr th {\n",
       "        vertical-align: top;\n",
       "    }\n",
       "\n",
       "    .dataframe thead th {\n",
       "        text-align: right;\n",
       "    }\n",
       "</style>\n",
       "<table border=\"1\" class=\"dataframe\">\n",
       "  <thead>\n",
       "    <tr style=\"text-align: right;\">\n",
       "      <th></th>\n",
       "      <th>country_Rwanda</th>\n",
       "      <th>country_Tanzania</th>\n",
       "      <th>country_Uganda</th>\n",
       "      <th>Has a Bank account_Yes</th>\n",
       "      <th>Type of Location_Urban</th>\n",
       "      <th>Cell Phone Access_Yes</th>\n",
       "      <th>gender_of_respondent_Male</th>\n",
       "      <th>The relathip with head_Head of Household</th>\n",
       "      <th>The relathip with head_Other non-relatives</th>\n",
       "      <th>The relathip with head_Other relative</th>\n",
       "      <th>...</th>\n",
       "      <th>marital_status_Widowed</th>\n",
       "      <th>Type of Job_Farming and Fishing</th>\n",
       "      <th>Type of Job_Formally employed Government</th>\n",
       "      <th>Type of Job_Formally employed Private</th>\n",
       "      <th>Type of Job_Government Dependent</th>\n",
       "      <th>Type of Job_Informally employed</th>\n",
       "      <th>Type of Job_No Income</th>\n",
       "      <th>Type of Job_Other Income</th>\n",
       "      <th>Type of Job_Remittance Dependent</th>\n",
       "      <th>Type of Job_Self employed</th>\n",
       "    </tr>\n",
       "  </thead>\n",
       "  <tbody>\n",
       "    <tr>\n",
       "      <th>0</th>\n",
       "      <td>0</td>\n",
       "      <td>0</td>\n",
       "      <td>0</td>\n",
       "      <td>1</td>\n",
       "      <td>0</td>\n",
       "      <td>1</td>\n",
       "      <td>0</td>\n",
       "      <td>0</td>\n",
       "      <td>0</td>\n",
       "      <td>0</td>\n",
       "      <td>...</td>\n",
       "      <td>0</td>\n",
       "      <td>0</td>\n",
       "      <td>0</td>\n",
       "      <td>0</td>\n",
       "      <td>0</td>\n",
       "      <td>0</td>\n",
       "      <td>0</td>\n",
       "      <td>0</td>\n",
       "      <td>0</td>\n",
       "      <td>1</td>\n",
       "    </tr>\n",
       "    <tr>\n",
       "      <th>1</th>\n",
       "      <td>0</td>\n",
       "      <td>0</td>\n",
       "      <td>0</td>\n",
       "      <td>0</td>\n",
       "      <td>0</td>\n",
       "      <td>0</td>\n",
       "      <td>0</td>\n",
       "      <td>1</td>\n",
       "      <td>0</td>\n",
       "      <td>0</td>\n",
       "      <td>...</td>\n",
       "      <td>1</td>\n",
       "      <td>0</td>\n",
       "      <td>0</td>\n",
       "      <td>0</td>\n",
       "      <td>1</td>\n",
       "      <td>0</td>\n",
       "      <td>0</td>\n",
       "      <td>0</td>\n",
       "      <td>0</td>\n",
       "      <td>0</td>\n",
       "    </tr>\n",
       "    <tr>\n",
       "      <th>2</th>\n",
       "      <td>0</td>\n",
       "      <td>0</td>\n",
       "      <td>0</td>\n",
       "      <td>1</td>\n",
       "      <td>1</td>\n",
       "      <td>1</td>\n",
       "      <td>1</td>\n",
       "      <td>0</td>\n",
       "      <td>0</td>\n",
       "      <td>1</td>\n",
       "      <td>...</td>\n",
       "      <td>0</td>\n",
       "      <td>0</td>\n",
       "      <td>0</td>\n",
       "      <td>0</td>\n",
       "      <td>0</td>\n",
       "      <td>0</td>\n",
       "      <td>0</td>\n",
       "      <td>0</td>\n",
       "      <td>0</td>\n",
       "      <td>1</td>\n",
       "    </tr>\n",
       "    <tr>\n",
       "      <th>3</th>\n",
       "      <td>0</td>\n",
       "      <td>0</td>\n",
       "      <td>0</td>\n",
       "      <td>0</td>\n",
       "      <td>0</td>\n",
       "      <td>1</td>\n",
       "      <td>0</td>\n",
       "      <td>1</td>\n",
       "      <td>0</td>\n",
       "      <td>0</td>\n",
       "      <td>...</td>\n",
       "      <td>0</td>\n",
       "      <td>0</td>\n",
       "      <td>0</td>\n",
       "      <td>1</td>\n",
       "      <td>0</td>\n",
       "      <td>0</td>\n",
       "      <td>0</td>\n",
       "      <td>0</td>\n",
       "      <td>0</td>\n",
       "      <td>0</td>\n",
       "    </tr>\n",
       "    <tr>\n",
       "      <th>4</th>\n",
       "      <td>0</td>\n",
       "      <td>0</td>\n",
       "      <td>0</td>\n",
       "      <td>0</td>\n",
       "      <td>1</td>\n",
       "      <td>0</td>\n",
       "      <td>1</td>\n",
       "      <td>0</td>\n",
       "      <td>0</td>\n",
       "      <td>0</td>\n",
       "      <td>...</td>\n",
       "      <td>0</td>\n",
       "      <td>0</td>\n",
       "      <td>0</td>\n",
       "      <td>0</td>\n",
       "      <td>0</td>\n",
       "      <td>1</td>\n",
       "      <td>0</td>\n",
       "      <td>0</td>\n",
       "      <td>0</td>\n",
       "      <td>0</td>\n",
       "    </tr>\n",
       "  </tbody>\n",
       "</table>\n",
       "<p>5 rows × 25 columns</p>\n",
       "</div>"
      ],
      "text/plain": [
       "   country_Rwanda  country_Tanzania  country_Uganda  Has a Bank account_Yes  \\\n",
       "0               0                 0               0                       1   \n",
       "1               0                 0               0                       0   \n",
       "2               0                 0               0                       1   \n",
       "3               0                 0               0                       0   \n",
       "4               0                 0               0                       0   \n",
       "\n",
       "   Type of Location_Urban  Cell Phone Access_Yes  gender_of_respondent_Male  \\\n",
       "0                       0                      1                          0   \n",
       "1                       0                      0                          0   \n",
       "2                       1                      1                          1   \n",
       "3                       0                      1                          0   \n",
       "4                       1                      0                          1   \n",
       "\n",
       "   The relathip with head_Head of Household  \\\n",
       "0                                         0   \n",
       "1                                         1   \n",
       "2                                         0   \n",
       "3                                         1   \n",
       "4                                         0   \n",
       "\n",
       "   The relathip with head_Other non-relatives  \\\n",
       "0                                           0   \n",
       "1                                           0   \n",
       "2                                           0   \n",
       "3                                           0   \n",
       "4                                           0   \n",
       "\n",
       "   The relathip with head_Other relative  ...  marital_status_Widowed  \\\n",
       "0                                      0  ...                       0   \n",
       "1                                      0  ...                       1   \n",
       "2                                      1  ...                       0   \n",
       "3                                      0  ...                       0   \n",
       "4                                      0  ...                       0   \n",
       "\n",
       "   Type of Job_Farming and Fishing  Type of Job_Formally employed Government  \\\n",
       "0                                0                                         0   \n",
       "1                                0                                         0   \n",
       "2                                0                                         0   \n",
       "3                                0                                         0   \n",
       "4                                0                                         0   \n",
       "\n",
       "   Type of Job_Formally employed Private  Type of Job_Government Dependent  \\\n",
       "0                                      0                                 0   \n",
       "1                                      0                                 1   \n",
       "2                                      0                                 0   \n",
       "3                                      1                                 0   \n",
       "4                                      0                                 0   \n",
       "\n",
       "   Type of Job_Informally employed  Type of Job_No Income  \\\n",
       "0                                0                      0   \n",
       "1                                0                      0   \n",
       "2                                0                      0   \n",
       "3                                0                      0   \n",
       "4                                1                      0   \n",
       "\n",
       "   Type of Job_Other Income  Type of Job_Remittance Dependent  \\\n",
       "0                         0                                 0   \n",
       "1                         0                                 0   \n",
       "2                         0                                 0   \n",
       "3                         0                                 0   \n",
       "4                         0                                 0   \n",
       "\n",
       "   Type of Job_Self employed  \n",
       "0                          1  \n",
       "1                          0  \n",
       "2                          1  \n",
       "3                          0  \n",
       "4                          0  \n",
       "\n",
       "[5 rows x 25 columns]"
      ]
     },
     "execution_count": 40,
     "metadata": {},
     "output_type": "execute_result"
    }
   ],
   "source": [
    "#one hot encoder\n",
    "enc = fin3o.drop(columns = ['Level of Educuation'])\n",
    "\n",
    "# Get dummies\n",
    "enc1 = pd.get_dummies(enc, prefix_sep='_', drop_first=True)\n",
    "# X head\n",
    "enc1.head()"
   ]
  },
  {
   "cell_type": "markdown",
   "id": "10201285",
   "metadata": {
    "papermill": {
     "duration": 0.0282,
     "end_time": "2022-06-08T12:12:34.987054",
     "exception": false,
     "start_time": "2022-06-08T12:12:34.958854",
     "status": "completed"
    },
    "tags": []
   },
   "source": [
    "Concating all the data"
   ]
  },
  {
   "cell_type": "code",
   "execution_count": 41,
   "id": "93f4b258",
   "metadata": {
    "execution": {
     "iopub.execute_input": "2022-06-08T12:12:35.045359Z",
     "iopub.status.busy": "2022-06-08T12:12:35.045103Z",
     "iopub.status.idle": "2022-06-08T12:12:35.062386Z",
     "shell.execute_reply": "2022-06-08T12:12:35.061562Z"
    },
    "papermill": {
     "duration": 0.049171,
     "end_time": "2022-06-08T12:12:35.064247",
     "exception": false,
     "start_time": "2022-06-08T12:12:35.015076",
     "status": "completed"
    },
    "tags": []
   },
   "outputs": [
    {
     "data": {
      "text/html": [
       "<div>\n",
       "<style scoped>\n",
       "    .dataframe tbody tr th:only-of-type {\n",
       "        vertical-align: middle;\n",
       "    }\n",
       "\n",
       "    .dataframe tbody tr th {\n",
       "        vertical-align: top;\n",
       "    }\n",
       "\n",
       "    .dataframe thead th {\n",
       "        text-align: right;\n",
       "    }\n",
       "</style>\n",
       "<table border=\"1\" class=\"dataframe\">\n",
       "  <thead>\n",
       "    <tr style=\"text-align: right;\">\n",
       "      <th></th>\n",
       "      <th>household_size</th>\n",
       "      <th>Respondent Age</th>\n",
       "      <th>Level of Educuation</th>\n",
       "      <th>country_Rwanda</th>\n",
       "      <th>country_Tanzania</th>\n",
       "      <th>country_Uganda</th>\n",
       "      <th>Has a Bank account_Yes</th>\n",
       "      <th>Type of Location_Urban</th>\n",
       "      <th>Cell Phone Access_Yes</th>\n",
       "      <th>gender_of_respondent_Male</th>\n",
       "      <th>...</th>\n",
       "      <th>marital_status_Widowed</th>\n",
       "      <th>Type of Job_Farming and Fishing</th>\n",
       "      <th>Type of Job_Formally employed Government</th>\n",
       "      <th>Type of Job_Formally employed Private</th>\n",
       "      <th>Type of Job_Government Dependent</th>\n",
       "      <th>Type of Job_Informally employed</th>\n",
       "      <th>Type of Job_No Income</th>\n",
       "      <th>Type of Job_Other Income</th>\n",
       "      <th>Type of Job_Remittance Dependent</th>\n",
       "      <th>Type of Job_Self employed</th>\n",
       "    </tr>\n",
       "  </thead>\n",
       "  <tbody>\n",
       "    <tr>\n",
       "      <th>0</th>\n",
       "      <td>3</td>\n",
       "      <td>24</td>\n",
       "      <td>3</td>\n",
       "      <td>0</td>\n",
       "      <td>0</td>\n",
       "      <td>0</td>\n",
       "      <td>1</td>\n",
       "      <td>0</td>\n",
       "      <td>1</td>\n",
       "      <td>0</td>\n",
       "      <td>...</td>\n",
       "      <td>0</td>\n",
       "      <td>0</td>\n",
       "      <td>0</td>\n",
       "      <td>0</td>\n",
       "      <td>0</td>\n",
       "      <td>0</td>\n",
       "      <td>0</td>\n",
       "      <td>0</td>\n",
       "      <td>0</td>\n",
       "      <td>1</td>\n",
       "    </tr>\n",
       "    <tr>\n",
       "      <th>1</th>\n",
       "      <td>5</td>\n",
       "      <td>70</td>\n",
       "      <td>1</td>\n",
       "      <td>0</td>\n",
       "      <td>0</td>\n",
       "      <td>0</td>\n",
       "      <td>0</td>\n",
       "      <td>0</td>\n",
       "      <td>0</td>\n",
       "      <td>0</td>\n",
       "      <td>...</td>\n",
       "      <td>1</td>\n",
       "      <td>0</td>\n",
       "      <td>0</td>\n",
       "      <td>0</td>\n",
       "      <td>1</td>\n",
       "      <td>0</td>\n",
       "      <td>0</td>\n",
       "      <td>0</td>\n",
       "      <td>0</td>\n",
       "      <td>0</td>\n",
       "    </tr>\n",
       "    <tr>\n",
       "      <th>2</th>\n",
       "      <td>5</td>\n",
       "      <td>26</td>\n",
       "      <td>4</td>\n",
       "      <td>0</td>\n",
       "      <td>0</td>\n",
       "      <td>0</td>\n",
       "      <td>1</td>\n",
       "      <td>1</td>\n",
       "      <td>1</td>\n",
       "      <td>1</td>\n",
       "      <td>...</td>\n",
       "      <td>0</td>\n",
       "      <td>0</td>\n",
       "      <td>0</td>\n",
       "      <td>0</td>\n",
       "      <td>0</td>\n",
       "      <td>0</td>\n",
       "      <td>0</td>\n",
       "      <td>0</td>\n",
       "      <td>0</td>\n",
       "      <td>1</td>\n",
       "    </tr>\n",
       "    <tr>\n",
       "      <th>3</th>\n",
       "      <td>5</td>\n",
       "      <td>34</td>\n",
       "      <td>2</td>\n",
       "      <td>0</td>\n",
       "      <td>0</td>\n",
       "      <td>0</td>\n",
       "      <td>0</td>\n",
       "      <td>0</td>\n",
       "      <td>1</td>\n",
       "      <td>0</td>\n",
       "      <td>...</td>\n",
       "      <td>0</td>\n",
       "      <td>0</td>\n",
       "      <td>0</td>\n",
       "      <td>1</td>\n",
       "      <td>0</td>\n",
       "      <td>0</td>\n",
       "      <td>0</td>\n",
       "      <td>0</td>\n",
       "      <td>0</td>\n",
       "      <td>0</td>\n",
       "    </tr>\n",
       "    <tr>\n",
       "      <th>4</th>\n",
       "      <td>8</td>\n",
       "      <td>26</td>\n",
       "      <td>2</td>\n",
       "      <td>0</td>\n",
       "      <td>0</td>\n",
       "      <td>0</td>\n",
       "      <td>0</td>\n",
       "      <td>1</td>\n",
       "      <td>0</td>\n",
       "      <td>1</td>\n",
       "      <td>...</td>\n",
       "      <td>0</td>\n",
       "      <td>0</td>\n",
       "      <td>0</td>\n",
       "      <td>0</td>\n",
       "      <td>0</td>\n",
       "      <td>1</td>\n",
       "      <td>0</td>\n",
       "      <td>0</td>\n",
       "      <td>0</td>\n",
       "      <td>0</td>\n",
       "    </tr>\n",
       "  </tbody>\n",
       "</table>\n",
       "<p>5 rows × 28 columns</p>\n",
       "</div>"
      ],
      "text/plain": [
       "   household_size  Respondent Age  Level of Educuation  country_Rwanda  \\\n",
       "0               3              24                    3               0   \n",
       "1               5              70                    1               0   \n",
       "2               5              26                    4               0   \n",
       "3               5              34                    2               0   \n",
       "4               8              26                    2               0   \n",
       "\n",
       "   country_Tanzania  country_Uganda  Has a Bank account_Yes  \\\n",
       "0                 0               0                       1   \n",
       "1                 0               0                       0   \n",
       "2                 0               0                       1   \n",
       "3                 0               0                       0   \n",
       "4                 0               0                       0   \n",
       "\n",
       "   Type of Location_Urban  Cell Phone Access_Yes  gender_of_respondent_Male  \\\n",
       "0                       0                      1                          0   \n",
       "1                       0                      0                          0   \n",
       "2                       1                      1                          1   \n",
       "3                       0                      1                          0   \n",
       "4                       1                      0                          1   \n",
       "\n",
       "   ...  marital_status_Widowed  Type of Job_Farming and Fishing  \\\n",
       "0  ...                       0                                0   \n",
       "1  ...                       1                                0   \n",
       "2  ...                       0                                0   \n",
       "3  ...                       0                                0   \n",
       "4  ...                       0                                0   \n",
       "\n",
       "   Type of Job_Formally employed Government  \\\n",
       "0                                         0   \n",
       "1                                         0   \n",
       "2                                         0   \n",
       "3                                         0   \n",
       "4                                         0   \n",
       "\n",
       "   Type of Job_Formally employed Private  Type of Job_Government Dependent  \\\n",
       "0                                      0                                 0   \n",
       "1                                      0                                 1   \n",
       "2                                      0                                 0   \n",
       "3                                      1                                 0   \n",
       "4                                      0                                 0   \n",
       "\n",
       "   Type of Job_Informally employed  Type of Job_No Income  \\\n",
       "0                                0                      0   \n",
       "1                                0                      0   \n",
       "2                                0                      0   \n",
       "3                                0                      0   \n",
       "4                                1                      0   \n",
       "\n",
       "   Type of Job_Other Income  Type of Job_Remittance Dependent  \\\n",
       "0                         0                                 0   \n",
       "1                         0                                 0   \n",
       "2                         0                                 0   \n",
       "3                         0                                 0   \n",
       "4                         0                                 0   \n",
       "\n",
       "   Type of Job_Self employed  \n",
       "0                          1  \n",
       "1                          0  \n",
       "2                          1  \n",
       "3                          0  \n",
       "4                          0  \n",
       "\n",
       "[5 rows x 28 columns]"
      ]
     },
     "execution_count": 41,
     "metadata": {},
     "output_type": "execute_result"
    }
   ],
   "source": [
    "df = pd.concat([fin3n, ordinal, enc1], axis = 1)\n",
    "df.head()"
   ]
  },
  {
   "cell_type": "markdown",
   "id": "56b65ef5",
   "metadata": {
    "papermill": {
     "duration": 0.028064,
     "end_time": "2022-06-08T12:12:35.120497",
     "exception": false,
     "start_time": "2022-06-08T12:12:35.092433",
     "status": "completed"
    },
    "tags": []
   },
   "source": [
    "#### Class imbalance\n",
    "\n",
    "When building binary classification models it is important to check on class imbalance since this may affect the model performance."
   ]
  },
  {
   "cell_type": "code",
   "execution_count": 42,
   "id": "d5973f47",
   "metadata": {
    "execution": {
     "iopub.execute_input": "2022-06-08T12:12:35.178408Z",
     "iopub.status.busy": "2022-06-08T12:12:35.178146Z",
     "iopub.status.idle": "2022-06-08T12:12:35.184898Z",
     "shell.execute_reply": "2022-06-08T12:12:35.184233Z"
    },
    "papermill": {
     "duration": 0.03802,
     "end_time": "2022-06-08T12:12:35.186643",
     "exception": false,
     "start_time": "2022-06-08T12:12:35.148623",
     "status": "completed"
    },
    "tags": []
   },
   "outputs": [],
   "source": [
    "# Dependent and independent variables\n",
    "y = df[['Has a Bank account_Yes']]\n",
    "x = df.drop(columns = ['Has a Bank account_Yes'])"
   ]
  },
  {
   "cell_type": "code",
   "execution_count": 43,
   "id": "1b341737",
   "metadata": {
    "execution": {
     "iopub.execute_input": "2022-06-08T12:12:35.245392Z",
     "iopub.status.busy": "2022-06-08T12:12:35.245135Z",
     "iopub.status.idle": "2022-06-08T12:12:35.371864Z",
     "shell.execute_reply": "2022-06-08T12:12:35.371132Z"
    },
    "papermill": {
     "duration": 0.1584,
     "end_time": "2022-06-08T12:12:35.374082",
     "exception": false,
     "start_time": "2022-06-08T12:12:35.215682",
     "status": "completed"
    },
    "tags": []
   },
   "outputs": [
    {
     "data": {
      "image/png": "[encoded data removed]",
      "text/plain": [
       "<Figure size 1008x720 with 1 Axes>"
      ]
     },
     "metadata": {},
     "output_type": "display_data"
    }
   ],
   "source": [
    "#creating a pie chart\n",
    "plt.figure(figsize = (14, 10))\n",
    "y['Has a Bank account_Yes'].value_counts().nlargest(10).plot(kind = \"pie\", startangle = 144 , colors = colors,explode = (0.07,0),autopct = '%1.1f%%')\n",
    "plt.title('Class balance', fontsize = 20, fontweight = 'bold', color = 'teal')\n",
    "plt.axis('off')\n",
    "plt.xlabel(None)\n",
    "plt.ylabel(None)\n",
    "plt.show()"
   ]
  },
  {
   "cell_type": "markdown",
   "id": "ae942063",
   "metadata": {
    "papermill": {
     "duration": 0.039678,
     "end_time": "2022-06-08T12:12:35.468134",
     "exception": false,
     "start_time": "2022-06-08T12:12:35.428456",
     "status": "completed"
    },
    "tags": []
   },
   "source": [
    "From the above pie chart we see that only 14% of our values are True while the rest are false this is severe class imbalance hence we will have to balance this variable"
   ]
  },
  {
   "cell_type": "code",
   "execution_count": 44,
   "id": "c27c8f88",
   "metadata": {
    "execution": {
     "iopub.execute_input": "2022-06-08T12:12:35.527357Z",
     "iopub.status.busy": "2022-06-08T12:12:35.527077Z",
     "iopub.status.idle": "2022-06-08T12:12:36.183582Z",
     "shell.execute_reply": "2022-06-08T12:12:36.182745Z"
    },
    "papermill": {
     "duration": 0.688753,
     "end_time": "2022-06-08T12:12:36.185439",
     "exception": false,
     "start_time": "2022-06-08T12:12:35.496686",
     "status": "completed"
    },
    "tags": []
   },
   "outputs": [
    {
     "data": {
      "image/png": "[encoded data removed]",
      "text/plain": [
       "<Figure size 1008x720 with 1 Axes>"
      ]
     },
     "metadata": {},
     "output_type": "display_data"
    }
   ],
   "source": [
    "#the dependent feature\n",
    "xp2 = x.copy()\n",
    "y2 = y.copy()\n",
    "\n",
    "from collections import Counter\n",
    "#checking number of records available in y\n",
    "j = Counter(y2['Has a Bank account_Yes']).items()\n",
    "pd.DataFrame(j)\n",
    "\n",
    "#oversampling\n",
    "from imblearn import under_sampling, over_sampling\n",
    "from imblearn.over_sampling import RandomOverSampler\n",
    "ros = RandomOverSampler(random_state = 0)\n",
    "x_res, y_res = ros.fit_resample(xp2, y2)\n",
    "\n",
    "#creating a pie chart\n",
    "plt.figure(figsize = (14, 10))\n",
    "y_res['Has a Bank account_Yes'].value_counts().nlargest(10).plot(kind = \"pie\", startangle = 144 , colors = colors,explode = (0.07,0),autopct = '%1.1f%%')\n",
    "plt.title('Class balance', fontsize = 20, fontweight = 'bold', color = 'teal')\n",
    "plt.axis('off')\n",
    "plt.xlabel(None)\n",
    "plt.ylabel(None)\n",
    "plt.show()"
   ]
  },
  {
   "cell_type": "markdown",
   "id": "96f10aad",
   "metadata": {
    "papermill": {
     "duration": 0.039434,
     "end_time": "2022-06-08T12:12:36.281319",
     "exception": false,
     "start_time": "2022-06-08T12:12:36.241885",
     "status": "completed"
    },
    "tags": []
   },
   "source": [
    "#### Principal compoment analysis \n",
    "We will be using PCA as our data reduction technique"
   ]
  },
  {
   "cell_type": "code",
   "execution_count": 45,
   "id": "2e6d5d7f",
   "metadata": {
    "execution": {
     "iopub.execute_input": "2022-06-08T12:12:36.340903Z",
     "iopub.status.busy": "2022-06-08T12:12:36.340573Z",
     "iopub.status.idle": "2022-06-08T12:12:36.623451Z",
     "shell.execute_reply": "2022-06-08T12:12:36.622717Z"
    },
    "papermill": {
     "duration": 0.31509,
     "end_time": "2022-06-08T12:12:36.625382",
     "exception": false,
     "start_time": "2022-06-08T12:12:36.310292",
     "status": "completed"
    },
    "scrolled": true,
    "tags": []
   },
   "outputs": [
    {
     "data": {
      "image/png": "[encoded data removed]",
      "text/plain": [
       "<Figure size 720x360 with 1 Axes>"
      ]
     },
     "metadata": {
      "needs_background": "light"
     },
     "output_type": "display_data"
    }
   ],
   "source": [
    "# Dependent and independent variables\n",
    "y = y_res\n",
    "x = x_res\n",
    "\n",
    "#starndard scaler\n",
    "from sklearn.preprocessing import StandardScaler\n",
    "scale = StandardScaler()\n",
    "s_x = scale.fit_transform(x)\n",
    "\n",
    "#applying pca \n",
    "from sklearn.decomposition import PCA\n",
    "pca = PCA()\n",
    "\n",
    "pca = PCA().fit(s_x)\n",
    "plt.plot(np.cumsum(pca.explained_variance_ratio_))\n",
    "plt.xlabel('number of components')\n",
    "plt.ylabel('cumulative explained variance')\n",
    "plt.grid(True);"
   ]
  },
  {
   "cell_type": "markdown",
   "id": "4e7deadb",
   "metadata": {
    "papermill": {
     "duration": 0.029383,
     "end_time": "2022-06-08T12:12:36.684849",
     "exception": false,
     "start_time": "2022-06-08T12:12:36.655466",
     "status": "completed"
    },
    "tags": []
   },
   "source": [
    "We will select the number of components that capture atleast 95% of the variance for our data this is at 20"
   ]
  },
  {
   "cell_type": "code",
   "execution_count": 46,
   "id": "dd0d7992",
   "metadata": {
    "execution": {
     "iopub.execute_input": "2022-06-08T12:12:36.746298Z",
     "iopub.status.busy": "2022-06-08T12:12:36.745996Z",
     "iopub.status.idle": "2022-06-08T12:12:37.139421Z",
     "shell.execute_reply": "2022-06-08T12:12:37.138178Z"
    },
    "papermill": {
     "duration": 0.427441,
     "end_time": "2022-06-08T12:12:37.142833",
     "exception": false,
     "start_time": "2022-06-08T12:12:36.715392",
     "status": "completed"
    },
    "tags": []
   },
   "outputs": [
    {
     "data": {
      "text/plain": [
       "(40088, 20)"
      ]
     },
     "execution_count": 46,
     "metadata": {},
     "output_type": "execute_result"
    }
   ],
   "source": [
    "#applying pca with 20 components\n",
    "pca1 = PCA(n_components = 20)\n",
    "x_p = pca1.fit_transform(s_x)\n",
    "x_p.shape"
   ]
  },
  {
   "cell_type": "markdown",
   "id": "cfa9926b",
   "metadata": {
    "papermill": {
     "duration": 0.159862,
     "end_time": "2022-06-08T12:12:37.380115",
     "exception": false,
     "start_time": "2022-06-08T12:12:37.220253",
     "status": "completed"
    },
    "tags": []
   },
   "source": [
    "## Modelling\n",
    "\n",
    "Creation of the baseline models will be the frist step towards our journey to accurate prediction, a baseline modle will be a simple model that will be used to evaluate the other modles that we build later.\n",
    "\n",
    "#### Baseline model.\n",
    "The first model will be a simple logistic regression model."
   ]
  },
  {
   "cell_type": "code",
   "execution_count": 47,
   "id": "dbc514e7",
   "metadata": {
    "execution": {
     "iopub.execute_input": "2022-06-08T12:12:37.443866Z",
     "iopub.status.busy": "2022-06-08T12:12:37.443492Z",
     "iopub.status.idle": "2022-06-08T12:12:37.518860Z",
     "shell.execute_reply": "2022-06-08T12:12:37.516870Z"
    },
    "papermill": {
     "duration": 0.109405,
     "end_time": "2022-06-08T12:12:37.521292",
     "exception": false,
     "start_time": "2022-06-08T12:12:37.411887",
     "status": "completed"
    },
    "tags": []
   },
   "outputs": [
    {
     "name": "stdout",
     "output_type": "stream",
     "text": [
      "[[3108  915]\n",
      " [ 988 3007]]\n",
      "The number of accurately predicted points is:  6115 out of:  8018\n",
      "The accuracy of the model is:  0.762659\n"
     ]
    }
   ],
   "source": [
    "#independent variables and dependent variables\n",
    "x1 = x_p.copy()\n",
    "y1 = y.copy().values\n",
    "\n",
    "#train and test set \n",
    "from sklearn.model_selection import train_test_split\n",
    "x_train, x_test, y_train, y_test = train_test_split(x1, y1, test_size = 0.2, random_state = 0)\n",
    "\n",
    "from sklearn.linear_model import LogisticRegression\n",
    "lg = LogisticRegression()\n",
    "model = lg.fit(x_train, y_train)\n",
    "#predicting\n",
    "y_pred1 = model.predict(x_test)\n",
    "\n",
    "from sklearn.metrics import confusion_matrix\n",
    "confusion_matrix2 = confusion_matrix(y_test, y_pred1)\n",
    "print(confusion_matrix2)\n",
    "\n",
    "from sklearn.metrics import accuracy_score\n",
    "print('The number of accurately predicted points is: ', accuracy_score(y_test, y_pred1, normalize=False), 'out of: ', len(y_pred1))\n",
    "print('The accuracy of the model is: ', accuracy_score(y_test, y_pred1).round(7))"
   ]
  },
  {
   "cell_type": "markdown",
   "id": "52e65640",
   "metadata": {
    "papermill": {
     "duration": 0.05412,
     "end_time": "2022-06-08T12:12:37.630177",
     "exception": false,
     "start_time": "2022-06-08T12:12:37.576057",
     "status": "completed"
    },
    "tags": []
   },
   "source": [
    "#### Model 2\n",
    "We will still use logistic regression to build our second modle however we will introduce some best practices when building machine learning models these include hyperparameter optimization and cross validating our model."
   ]
  },
  {
   "cell_type": "code",
   "execution_count": 48,
   "id": "719ccf3f",
   "metadata": {
    "execution": {
     "iopub.execute_input": "2022-06-08T12:12:37.696552Z",
     "iopub.status.busy": "2022-06-08T12:12:37.696264Z",
     "iopub.status.idle": "2022-06-08T12:12:39.628626Z",
     "shell.execute_reply": "2022-06-08T12:12:39.627767Z"
    },
    "papermill": {
     "duration": 1.965675,
     "end_time": "2022-06-08T12:12:39.631592",
     "exception": false,
     "start_time": "2022-06-08T12:12:37.665917",
     "status": "completed"
    },
    "tags": []
   },
   "outputs": [],
   "source": [
    "#splitting the data\n",
    "x_train1, x_test1, y_train1, y_test1 = train_test_split(x1, y1, test_size = 0.2, random_state = 0)\n",
    "\n",
    "#we will be perfroming hyperparameter optimization using random search cv\n",
    "from sklearn.model_selection import GridSearchCV as gs\n",
    "from sklearn.linear_model import LogisticRegression\n",
    "lrg = LogisticRegression(C=1.0, intercept_scaling=1, dual=False, fit_intercept=True,\n",
    "          penalty='l2', tol=0.0001)\n",
    "grid_values = {'penalty': ['l1','l2'], \n",
    "               'C': [0.001,0.01,0.1,1,10,100,1000]}\n",
    "gsv = gs(estimator = lrg, param_grid = grid_values, cv = 5 )\n",
    "model = gsv.fit(x_train1, y_train1)\n",
    "\n",
    "#fitting\n",
    "y_pred2 = model.predict(x_test1)"
   ]
  },
  {
   "cell_type": "code",
   "execution_count": 49,
   "id": "753ec803",
   "metadata": {
    "execution": {
     "iopub.execute_input": "2022-06-08T12:12:39.750057Z",
     "iopub.status.busy": "2022-06-08T12:12:39.749504Z",
     "iopub.status.idle": "2022-06-08T12:12:39.774588Z",
     "shell.execute_reply": "2022-06-08T12:12:39.773666Z"
    },
    "papermill": {
     "duration": 0.086352,
     "end_time": "2022-06-08T12:12:39.777055",
     "exception": false,
     "start_time": "2022-06-08T12:12:39.690703",
     "status": "completed"
    },
    "tags": []
   },
   "outputs": [
    {
     "name": "stdout",
     "output_type": "stream",
     "text": [
      "The number of accurately predicted points is:  6115 out of:  8018\n",
      "The accuracy of the model is:  0.762659\n",
      "              precision    recall  f1-score   support\n",
      "\n",
      "           0       0.76      0.77      0.77      4023\n",
      "           1       0.77      0.75      0.76      3995\n",
      "\n",
      "    accuracy                           0.76      8018\n",
      "   macro avg       0.76      0.76      0.76      8018\n",
      "weighted avg       0.76      0.76      0.76      8018\n",
      "\n"
     ]
    }
   ],
   "source": [
    "print('The number of accurately predicted points is: ', accuracy_score(y_test1, y_pred2, normalize=False), 'out of: ', len(y_pred2))\n",
    "print('The accuracy of the model is: ', accuracy_score(y_test1, y_pred2).round(7))\n",
    "from sklearn.metrics import classification_report\n",
    "print(classification_report(y_test1, y_pred2))"
   ]
  },
  {
   "cell_type": "markdown",
   "id": "053cb5b9",
   "metadata": {
    "papermill": {
     "duration": 0.02995,
     "end_time": "2022-06-08T12:12:39.838100",
     "exception": false,
     "start_time": "2022-06-08T12:12:39.808150",
     "status": "completed"
    },
    "tags": []
   },
   "source": [
    "#### Model 3\n",
    "\n",
    "Our third model will be based on support vector machines."
   ]
  },
  {
   "cell_type": "code",
   "execution_count": 50,
   "id": "c42dcd73",
   "metadata": {
    "execution": {
     "iopub.execute_input": "2022-06-08T12:12:39.899986Z",
     "iopub.status.busy": "2022-06-08T12:12:39.899226Z",
     "iopub.status.idle": "2022-06-08T12:19:41.097443Z",
     "shell.execute_reply": "2022-06-08T12:19:41.096647Z"
    },
    "papermill": {
     "duration": 421.258972,
     "end_time": "2022-06-08T12:19:41.127175",
     "exception": false,
     "start_time": "2022-06-08T12:12:39.868203",
     "status": "completed"
    },
    "tags": []
   },
   "outputs": [
    {
     "name": "stdout",
     "output_type": "stream",
     "text": [
      "Fitting 5 folds for each of 1 candidates, totalling 5 fits\n",
      "[CV 1/5] END ..........C=1, gamma=1, kernel=rbf;, score=0.851 total time= 1.1min\n",
      "[CV 2/5] END ..........C=1, gamma=1, kernel=rbf;, score=0.850 total time= 1.1min\n",
      "[CV 3/5] END ..........C=1, gamma=1, kernel=rbf;, score=0.837 total time= 1.1min\n",
      "[CV 4/5] END ..........C=1, gamma=1, kernel=rbf;, score=0.842 total time= 1.1min\n",
      "[CV 5/5] END ..........C=1, gamma=1, kernel=rbf;, score=0.839 total time= 1.1min\n"
     ]
    },
    {
     "data": {
      "text/plain": [
       "GridSearchCV(cv=5, estimator=SVC(),\n",
       "             param_grid={'C': [1], 'gamma': [1], 'kernel': ['rbf']}, verbose=3)"
      ]
     },
     "execution_count": 50,
     "metadata": {},
     "output_type": "execute_result"
    }
   ],
   "source": [
    "#train and test\n",
    "x_train1, x_test1, y_train1, y_test1 = train_test_split(x1, y1, test_size = 0.2, random_state = 0)\n",
    "from sklearn.svm import SVC,LinearSVC\n",
    "from sklearn.model_selection import GridSearchCV\n",
    "model = SVC(kernel = 'poly', degree = 4, gamma = 'auto')\n",
    "param_grid = {'C': [1],\n",
    "              'gamma': [1],\n",
    "              'kernel': ['rbf']}\n",
    "grid = GridSearchCV(SVC(), param_grid = param_grid, refit = True, verbose = 3, cv = 5)\n",
    "grid.fit(x_train1, y_train1)"
   ]
  },
  {
   "cell_type": "code",
   "execution_count": 51,
   "id": "2f1976bd",
   "metadata": {
    "execution": {
     "iopub.execute_input": "2022-06-08T12:19:41.189254Z",
     "iopub.status.busy": "2022-06-08T12:19:41.188946Z",
     "iopub.status.idle": "2022-06-08T12:19:48.346998Z",
     "shell.execute_reply": "2022-06-08T12:19:48.346183Z"
    },
    "papermill": {
     "duration": 7.191519,
     "end_time": "2022-06-08T12:19:48.349238",
     "exception": false,
     "start_time": "2022-06-08T12:19:41.157719",
     "status": "completed"
    },
    "tags": []
   },
   "outputs": [],
   "source": [
    "#predictting\n",
    "y_pred2 = grid.predict(x_test1)"
   ]
  },
  {
   "cell_type": "markdown",
   "id": "21c9a3ff",
   "metadata": {
    "papermill": {
     "duration": 0.030035,
     "end_time": "2022-06-08T12:19:48.410358",
     "exception": false,
     "start_time": "2022-06-08T12:19:48.380323",
     "status": "completed"
    },
    "tags": []
   },
   "source": [
    "#### Model evaluation"
   ]
  },
  {
   "cell_type": "code",
   "execution_count": 52,
   "id": "d7556764",
   "metadata": {
    "execution": {
     "iopub.execute_input": "2022-06-08T12:19:48.472199Z",
     "iopub.status.busy": "2022-06-08T12:19:48.471900Z",
     "iopub.status.idle": "2022-06-08T12:19:48.495487Z",
     "shell.execute_reply": "2022-06-08T12:19:48.494643Z"
    },
    "papermill": {
     "duration": 0.056653,
     "end_time": "2022-06-08T12:19:48.497461",
     "exception": false,
     "start_time": "2022-06-08T12:19:48.440808",
     "status": "completed"
    },
    "tags": []
   },
   "outputs": [
    {
     "name": "stdout",
     "output_type": "stream",
     "text": [
      "The number of accurately predicted points is:  6761 out of:  8018\n",
      "The accuracy of the model is:  0.8432277\n",
      "[[3310  713]\n",
      " [ 544 3451]]\n",
      "              precision    recall  f1-score   support\n",
      "\n",
      "           0       0.86      0.82      0.84      4023\n",
      "           1       0.83      0.86      0.85      3995\n",
      "\n",
      "    accuracy                           0.84      8018\n",
      "   macro avg       0.84      0.84      0.84      8018\n",
      "weighted avg       0.84      0.84      0.84      8018\n",
      "\n"
     ]
    }
   ],
   "source": [
    "print('The number of accurately predicted points is: ', accuracy_score(y_test1, y_pred2, normalize=False), 'out of: ', len(y_pred2))\n",
    "print('The accuracy of the model is: ', accuracy_score(y_test1, y_pred2).round(7))\n",
    "\n",
    "from sklearn.metrics import confusion_matrix\n",
    "cm = confusion_matrix(y_test1, y_pred2)\n",
    "print(cm)\n",
    "from sklearn.metrics import classification_report\n",
    "print(classification_report(y_test1, y_pred2))"
   ]
  },
  {
   "cell_type": "markdown",
   "id": "513abfbd",
   "metadata": {
    "papermill": {
     "duration": 0.030054,
     "end_time": "2022-06-08T12:19:48.558803",
     "exception": false,
     "start_time": "2022-06-08T12:19:48.528749",
     "status": "completed"
    },
    "tags": []
   },
   "source": [
    "Our second model which was based on support vector machines has perfromed way better than the first model which was based on logistic regression from the metric above the model has achieved an accuracy of 84% while the first model achieved an accuracy of 76%."
   ]
  },
  {
   "cell_type": "code",
   "execution_count": null,
   "id": "0538d140",
   "metadata": {
    "papermill": {
     "duration": 0.031023,
     "end_time": "2022-06-08T12:19:48.620056",
     "exception": false,
     "start_time": "2022-06-08T12:19:48.589033",
     "status": "completed"
    },
    "tags": []
   },
   "outputs": [],
   "source": []
  }
 ],
 "metadata": {
  "kernelspec": {
   "display_name": "Python 3",
   "language": "python",
   "name": "python3"
  },
  "language_info": {
   "codemirror_mode": {
    "name": "ipython",
    "version": 3
   },
   "file_extension": ".py",
   "mimetype": "text/x-python",
   "name": "python",
   "nbconvert_exporter": "python",
   "pygments_lexer": "ipython3",
   "version": "3.7.12"
  },
  "papermill": {
   "default_parameters": {},
   "duration": 460.653255,
   "end_time": "2022-06-08T12:19:49.269697",
   "environment_variables": {},
   "exception": null,
   "input_path": "__notebook__.ipynb",
   "output_path": "__notebook__.ipynb",
   "parameters": {},
   "start_time": "2022-06-08T12:12:08.616442",
   "version": "2.3.4"
  }
 },
 "nbformat": 4,
 "nbformat_minor": 5
}

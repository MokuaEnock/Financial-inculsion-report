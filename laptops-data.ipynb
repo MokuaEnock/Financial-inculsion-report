{
 "cells": [
  {
   "cell_type": "code",
   "execution_count": 1,
   "id": "d75b5b44",
   "metadata": {
    "execution": {
     "iopub.execute_input": "2022-11-12T21:55:47.243633Z",
     "iopub.status.busy": "2022-11-12T21:55:47.243114Z",
     "iopub.status.idle": "2022-11-12T21:55:47.448209Z",
     "shell.execute_reply": "2022-11-12T21:55:47.447035Z"
    },
    "papermill": {
     "duration": 0.213455,
     "end_time": "2022-11-12T21:55:47.451181",
     "exception": false,
     "start_time": "2022-11-12T21:55:47.237726",
     "status": "completed"
    },
    "tags": []
   },
   "outputs": [],
   "source": [
    "#import modules\n",
    "from bs4 import BeautifulSoup as bs\n",
    "import pandas as pd\n",
    "import requests\n",
    "import unicodedata"
   ]
  },
  {
   "cell_type": "code",
   "execution_count": 2,
   "id": "2610fd65",
   "metadata": {
    "execution": {
     "iopub.execute_input": "2022-11-12T21:55:47.458365Z",
     "iopub.status.busy": "2022-11-12T21:55:47.457979Z",
     "iopub.status.idle": "2022-11-12T21:58:49.109976Z",
     "shell.execute_reply": "2022-11-12T21:58:49.108626Z"
    },
    "papermill": {
     "duration": 181.658984,
     "end_time": "2022-11-12T21:58:49.113076",
     "exception": false,
     "start_time": "2022-11-12T21:55:47.454092",
     "status": "completed"
    },
    "tags": []
   },
   "outputs": [],
   "source": [
    "#sending get request\n",
    "url = \"https://www.newegg.com/Laptops-Notebooks/SubCategory/ID-32/Page-{2}?Tid=6740\"\n",
    "arr = []\n",
    "\n",
    "#creating for loop to get the data\n",
    "for i in range(1, 101):\n",
    "    x =f\"https://www.newegg.com/Laptops-Notebooks/SubCategory/ID-32/Page-{i}?Tid=6740\"\n",
    "    response = requests.get(url)\n",
    "    soup = bs(response.content, \"lxml\")  \n",
    "    div = soup.findAll(\"div\", class_=\"item-cell\")\n",
    "    for i in div:\n",
    "        arr.append(i)"
   ]
  },
  {
   "cell_type": "code",
   "execution_count": 3,
   "id": "70748ea4",
   "metadata": {
    "execution": {
     "iopub.execute_input": "2022-11-12T21:58:49.121151Z",
     "iopub.status.busy": "2022-11-12T21:58:49.120393Z",
     "iopub.status.idle": "2022-11-12T21:58:49.128001Z",
     "shell.execute_reply": "2022-11-12T21:58:49.126903Z"
    },
    "papermill": {
     "duration": 0.013796,
     "end_time": "2022-11-12T21:58:49.130007",
     "exception": false,
     "start_time": "2022-11-12T21:58:49.116211",
     "status": "completed"
    },
    "tags": []
   },
   "outputs": [],
   "source": [
    "#creating functions to clean data\n",
    "\n",
    "# item-features\n",
    "def extractList(g):\n",
    "    k= {}\n",
    "    for i in g:\n",
    "        y = i.text.rsplit(\":\")\n",
    "        if len(y)>1:\n",
    "            k[y[0]]=y[1]\n",
    "    return k\n",
    "\n",
    "#price\n",
    "def priceCurrent(k):\n",
    "    l =unicodedata.normalize(\"NFKD\",k.rsplit(\"$\")[-1])\n",
    "    return l.rsplit(\" \")[0]\n",
    "\n",
    "#check for nonetype\n",
    "def isNone(g):\n",
    "    if g is None:\n",
    "        return \"None\"\n",
    "    else:\n",
    "        return g.text"
   ]
  },
  {
   "cell_type": "code",
   "execution_count": 4,
   "id": "4b30d796",
   "metadata": {
    "execution": {
     "iopub.execute_input": "2022-11-12T21:58:49.136597Z",
     "iopub.status.busy": "2022-11-12T21:58:49.136245Z",
     "iopub.status.idle": "2022-11-12T21:58:52.592628Z",
     "shell.execute_reply": "2022-11-12T21:58:52.591662Z"
    },
    "papermill": {
     "duration": 3.462458,
     "end_time": "2022-11-12T21:58:52.595149",
     "exception": false,
     "start_time": "2022-11-12T21:58:49.132691",
     "status": "completed"
    },
    "tags": []
   },
   "outputs": [],
   "source": [
    "#apped into data into a new array\n",
    "arr_data  = []\n",
    "for i in arr:\n",
    "    flags_body = i.find(\"div\", class_=\"flags flags-right flags-red is-invert\")\n",
    "    item_title = i.find(\"a\", class_=\"item-title\")\n",
    "    item_promo = i.find(\"p\", class_=\"item-promo\")\n",
    "    price_ship = i.find(\"li\", class_=\"price-ship\")\n",
    "    price_offers = i.find(\"a\", class_=\"price-current-num\")\n",
    "    \n",
    "    hello = {\n",
    "    \"flags-body\": isNone(flags_body),\n",
    "    \"item-title\": isNone(item_title),\n",
    "    \"item-promo\": isNone(item_promo),\n",
    "    \"item-features\": extractList(i.find(\"ul\", class_=\"item-features\")),\n",
    "    \"item-price\": priceCurrent(i.find(\"li\", class_=\"price-current\").text),\n",
    "    \"price-ship\": isNone(price_ship),\n",
    "    \"price-offers\": isNone(price_offers),\n",
    "    }\n",
    "    arr_data.append(hello)"
   ]
  },
  {
   "cell_type": "code",
   "execution_count": 5,
   "id": "3a701ed7",
   "metadata": {
    "execution": {
     "iopub.execute_input": "2022-11-12T21:58:52.601799Z",
     "iopub.status.busy": "2022-11-12T21:58:52.601411Z",
     "iopub.status.idle": "2022-11-12T21:58:52.621288Z",
     "shell.execute_reply": "2022-11-12T21:58:52.620290Z"
    },
    "papermill": {
     "duration": 0.026109,
     "end_time": "2022-11-12T21:58:52.624014",
     "exception": false,
     "start_time": "2022-11-12T21:58:52.597905",
     "status": "completed"
    },
    "tags": []
   },
   "outputs": [
    {
     "data": {
      "text/plain": [
       "3600"
      ]
     },
     "execution_count": 5,
     "metadata": {},
     "output_type": "execute_result"
    }
   ],
   "source": [
    "#convert array to data\n",
    "df = pd.DataFrame(arr_data)\n",
    "df.head()\n",
    "len(df)"
   ]
  },
  {
   "cell_type": "code",
   "execution_count": 6,
   "id": "9bcc040d",
   "metadata": {
    "execution": {
     "iopub.execute_input": "2022-11-12T21:58:52.631410Z",
     "iopub.status.busy": "2022-11-12T21:58:52.630657Z",
     "iopub.status.idle": "2022-11-12T21:58:52.685832Z",
     "shell.execute_reply": "2022-11-12T21:58:52.684955Z"
    },
    "papermill": {
     "duration": 0.061498,
     "end_time": "2022-11-12T21:58:52.688417",
     "exception": false,
     "start_time": "2022-11-12T21:58:52.626919",
     "status": "completed"
    },
    "tags": []
   },
   "outputs": [],
   "source": [
    "#convert to csv file \n",
    "from pathlib import Path\n",
    "\n",
    "filepath = Path(\"./data.csv\")\n",
    "filepath.parent.mkdir(parents=True, exist_ok=True)\n",
    "df.to_csv(filepath)\n"
   ]
  },
  {
   "cell_type": "code",
   "execution_count": null,
   "id": "4796af79",
   "metadata": {
    "papermill": {
     "duration": 0.002358,
     "end_time": "2022-11-12T21:58:52.693652",
     "exception": false,
     "start_time": "2022-11-12T21:58:52.691294",
     "status": "completed"
    },
    "tags": []
   },
   "outputs": [],
   "source": []
  }
 ],
 "metadata": {
  "kernelspec": {
   "display_name": "Python 3",
   "language": "python",
   "name": "python3"
  },
  "language_info": {
   "codemirror_mode": {
    "name": "ipython",
    "version": 3
   },
   "file_extension": ".py",
   "mimetype": "text/x-python",
   "name": "python",
   "nbconvert_exporter": "python",
   "pygments_lexer": "ipython3",
   "version": "3.7.12"
  },
  "papermill": {
   "default_parameters": {},
   "duration": 196.482029,
   "end_time": "2022-11-12T21:58:55.417282",
   "environment_variables": {},
   "exception": null,
   "input_path": "__notebook__.ipynb",
   "output_path": "__notebook__.ipynb",
   "parameters": {},
   "start_time": "2022-11-12T21:55:38.935253",
   "version": "2.3.4"
  }
 },
 "nbformat": 4,
 "nbformat_minor": 5
}

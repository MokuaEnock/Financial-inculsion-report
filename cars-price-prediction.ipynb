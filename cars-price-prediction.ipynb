{
 "cells": [
  {
   "cell_type": "code",
   "execution_count": 1,
   "id": "185ada6d",
   "metadata": {
    "execution": {
     "iopub.execute_input": "2022-12-27T07:03:17.634619Z",
     "iopub.status.busy": "2022-12-27T07:03:17.633996Z",
     "iopub.status.idle": "2022-12-27T07:03:18.770095Z",
     "shell.execute_reply": "2022-12-27T07:03:18.769019Z"
    },
    "papermill": {
     "duration": 1.147774,
     "end_time": "2022-12-27T07:03:18.772780",
     "exception": false,
     "start_time": "2022-12-27T07:03:17.625006",
     "status": "completed"
    },
    "tags": []
   },
   "outputs": [],
   "source": [
    "import pandas as pd\n",
    "import numpy as np\n",
    "import xgboost as xgb\n",
    "import seaborn as sb\n",
    "import matplotlib.pyplot as plt"
   ]
  },
  {
   "cell_type": "code",
   "execution_count": 2,
   "id": "ba920192",
   "metadata": {
    "execution": {
     "iopub.execute_input": "2022-12-27T07:03:18.785861Z",
     "iopub.status.busy": "2022-12-27T07:03:18.785478Z",
     "iopub.status.idle": "2022-12-27T07:03:18.838438Z",
     "shell.execute_reply": "2022-12-27T07:03:18.837044Z"
    },
    "papermill": {
     "duration": 0.062772,
     "end_time": "2022-12-27T07:03:18.841651",
     "exception": false,
     "start_time": "2022-12-27T07:03:18.778879",
     "status": "completed"
    },
    "tags": []
   },
   "outputs": [
    {
     "name": "stdout",
     "output_type": "stream",
     "text": [
      "/kaggle/input/usa-cers-dataset/USA_cars_datasets.csv\n"
     ]
    },
    {
     "data": {
      "text/html": [
       "<div>\n",
       "<style scoped>\n",
       "    .dataframe tbody tr th:only-of-type {\n",
       "        vertical-align: middle;\n",
       "    }\n",
       "\n",
       "    .dataframe tbody tr th {\n",
       "        vertical-align: top;\n",
       "    }\n",
       "\n",
       "    .dataframe thead th {\n",
       "        text-align: right;\n",
       "    }\n",
       "</style>\n",
       "<table border=\"1\" class=\"dataframe\">\n",
       "  <thead>\n",
       "    <tr style=\"text-align: right;\">\n",
       "      <th></th>\n",
       "      <th>Unnamed: 0</th>\n",
       "      <th>price</th>\n",
       "      <th>brand</th>\n",
       "      <th>model</th>\n",
       "      <th>year</th>\n",
       "      <th>title_status</th>\n",
       "      <th>mileage</th>\n",
       "      <th>color</th>\n",
       "      <th>vin</th>\n",
       "      <th>lot</th>\n",
       "      <th>state</th>\n",
       "      <th>country</th>\n",
       "      <th>condition</th>\n",
       "    </tr>\n",
       "  </thead>\n",
       "  <tbody>\n",
       "    <tr>\n",
       "      <th>0</th>\n",
       "      <td>0</td>\n",
       "      <td>6300</td>\n",
       "      <td>toyota</td>\n",
       "      <td>cruiser</td>\n",
       "      <td>2008</td>\n",
       "      <td>clean vehicle</td>\n",
       "      <td>274117.0</td>\n",
       "      <td>black</td>\n",
       "      <td>jtezu11f88k007763</td>\n",
       "      <td>159348797</td>\n",
       "      <td>new jersey</td>\n",
       "      <td>usa</td>\n",
       "      <td>10 days left</td>\n",
       "    </tr>\n",
       "    <tr>\n",
       "      <th>1</th>\n",
       "      <td>1</td>\n",
       "      <td>2899</td>\n",
       "      <td>ford</td>\n",
       "      <td>se</td>\n",
       "      <td>2011</td>\n",
       "      <td>clean vehicle</td>\n",
       "      <td>190552.0</td>\n",
       "      <td>silver</td>\n",
       "      <td>2fmdk3gc4bbb02217</td>\n",
       "      <td>166951262</td>\n",
       "      <td>tennessee</td>\n",
       "      <td>usa</td>\n",
       "      <td>6 days left</td>\n",
       "    </tr>\n",
       "    <tr>\n",
       "      <th>2</th>\n",
       "      <td>2</td>\n",
       "      <td>5350</td>\n",
       "      <td>dodge</td>\n",
       "      <td>mpv</td>\n",
       "      <td>2018</td>\n",
       "      <td>clean vehicle</td>\n",
       "      <td>39590.0</td>\n",
       "      <td>silver</td>\n",
       "      <td>3c4pdcgg5jt346413</td>\n",
       "      <td>167655728</td>\n",
       "      <td>georgia</td>\n",
       "      <td>usa</td>\n",
       "      <td>2 days left</td>\n",
       "    </tr>\n",
       "    <tr>\n",
       "      <th>3</th>\n",
       "      <td>3</td>\n",
       "      <td>25000</td>\n",
       "      <td>ford</td>\n",
       "      <td>door</td>\n",
       "      <td>2014</td>\n",
       "      <td>clean vehicle</td>\n",
       "      <td>64146.0</td>\n",
       "      <td>blue</td>\n",
       "      <td>1ftfw1et4efc23745</td>\n",
       "      <td>167753855</td>\n",
       "      <td>virginia</td>\n",
       "      <td>usa</td>\n",
       "      <td>22 hours left</td>\n",
       "    </tr>\n",
       "    <tr>\n",
       "      <th>4</th>\n",
       "      <td>4</td>\n",
       "      <td>27700</td>\n",
       "      <td>chevrolet</td>\n",
       "      <td>1500</td>\n",
       "      <td>2018</td>\n",
       "      <td>clean vehicle</td>\n",
       "      <td>6654.0</td>\n",
       "      <td>red</td>\n",
       "      <td>3gcpcrec2jg473991</td>\n",
       "      <td>167763266</td>\n",
       "      <td>florida</td>\n",
       "      <td>usa</td>\n",
       "      <td>22 hours left</td>\n",
       "    </tr>\n",
       "  </tbody>\n",
       "</table>\n",
       "</div>"
      ],
      "text/plain": [
       "   Unnamed: 0  price      brand    model  year   title_status   mileage  \\\n",
       "0           0   6300     toyota  cruiser  2008  clean vehicle  274117.0   \n",
       "1           1   2899       ford       se  2011  clean vehicle  190552.0   \n",
       "2           2   5350      dodge      mpv  2018  clean vehicle   39590.0   \n",
       "3           3  25000       ford     door  2014  clean vehicle   64146.0   \n",
       "4           4  27700  chevrolet     1500  2018  clean vehicle    6654.0   \n",
       "\n",
       "    color                  vin        lot       state country      condition  \n",
       "0   black    jtezu11f88k007763  159348797  new jersey     usa   10 days left  \n",
       "1  silver    2fmdk3gc4bbb02217  166951262   tennessee     usa    6 days left  \n",
       "2  silver    3c4pdcgg5jt346413  167655728     georgia     usa    2 days left  \n",
       "3    blue    1ftfw1et4efc23745  167753855    virginia     usa  22 hours left  \n",
       "4     red    3gcpcrec2jg473991  167763266     florida     usa  22 hours left  "
      ]
     },
     "execution_count": 2,
     "metadata": {},
     "output_type": "execute_result"
    }
   ],
   "source": [
    "import os\n",
    "for dirname, _, filenames in os.walk('/kaggle/input'):\n",
    "    for filename in filenames:\n",
    "        print(os.path.join(dirname, filename))\n",
    "\n",
    "df = pd.read_csv(\"/kaggle/input/usa-cers-dataset/USA_cars_datasets.csv\")\n",
    "df.head()"
   ]
  },
  {
   "cell_type": "code",
   "execution_count": 3,
   "id": "da0b5d71",
   "metadata": {
    "execution": {
     "iopub.execute_input": "2022-12-27T07:03:18.854922Z",
     "iopub.status.busy": "2022-12-27T07:03:18.854561Z",
     "iopub.status.idle": "2022-12-27T07:03:18.876865Z",
     "shell.execute_reply": "2022-12-27T07:03:18.875834Z"
    },
    "papermill": {
     "duration": 0.03166,
     "end_time": "2022-12-27T07:03:18.879333",
     "exception": false,
     "start_time": "2022-12-27T07:03:18.847673",
     "status": "completed"
    },
    "tags": []
   },
   "outputs": [
    {
     "name": "stdout",
     "output_type": "stream",
     "text": [
      "<class 'pandas.core.frame.DataFrame'>\n",
      "RangeIndex: 2499 entries, 0 to 2498\n",
      "Data columns (total 13 columns):\n",
      " #   Column        Non-Null Count  Dtype  \n",
      "---  ------        --------------  -----  \n",
      " 0   Unnamed: 0    2499 non-null   int64  \n",
      " 1   price         2499 non-null   int64  \n",
      " 2   brand         2499 non-null   object \n",
      " 3   model         2499 non-null   object \n",
      " 4   year          2499 non-null   int64  \n",
      " 5   title_status  2499 non-null   object \n",
      " 6   mileage       2499 non-null   float64\n",
      " 7   color         2499 non-null   object \n",
      " 8   vin           2499 non-null   object \n",
      " 9   lot           2499 non-null   int64  \n",
      " 10  state         2499 non-null   object \n",
      " 11  country       2499 non-null   object \n",
      " 12  condition     2499 non-null   object \n",
      "dtypes: float64(1), int64(4), object(8)\n",
      "memory usage: 253.9+ KB\n"
     ]
    }
   ],
   "source": [
    "df.info()"
   ]
  },
  {
   "cell_type": "code",
   "execution_count": 4,
   "id": "09177042",
   "metadata": {
    "execution": {
     "iopub.execute_input": "2022-12-27T07:03:18.892630Z",
     "iopub.status.busy": "2022-12-27T07:03:18.892307Z",
     "iopub.status.idle": "2022-12-27T07:03:18.901981Z",
     "shell.execute_reply": "2022-12-27T07:03:18.901208Z"
    },
    "papermill": {
     "duration": 0.018517,
     "end_time": "2022-12-27T07:03:18.903873",
     "exception": false,
     "start_time": "2022-12-27T07:03:18.885356",
     "status": "completed"
    },
    "tags": []
   },
   "outputs": [
    {
     "data": {
      "text/plain": [
       "ford               1235\n",
       "dodge               432\n",
       "nissan              312\n",
       "chevrolet           297\n",
       "gmc                  42\n",
       "jeep                 30\n",
       "chrysler             18\n",
       "bmw                  17\n",
       "hyundai              15\n",
       "kia                  13\n",
       "buick                13\n",
       "infiniti             12\n",
       "honda                12\n",
       "cadillac             10\n",
       "mercedes-benz        10\n",
       "heartland             5\n",
       "land                  4\n",
       "peterbilt             4\n",
       "audi                  4\n",
       "acura                 3\n",
       "lincoln               2\n",
       "lexus                 2\n",
       "mazda                 2\n",
       "maserati              1\n",
       "toyota                1\n",
       "harley-davidson       1\n",
       "jaguar                1\n",
       "ram                   1\n",
       "Name: brand, dtype: int64"
      ]
     },
     "execution_count": 4,
     "metadata": {},
     "output_type": "execute_result"
    }
   ],
   "source": [
    "df.isnull().sum()\n",
    "df[\"brand\"].value_counts()"
   ]
  },
  {
   "cell_type": "code",
   "execution_count": 5,
   "id": "9fa2b5c5",
   "metadata": {
    "execution": {
     "iopub.execute_input": "2022-12-27T07:03:18.917263Z",
     "iopub.status.busy": "2022-12-27T07:03:18.916932Z",
     "iopub.status.idle": "2022-12-27T07:03:18.923061Z",
     "shell.execute_reply": "2022-12-27T07:03:18.922270Z"
    },
    "papermill": {
     "duration": 0.014965,
     "end_time": "2022-12-27T07:03:18.924869",
     "exception": false,
     "start_time": "2022-12-27T07:03:18.909904",
     "status": "completed"
    },
    "tags": []
   },
   "outputs": [],
   "source": [
    "#dropping columns \n",
    "df.drop([\"Unnamed: 0\",\"vin\", \"lot\" ], axis=1, inplace= True)"
   ]
  },
  {
   "cell_type": "code",
   "execution_count": 6,
   "id": "8cad680f",
   "metadata": {
    "execution": {
     "iopub.execute_input": "2022-12-27T07:03:18.938402Z",
     "iopub.status.busy": "2022-12-27T07:03:18.937797Z",
     "iopub.status.idle": "2022-12-27T07:03:18.952408Z",
     "shell.execute_reply": "2022-12-27T07:03:18.951349Z"
    },
    "papermill": {
     "duration": 0.023695,
     "end_time": "2022-12-27T07:03:18.954475",
     "exception": false,
     "start_time": "2022-12-27T07:03:18.930780",
     "status": "completed"
    },
    "tags": []
   },
   "outputs": [
    {
     "data": {
      "text/html": [
       "<div>\n",
       "<style scoped>\n",
       "    .dataframe tbody tr th:only-of-type {\n",
       "        vertical-align: middle;\n",
       "    }\n",
       "\n",
       "    .dataframe tbody tr th {\n",
       "        vertical-align: top;\n",
       "    }\n",
       "\n",
       "    .dataframe thead th {\n",
       "        text-align: right;\n",
       "    }\n",
       "</style>\n",
       "<table border=\"1\" class=\"dataframe\">\n",
       "  <thead>\n",
       "    <tr style=\"text-align: right;\">\n",
       "      <th></th>\n",
       "      <th>price</th>\n",
       "      <th>brand</th>\n",
       "      <th>model</th>\n",
       "      <th>year</th>\n",
       "      <th>title_status</th>\n",
       "      <th>mileage</th>\n",
       "      <th>color</th>\n",
       "      <th>state</th>\n",
       "      <th>country</th>\n",
       "      <th>condition</th>\n",
       "    </tr>\n",
       "  </thead>\n",
       "  <tbody>\n",
       "    <tr>\n",
       "      <th>0</th>\n",
       "      <td>6300</td>\n",
       "      <td>toyota</td>\n",
       "      <td>cruiser</td>\n",
       "      <td>2008</td>\n",
       "      <td>clean vehicle</td>\n",
       "      <td>274117.0</td>\n",
       "      <td>black</td>\n",
       "      <td>new jersey</td>\n",
       "      <td>usa</td>\n",
       "      <td>10 days left</td>\n",
       "    </tr>\n",
       "    <tr>\n",
       "      <th>1</th>\n",
       "      <td>2899</td>\n",
       "      <td>ford</td>\n",
       "      <td>se</td>\n",
       "      <td>2011</td>\n",
       "      <td>clean vehicle</td>\n",
       "      <td>190552.0</td>\n",
       "      <td>silver</td>\n",
       "      <td>tennessee</td>\n",
       "      <td>usa</td>\n",
       "      <td>6 days left</td>\n",
       "    </tr>\n",
       "    <tr>\n",
       "      <th>2</th>\n",
       "      <td>5350</td>\n",
       "      <td>dodge</td>\n",
       "      <td>mpv</td>\n",
       "      <td>2018</td>\n",
       "      <td>clean vehicle</td>\n",
       "      <td>39590.0</td>\n",
       "      <td>silver</td>\n",
       "      <td>georgia</td>\n",
       "      <td>usa</td>\n",
       "      <td>2 days left</td>\n",
       "    </tr>\n",
       "    <tr>\n",
       "      <th>3</th>\n",
       "      <td>25000</td>\n",
       "      <td>ford</td>\n",
       "      <td>door</td>\n",
       "      <td>2014</td>\n",
       "      <td>clean vehicle</td>\n",
       "      <td>64146.0</td>\n",
       "      <td>blue</td>\n",
       "      <td>virginia</td>\n",
       "      <td>usa</td>\n",
       "      <td>22 hours left</td>\n",
       "    </tr>\n",
       "    <tr>\n",
       "      <th>4</th>\n",
       "      <td>27700</td>\n",
       "      <td>chevrolet</td>\n",
       "      <td>1500</td>\n",
       "      <td>2018</td>\n",
       "      <td>clean vehicle</td>\n",
       "      <td>6654.0</td>\n",
       "      <td>red</td>\n",
       "      <td>florida</td>\n",
       "      <td>usa</td>\n",
       "      <td>22 hours left</td>\n",
       "    </tr>\n",
       "  </tbody>\n",
       "</table>\n",
       "</div>"
      ],
      "text/plain": [
       "   price      brand    model  year   title_status   mileage   color  \\\n",
       "0   6300     toyota  cruiser  2008  clean vehicle  274117.0   black   \n",
       "1   2899       ford       se  2011  clean vehicle  190552.0  silver   \n",
       "2   5350      dodge      mpv  2018  clean vehicle   39590.0  silver   \n",
       "3  25000       ford     door  2014  clean vehicle   64146.0    blue   \n",
       "4  27700  chevrolet     1500  2018  clean vehicle    6654.0     red   \n",
       "\n",
       "        state country      condition  \n",
       "0  new jersey     usa   10 days left  \n",
       "1   tennessee     usa    6 days left  \n",
       "2     georgia     usa    2 days left  \n",
       "3    virginia     usa  22 hours left  \n",
       "4     florida     usa  22 hours left  "
      ]
     },
     "execution_count": 6,
     "metadata": {},
     "output_type": "execute_result"
    }
   ],
   "source": [
    "df.head()"
   ]
  },
  {
   "cell_type": "code",
   "execution_count": 7,
   "id": "97031545",
   "metadata": {
    "execution": {
     "iopub.execute_input": "2022-12-27T07:03:18.971161Z",
     "iopub.status.busy": "2022-12-27T07:03:18.970126Z",
     "iopub.status.idle": "2022-12-27T07:03:19.007925Z",
     "shell.execute_reply": "2022-12-27T07:03:19.006991Z"
    },
    "papermill": {
     "duration": 0.049984,
     "end_time": "2022-12-27T07:03:19.011446",
     "exception": false,
     "start_time": "2022-12-27T07:03:18.961462",
     "status": "completed"
    },
    "tags": []
   },
   "outputs": [],
   "source": [
    "#convert column condition to minutes\n",
    "df['value']= df['condition'] .str.split(' ').str[0]\n",
    "df['days']= df['condition'] .str.split(' ').str[1]\n",
    "\n",
    "def days_to_min_converter(time):\n",
    "    return int(time)*1440\n",
    "\n",
    "def hours_to_min_converter(time):\n",
    "    return int(time)*60\n",
    "\n",
    "temp_data=pd.concat([df[df['days']=='days']['value'].apply(days_to_min_converter),\n",
    "           df[df['days']=='hours']['value'].apply(hours_to_min_converter),\n",
    "           df[df['days']=='minutes']['value'].astype(int)]).rename('Minutes_Left',inplace=True)\n",
    "\n",
    "\n",
    "\n",
    "df=pd.concat([df,temp_data],axis=1)\n",
    "df['Minutes_Left'].fillna(-200,inplace=True)\n",
    "\n",
    "df.drop(['condition','value','days'],axis=1,inplace=True)"
   ]
  },
  {
   "cell_type": "code",
   "execution_count": 8,
   "id": "e4a14ce9",
   "metadata": {
    "execution": {
     "iopub.execute_input": "2022-12-27T07:03:19.031292Z",
     "iopub.status.busy": "2022-12-27T07:03:19.030473Z",
     "iopub.status.idle": "2022-12-27T07:03:19.049149Z",
     "shell.execute_reply": "2022-12-27T07:03:19.047717Z"
    },
    "papermill": {
     "duration": 0.031637,
     "end_time": "2022-12-27T07:03:19.051521",
     "exception": false,
     "start_time": "2022-12-27T07:03:19.019884",
     "status": "completed"
    },
    "tags": []
   },
   "outputs": [
    {
     "name": "stderr",
     "output_type": "stream",
     "text": [
      "/opt/conda/lib/python3.7/site-packages/ipykernel_launcher.py:9: SettingWithCopyWarning: \n",
      "A value is trying to be set on a copy of a slice from a DataFrame.\n",
      "Try using .loc[row_indexer,col_indexer] = value instead\n",
      "\n",
      "See the caveats in the documentation: https://pandas.pydata.org/pandas-docs/stable/user_guide/indexing.html#returning-a-view-versus-a-copy\n",
      "  if __name__ == \"__main__\":\n"
     ]
    }
   ],
   "source": [
    "#label encoding \n",
    "from sklearn.preprocessing import LabelEncoder \n",
    "le = LabelEncoder ()\n",
    "\n",
    "#select ctegorical columns \n",
    "cat_df = df.select_dtypes(exclude=[\"int\", \"float\"])\n",
    "\n",
    "for i in cat_df:\n",
    "    cat_df[i] = le.fit_transform(df[i])\n",
    "\n",
    "#joining the data to the numeric data\n",
    "num_df = df.select_dtypes(include=['int', 'float'])\n",
    "main_df = pd.concat([num_df, cat_df], axis=1)"
   ]
  },
  {
   "cell_type": "code",
   "execution_count": 9,
   "id": "ae56ea4e",
   "metadata": {
    "execution": {
     "iopub.execute_input": "2022-12-27T07:03:19.065653Z",
     "iopub.status.busy": "2022-12-27T07:03:19.065104Z",
     "iopub.status.idle": "2022-12-27T07:03:19.074985Z",
     "shell.execute_reply": "2022-12-27T07:03:19.074144Z"
    },
    "papermill": {
     "duration": 0.019209,
     "end_time": "2022-12-27T07:03:19.077077",
     "exception": false,
     "start_time": "2022-12-27T07:03:19.057868",
     "status": "completed"
    },
    "tags": []
   },
   "outputs": [],
   "source": [
    "X = main_df.drop(columns=[\"price\"])\n",
    "y = main_df[\"price\"]\n",
    "\n",
    "#standard scaler\n",
    "from sklearn.preprocessing import StandardScaler \n",
    "scaler = StandardScaler()\n",
    "x_scaled=scaler.fit_transform(X) "
   ]
  },
  {
   "cell_type": "markdown",
   "id": "3525cf36",
   "metadata": {
    "papermill": {
     "duration": 0.006016,
     "end_time": "2022-12-27T07:03:19.089541",
     "exception": false,
     "start_time": "2022-12-27T07:03:19.083525",
     "status": "completed"
    },
    "tags": []
   },
   "source": [
    "# Predicting price \n"
   ]
  },
  {
   "cell_type": "code",
   "execution_count": 10,
   "id": "06de4b11",
   "metadata": {
    "execution": {
     "iopub.execute_input": "2022-12-27T07:03:19.104453Z",
     "iopub.status.busy": "2022-12-27T07:03:19.103758Z",
     "iopub.status.idle": "2022-12-27T07:03:19.286519Z",
     "shell.execute_reply": "2022-12-27T07:03:19.285637Z"
    },
    "papermill": {
     "duration": 0.193138,
     "end_time": "2022-12-27T07:03:19.289239",
     "exception": false,
     "start_time": "2022-12-27T07:03:19.096101",
     "status": "completed"
    },
    "tags": []
   },
   "outputs": [],
   "source": [
    "from sklearn.model_selection import train_test_split \n",
    "from sklearn.metrics import mean_squared_error, r2_score\n",
    "from sklearn.ensemble import RandomForestRegressor\n",
    "from sklearn.neighbors import KNeighborsRegressor\n",
    "from sklearn.svm import SVR\n",
    "\n",
    "#split the data\n",
    "X_train, X_test, y_train, y_test = train_test_split(x_scaled ,y, test_size=0.2, random_state=0)\n",
    "\n",
    "#create function to fit models\n",
    "model_preds = []\n",
    "\n",
    "def fit_model(model, model_name):\n",
    "    model.fit(X_train, y_train)\n",
    "    y_pred = model.predict(X_test)\n",
    "    r2 = r2_score(y_test, y_pred)\n",
    "    mse = mean_squared_error(y_test, y_pred)\n",
    "    model_preds.append([model_name, r2, mse])\n",
    "    print (\"The Root mean squared error is: \", r2)\n",
    "    print(\"The root mean squared error is: \", mse)\n",
    "\n",
    "#model evaluation function\n",
    "def model_eval():\n",
    "    preds = pd.DataFrame(model_preds)\n",
    "    preds.columns = [\"Model Name\", \"R2 Score\", \"Mean Squared Error\"]\n",
    "    return preds.sort_values(by=\"R2 Score\", ascending=False)"
   ]
  },
  {
   "cell_type": "markdown",
   "id": "a41bd08d",
   "metadata": {
    "papermill": {
     "duration": 0.006196,
     "end_time": "2022-12-27T07:03:19.302323",
     "exception": false,
     "start_time": "2022-12-27T07:03:19.296127",
     "status": "completed"
    },
    "tags": []
   },
   "source": [
    "#### Linear Regression"
   ]
  },
  {
   "cell_type": "code",
   "execution_count": 11,
   "id": "4909ce39",
   "metadata": {
    "execution": {
     "iopub.execute_input": "2022-12-27T07:03:19.316819Z",
     "iopub.status.busy": "2022-12-27T07:03:19.316413Z",
     "iopub.status.idle": "2022-12-27T07:03:19.342595Z",
     "shell.execute_reply": "2022-12-27T07:03:19.341216Z"
    },
    "papermill": {
     "duration": 0.036753,
     "end_time": "2022-12-27T07:03:19.345462",
     "exception": false,
     "start_time": "2022-12-27T07:03:19.308709",
     "status": "completed"
    },
    "tags": []
   },
   "outputs": [
    {
     "name": "stdout",
     "output_type": "stream",
     "text": [
      "The Root mean squared error is:  0.32585116179878126\n",
      "The root mean squared error is:  87723106.95110983\n"
     ]
    }
   ],
   "source": [
    "from sklearn .linear_model import LinearRegression \n",
    "model = LinearRegression()\n",
    "model.fit(X_train, y_train)\n",
    "\n",
    "fit_model(model, \"Linear Regression\")"
   ]
  },
  {
   "cell_type": "markdown",
   "id": "ddc7c33f",
   "metadata": {
    "papermill": {
     "duration": 0.010502,
     "end_time": "2022-12-27T07:03:19.363518",
     "exception": false,
     "start_time": "2022-12-27T07:03:19.353016",
     "status": "completed"
    },
    "tags": []
   },
   "source": [
    "#### XgBoost"
   ]
  },
  {
   "cell_type": "code",
   "execution_count": 12,
   "id": "dacc7ed6",
   "metadata": {
    "execution": {
     "iopub.execute_input": "2022-12-27T07:03:19.380927Z",
     "iopub.status.busy": "2022-12-27T07:03:19.380426Z",
     "iopub.status.idle": "2022-12-27T07:03:19.715846Z",
     "shell.execute_reply": "2022-12-27T07:03:19.714890Z"
    },
    "papermill": {
     "duration": 0.346909,
     "end_time": "2022-12-27T07:03:19.718359",
     "exception": false,
     "start_time": "2022-12-27T07:03:19.371450",
     "status": "completed"
    },
    "tags": []
   },
   "outputs": [
    {
     "name": "stdout",
     "output_type": "stream",
     "text": [
      "The Root mean squared error is:  0.5220227550991472\n",
      "The root mean squared error is:  62196426.958937\n"
     ]
    }
   ],
   "source": [
    "xg_model = xgb.XGBRFRegressor()\n",
    "fit_model(xg_model, \"XG Boost\")"
   ]
  },
  {
   "cell_type": "markdown",
   "id": "fecedaec",
   "metadata": {
    "papermill": {
     "duration": 0.006141,
     "end_time": "2022-12-27T07:03:19.731670",
     "exception": false,
     "start_time": "2022-12-27T07:03:19.725529",
     "status": "completed"
    },
    "tags": []
   },
   "source": [
    "#### Random forest"
   ]
  },
  {
   "cell_type": "code",
   "execution_count": 13,
   "id": "1e1589b9",
   "metadata": {
    "execution": {
     "iopub.execute_input": "2022-12-27T07:03:19.746324Z",
     "iopub.status.busy": "2022-12-27T07:03:19.745405Z",
     "iopub.status.idle": "2022-12-27T07:03:20.434935Z",
     "shell.execute_reply": "2022-12-27T07:03:20.433497Z"
    },
    "papermill": {
     "duration": 0.699827,
     "end_time": "2022-12-27T07:03:20.437841",
     "exception": false,
     "start_time": "2022-12-27T07:03:19.738014",
     "status": "completed"
    },
    "tags": []
   },
   "outputs": [
    {
     "name": "stdout",
     "output_type": "stream",
     "text": [
      "The Root mean squared error is:  0.6861387721252841\n",
      "The root mean squared error is:  40840954.54962781\n"
     ]
    }
   ],
   "source": [
    "rf_model = RandomForestRegressor()\n",
    "fit_model(rf_model, \"Random Forest Regressor\")"
   ]
  },
  {
   "cell_type": "markdown",
   "id": "72fa68a9",
   "metadata": {
    "papermill": {
     "duration": 0.00621,
     "end_time": "2022-12-27T07:03:20.450944",
     "exception": false,
     "start_time": "2022-12-27T07:03:20.444734",
     "status": "completed"
    },
    "tags": []
   },
   "source": [
    "#### KNN"
   ]
  },
  {
   "cell_type": "code",
   "execution_count": 14,
   "id": "6cc81825",
   "metadata": {
    "execution": {
     "iopub.execute_input": "2022-12-27T07:03:20.466022Z",
     "iopub.status.busy": "2022-12-27T07:03:20.464858Z",
     "iopub.status.idle": "2022-12-27T07:03:20.490189Z",
     "shell.execute_reply": "2022-12-27T07:03:20.488856Z"
    },
    "papermill": {
     "duration": 0.03624,
     "end_time": "2022-12-27T07:03:20.493572",
     "exception": false,
     "start_time": "2022-12-27T07:03:20.457332",
     "status": "completed"
    },
    "tags": []
   },
   "outputs": [
    {
     "name": "stdout",
     "output_type": "stream",
     "text": [
      "The Root mean squared error is:  0.4984015207426775\n",
      "The root mean squared error is:  65270122.18816666\n"
     ]
    }
   ],
   "source": [
    "\n",
    "knn_model = KNeighborsRegressor(n_neighbors=6)\n",
    "fit_model(knn_model, \"K-Neigbors Regressor\")"
   ]
  },
  {
   "cell_type": "markdown",
   "id": "c649ebb0",
   "metadata": {
    "papermill": {
     "duration": 0.006597,
     "end_time": "2022-12-27T07:03:20.507296",
     "exception": false,
     "start_time": "2022-12-27T07:03:20.500699",
     "status": "completed"
    },
    "tags": []
   },
   "source": [
    "#### Support Vector Regressor"
   ]
  },
  {
   "cell_type": "code",
   "execution_count": 15,
   "id": "d998575b",
   "metadata": {
    "execution": {
     "iopub.execute_input": "2022-12-27T07:03:20.522664Z",
     "iopub.status.busy": "2022-12-27T07:03:20.521437Z",
     "iopub.status.idle": "2022-12-27T07:03:20.831494Z",
     "shell.execute_reply": "2022-12-27T07:03:20.830349Z"
    },
    "papermill": {
     "duration": 0.320372,
     "end_time": "2022-12-27T07:03:20.834128",
     "exception": false,
     "start_time": "2022-12-27T07:03:20.513756",
     "status": "completed"
    },
    "tags": []
   },
   "outputs": [
    {
     "name": "stdout",
     "output_type": "stream",
     "text": [
      "The Root mean squared error is:  -0.00588684366125003\n",
      "The root mean squared error is:  130890263.64363852\n"
     ]
    }
   ],
   "source": [
    "svr_model = SVR()\n",
    "fit_model(svr_model, \"Support Vector Regressor\")"
   ]
  },
  {
   "cell_type": "markdown",
   "id": "c8c5805f",
   "metadata": {
    "papermill": {
     "duration": 0.006359,
     "end_time": "2022-12-27T07:03:20.847335",
     "exception": false,
     "start_time": "2022-12-27T07:03:20.840976",
     "status": "completed"
    },
    "tags": []
   },
   "source": [
    "### Model Evaluation"
   ]
  },
  {
   "cell_type": "code",
   "execution_count": 16,
   "id": "f4d8bc6d",
   "metadata": {
    "execution": {
     "iopub.execute_input": "2022-12-27T07:03:20.862166Z",
     "iopub.status.busy": "2022-12-27T07:03:20.861770Z",
     "iopub.status.idle": "2022-12-27T07:03:20.875223Z",
     "shell.execute_reply": "2022-12-27T07:03:20.874250Z"
    },
    "papermill": {
     "duration": 0.023482,
     "end_time": "2022-12-27T07:03:20.877382",
     "exception": false,
     "start_time": "2022-12-27T07:03:20.853900",
     "status": "completed"
    },
    "tags": []
   },
   "outputs": [
    {
     "data": {
      "text/html": [
       "<div>\n",
       "<style scoped>\n",
       "    .dataframe tbody tr th:only-of-type {\n",
       "        vertical-align: middle;\n",
       "    }\n",
       "\n",
       "    .dataframe tbody tr th {\n",
       "        vertical-align: top;\n",
       "    }\n",
       "\n",
       "    .dataframe thead th {\n",
       "        text-align: right;\n",
       "    }\n",
       "</style>\n",
       "<table border=\"1\" class=\"dataframe\">\n",
       "  <thead>\n",
       "    <tr style=\"text-align: right;\">\n",
       "      <th></th>\n",
       "      <th>Model Name</th>\n",
       "      <th>R2 Score</th>\n",
       "      <th>Mean Squared Error</th>\n",
       "    </tr>\n",
       "  </thead>\n",
       "  <tbody>\n",
       "    <tr>\n",
       "      <th>2</th>\n",
       "      <td>Random Forest Regressor</td>\n",
       "      <td>0.686139</td>\n",
       "      <td>4.084095e+07</td>\n",
       "    </tr>\n",
       "    <tr>\n",
       "      <th>1</th>\n",
       "      <td>XG Boost</td>\n",
       "      <td>0.522023</td>\n",
       "      <td>6.219643e+07</td>\n",
       "    </tr>\n",
       "    <tr>\n",
       "      <th>3</th>\n",
       "      <td>K-Neigbors Regressor</td>\n",
       "      <td>0.498402</td>\n",
       "      <td>6.527012e+07</td>\n",
       "    </tr>\n",
       "    <tr>\n",
       "      <th>0</th>\n",
       "      <td>Linear Regression</td>\n",
       "      <td>0.325851</td>\n",
       "      <td>8.772311e+07</td>\n",
       "    </tr>\n",
       "    <tr>\n",
       "      <th>4</th>\n",
       "      <td>Support Vector Regressor</td>\n",
       "      <td>-0.005887</td>\n",
       "      <td>1.308903e+08</td>\n",
       "    </tr>\n",
       "  </tbody>\n",
       "</table>\n",
       "</div>"
      ],
      "text/plain": [
       "                 Model Name  R2 Score  Mean Squared Error\n",
       "2   Random Forest Regressor  0.686139        4.084095e+07\n",
       "1                  XG Boost  0.522023        6.219643e+07\n",
       "3      K-Neigbors Regressor  0.498402        6.527012e+07\n",
       "0         Linear Regression  0.325851        8.772311e+07\n",
       "4  Support Vector Regressor -0.005887        1.308903e+08"
      ]
     },
     "execution_count": 16,
     "metadata": {},
     "output_type": "execute_result"
    }
   ],
   "source": [
    "model_eval()"
   ]
  },
  {
   "cell_type": "code",
   "execution_count": null,
   "id": "aa553f38",
   "metadata": {
    "papermill": {
     "duration": 0.006477,
     "end_time": "2022-12-27T07:03:20.890714",
     "exception": false,
     "start_time": "2022-12-27T07:03:20.884237",
     "status": "completed"
    },
    "tags": []
   },
   "outputs": [],
   "source": []
  }
 ],
 "metadata": {
  "kernelspec": {
   "display_name": "Python 3",
   "language": "python",
   "name": "python3"
  },
  "language_info": {
   "codemirror_mode": {
    "name": "ipython",
    "version": 3
   },
   "file_extension": ".py",
   "mimetype": "text/x-python",
   "name": "python",
   "nbconvert_exporter": "python",
   "pygments_lexer": "ipython3",
   "version": "3.7.12"
  },
  "papermill": {
   "default_parameters": {},
   "duration": 11.937196,
   "end_time": "2022-12-27T07:03:21.618931",
   "environment_variables": {},
   "exception": null,
   "input_path": "__notebook__.ipynb",
   "output_path": "__notebook__.ipynb",
   "parameters": {},
   "start_time": "2022-12-27T07:03:09.681735",
   "version": "2.3.4"
  }
 },
 "nbformat": 4,
 "nbformat_minor": 5
}
